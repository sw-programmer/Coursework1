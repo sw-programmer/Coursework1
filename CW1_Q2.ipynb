{
  "nbformat": 4,
  "nbformat_minor": 0,
  "metadata": {
    "accelerator": "GPU",
    "colab": {
      "name": "CW1_Q2.ipynb",
      "provenance": [],
      "collapsed_sections": [],
      "include_colab_link": true
    },
    "kernelspec": {
      "display_name": "Python 3",
      "name": "python3"
    },
    "language_info": {
      "codemirror_mode": {
        "name": "ipython",
        "version": 3
      },
      "file_extension": ".py",
      "mimetype": "text/x-python",
      "name": "python",
      "nbconvert_exporter": "python",
      "pygments_lexer": "ipython3",
      "version": "3.7.4-final"
    }
  },
  "cells": [
    {
      "cell_type": "markdown",
      "metadata": {
        "id": "view-in-github",
        "colab_type": "text"
      },
      "source": [
        "<a href=\"https://colab.research.google.com/github/sw-programmer/Coursework1/blob/sangwoo/CW1_Q2.ipynb\" target=\"_parent\"><img src=\"https://colab.research.google.com/assets/colab-badge.svg\" alt=\"Open In Colab\"/></a>"
      ]
    },
    {
      "cell_type": "markdown",
      "metadata": {
        "id": "RiDpdqsG2EW4"
      },
      "source": [
        "#  **Coursework 1**\n",
        "\n",
        "1.   ### **Computationally Efficient Eigenfaces**\n",
        "2.   ### **Incremental PCA**\n",
        "3.   ### **PCA-LDA for Face Recognition**\n",
        "4.   ### **K-means codebook**\n",
        "5.   ### **RF classifier**\n",
        "\n",
        "\n",
        "**by 20190223\tSoohyun Ryu,\t20190247\tSangwoo Park**\n",
        "\n",
        "\n",
        "\n",
        "\n"
      ]
    },
    {
      "cell_type": "markdown",
      "metadata": {
        "id": "AvLRciu5QgA8"
      },
      "source": [
        "**1. Setting!**"
      ]
    },
    {
      "cell_type": "code",
      "metadata": {
        "id": "DmFrSEqT2EW5"
      },
      "source": [
        "import pandas as pd\n",
        "import numpy as np\n",
        "import matplotlib.pyplot as plt\n",
        "from scipy import io\n",
        "from sklearn.model_selection import train_test_split\n",
        "from sklearn.decomposition import PCA, IncrementalPCA"
      ],
      "execution_count": 34,
      "outputs": []
    },
    {
      "cell_type": "code",
      "metadata": {
        "id": "bkTIgoexPBxA",
        "colab": {
          "base_uri": "https://localhost:8080/"
        },
        "outputId": "e97f82aa-da5f-4658-e1d5-91b3c73eb98b"
      },
      "source": [
        "from google.colab import drive\n",
        "drive.mount('/content/drive')"
      ],
      "execution_count": 2,
      "outputs": [
        {
          "output_type": "stream",
          "name": "stdout",
          "text": [
            "Mounted at /content/drive\n"
          ]
        }
      ]
    },
    {
      "cell_type": "code",
      "metadata": {
        "id": "PQz1q0Pdh0ZY",
        "colab": {
          "base_uri": "https://localhost:8080/"
        },
        "outputId": "7da7fe0d-2daa-4282-a8c6-e8d65c7849a2"
      },
      "source": [
        "mat_file = io.loadmat(\"/content/drive/MyDrive/CV_ML/CW1/face.mat\")\n",
        "mat_X = mat_file['X']\n",
        "mat_Y = mat_file['l'][0]\n",
        "\n",
        "print(mat_file.keys()) \n",
        "print(mat_X.shape)                         # 총 52명. 각 10장의 사진. "
      ],
      "execution_count": 3,
      "outputs": [
        {
          "output_type": "stream",
          "name": "stdout",
          "text": [
            "dict_keys(['__header__', '__version__', '__globals__', 'X', 'l'])\n",
            "(2576, 520)\n"
          ]
        }
      ]
    },
    {
      "cell_type": "code",
      "metadata": {
        "id": "EZ00poKQHwno",
        "colab": {
          "base_uri": "https://localhost:8080/"
        },
        "outputId": "0f7827a6-d4aa-4bda-e56c-b78da4d49929"
      },
      "source": [
        "df = pd.DataFrame(data=mat_X).transpose()\n",
        "df['label'] = mat_Y                         # row -> data, col -> feature\n",
        "X = df.iloc[:, :-1].values\n",
        "Y = df.iloc[:, -1].values                   # Target column\n",
        "\n",
        "X_train, X_test, y_train, y_test = train_test_split(X, \n",
        "                                                    Y, \n",
        "                                                    test_size=0.2, \n",
        "                                                    shuffle=True,\n",
        "                                                    stratify=Y, \n",
        "                                                    random_state=1000)          \n",
        "# 얼굴 그룹 비율 유지               \n",
        "# test/train ratio = 0.2\n",
        "# random_state -> before dividing, seed for shuffling\n",
        "print('X_train shape:', X_train.shape)\n",
        "print('X_test shape:', X_test.shape)\n",
        "print('y_train shape:', y_train.shape)\n",
        "print('y_test shape:', y_test.shape)\n",
        "np.unique(y_train, return_counts=True)    # 52명의 얼굴이 80%씩 고르게 train set에 들어간 모습"
      ],
      "execution_count": 72,
      "outputs": [
        {
          "output_type": "stream",
          "name": "stdout",
          "text": [
            "X_train shape: (416, 2576)\n",
            "X_test shape: (104, 2576)\n",
            "y_train shape: (416,)\n",
            "y_test shape: (104,)\n"
          ]
        },
        {
          "output_type": "execute_result",
          "data": {
            "text/plain": [
              "(array([ 1,  2,  3,  4,  5,  6,  7,  8,  9, 10, 11, 12, 13, 14, 15, 16, 17,\n",
              "        18, 19, 20, 21, 22, 23, 24, 25, 26, 27, 28, 29, 30, 31, 32, 33, 34,\n",
              "        35, 36, 37, 38, 39, 40, 41, 42, 43, 44, 45, 46, 47, 48, 49, 50, 51,\n",
              "        52], dtype=uint8),\n",
              " array([8, 8, 8, 8, 8, 8, 8, 8, 8, 8, 8, 8, 8, 8, 8, 8, 8, 8, 8, 8, 8, 8,\n",
              "        8, 8, 8, 8, 8, 8, 8, 8, 8, 8, 8, 8, 8, 8, 8, 8, 8, 8, 8, 8, 8, 8,\n",
              "        8, 8, 8, 8, 8, 8, 8, 8]))"
            ]
          },
          "metadata": {},
          "execution_count": 72
        }
      ]
    },
    {
      "cell_type": "code",
      "metadata": {
        "colab": {
          "base_uri": "https://localhost:8080/"
        },
        "id": "MYOf_U2bpHcI",
        "outputId": "22b932a6-fc58-4f6c-9e63-ae306c6b8a65"
      },
      "source": [
        "X_train_lefthalf, X_train_righthalf, y_train_lefthalf, y_trian_righthalf = train_test_split(X_train, \n",
        "                                                    y_train, \n",
        "                                                    test_size=0.5, \n",
        "                                                    shuffle=True,\n",
        "                                                    stratify=y_train, \n",
        "                                                    random_state=35)\n",
        "\n",
        "# train set 4개로 분리\n",
        "X_train_1, X_train_2, y_train_1, y_trian_2 = train_test_split(X_train_lefthalf, \n",
        "                                                    y_train_lefthalf, \n",
        "                                                    test_size=0.5, \n",
        "                                                    shuffle=True,\n",
        "                                                    stratify=y_train_lefthalf, \n",
        "                                                    random_state=35)\n",
        "\n",
        "X_train_3, X_train_4, y_train_3, y_trian_4 = train_test_split(X_train_righthalf, \n",
        "                                                    y_trian_righthalf, \n",
        "                                                    test_size=0.5, \n",
        "                                                    shuffle=True,\n",
        "                                                    stratify=y_trian_righthalf, \n",
        "                                                    random_state=35)\n",
        "\n",
        "print(np.unique(y_train_3, return_counts=True)) # 인당 2개의 image가 각 data set에 포함"
      ],
      "execution_count": 38,
      "outputs": [
        {
          "output_type": "stream",
          "name": "stdout",
          "text": [
            "(array([ 1,  2,  3,  4,  5,  6,  7,  8,  9, 10, 11, 12, 13, 14, 15, 16, 17,\n",
            "       18, 19, 20, 21, 22, 23, 24, 25, 26, 27, 28, 29, 30, 31, 32, 33, 34,\n",
            "       35, 36, 37, 38, 39, 40, 41, 42, 43, 44, 45, 46, 47, 48, 49, 50, 51,\n",
            "       52], dtype=uint8), array([2, 2, 2, 2, 2, 2, 2, 2, 2, 2, 2, 2, 2, 2, 2, 2, 2, 2, 2, 2, 2, 2,\n",
            "       2, 2, 2, 2, 2, 2, 2, 2, 2, 2, 2, 2, 2, 2, 2, 2, 2, 2, 2, 2, 2, 2,\n",
            "       2, 2, 2, 2, 2, 2, 2, 2]))\n"
          ]
        }
      ]
    },
    {
      "cell_type": "code",
      "metadata": {
        "id": "08Dial6zDJui"
      },
      "source": [
        "# 평균 얼굴 계산 함수 \n",
        "def AvgCompute(X): \n",
        "  Xbar = np.mean(X, axis=0)  \n",
        "  matrix_A = X - Xbar \n",
        "  return matrix_A, Xbar\n",
        "\n",
        "# 고유값, 고유벡터 계산 함수\n",
        "def eig(S): \n",
        "  eig_vals, eig_vecs = np.linalg.eig(S) \n",
        "  sort_indices = np.argsort(eig_vals)[::-1] # 내림차순 정렬 \n",
        "  return eig_vals[sort_indices], eig_vecs[:, sort_indices]\n",
        "\n",
        "# Reconstruction에 쓰일 함수\n",
        "def reconstruct(X, PC):\n",
        "  return (X @ PC) @ PC.T \n",
        "\n",
        "# PCA 과정\n",
        "def PCA(X, num_components, condition=1): # X == train set, num_components == 선택할 eigen vectoe 개수, condition == 1 -> low, otherwise high\n",
        "  N, D = X.shape \n",
        "  matrix_A, X_bar = AvgCompute(X)\n",
        "  if condition == 1 : \n",
        "    S = (matrix_A @ matrix_A.T) / N\n",
        "  else: \n",
        "    S = (matrix_A.T @ matrix_A) / N\n",
        "\n",
        "  eig_vals, eig_vecs = eig(S) \n",
        "  \n",
        "  principal_vals, principal_components = np.real(eig_vals[:num_components]), np.real(eig_vecs[:,:num_components]) \n",
        "  \n",
        "  reconst_X = reconstruct(matrix_A, principal_components) + X_bar\n",
        "  reconst_Err = np.sqrt( np.sum( np.square( reconst_X - X ) ))\n",
        "  \n",
        "  Projected_X = X @ principal_components\n",
        "\n",
        "  return Projected_X, X_bar, principal_components, reconst_Err"
      ],
      "execution_count": 50,
      "outputs": []
    },
    {
      "cell_type": "markdown",
      "metadata": {
        "id": "yV3N-ybZASKg"
      },
      "source": [
        "### Batch PCA ###"
      ]
    },
    {
      "cell_type": "code",
      "metadata": {
        "colab": {
          "base_uri": "https://localhost:8080/"
        },
        "id": "UwtwsW0ytAj7",
        "outputId": "a02e0bb6-c2dc-4b73-c02d-6d08ccf32d1c"
      },
      "source": [
        "# from sklearn.decomposition import PCA\n",
        "from sklearn.metrics import accuracy_score\n",
        "import time\n",
        "start = time.time()\n",
        "\n",
        "X_Projected, X_bar, principal_components, reconst_Err = PCA(X_train, 100, 0)\n",
        "\n",
        "print(f\"Training time: {time.time() - start}s\")"
      ],
      "execution_count": 73,
      "outputs": [
        {
          "output_type": "stream",
          "name": "stdout",
          "text": [
            "Training time: 15.634403944015503s\n"
          ]
        }
      ]
    },
    {
      "cell_type": "code",
      "metadata": {
        "colab": {
          "base_uri": "https://localhost:8080/"
        },
        "id": "0rrKQMlP8AUg",
        "outputId": "281f3c92-a38e-4a57-918b-e55d112c5d30"
      },
      "source": [
        "# Reconstruction Error\n",
        "print(reconst_Err)"
      ],
      "execution_count": 74,
      "outputs": [
        {
          "output_type": "stream",
          "name": "stdout",
          "text": [
            "10858.835929213785\n"
          ]
        }
      ]
    },
    {
      "cell_type": "code",
      "metadata": {
        "colab": {
          "base_uri": "https://localhost:8080/"
        },
        "id": "ql7Xd6bS8FUH",
        "outputId": "a3f077b2-fbd4-45b7-feb6-3fc1fe36c2ec"
      },
      "source": [
        "# NN Classfication\n",
        "X_result = X_test @ principal_components\n",
        "\n",
        "y_pred = []\n",
        "label = 0\n",
        "for query in X_result:\n",
        "  Args = []\n",
        "  for trained in X_Projected:\n",
        "    Args.append(np.linalg.norm(query - trained))\n",
        "  y_pred.append(y_train[np.argmin(Args)])\n",
        "\n",
        "print(accuracy_score(y_test, y_pred))"
      ],
      "execution_count": 75,
      "outputs": [
        {
          "output_type": "stream",
          "name": "stdout",
          "text": [
            "0.5865384615384616\n"
          ]
        }
      ]
    }
  ]
}