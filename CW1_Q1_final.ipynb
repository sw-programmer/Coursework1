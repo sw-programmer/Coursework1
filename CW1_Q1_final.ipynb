{
  "nbformat": 4,
  "nbformat_minor": 0,
  "metadata": {
    "accelerator": "GPU",
    "colab": {
      "name": "CW1_Q1.ipynb",
      "provenance": [],
      "collapsed_sections": [],
      "include_colab_link": true
    },
    "kernelspec": {
      "display_name": "Python 3",
      "name": "python3"
    },
    "language_info": {
      "codemirror_mode": {
        "name": "ipython",
        "version": 3
      },
      "file_extension": ".py",
      "mimetype": "text/x-python",
      "name": "python",
      "nbconvert_exporter": "python",
      "pygments_lexer": "ipython3",
      "version": "3.7.4-final"
    }
  },
  "cells": [
    {
      "cell_type": "markdown",
      "metadata": {
        "id": "view-in-github",
        "colab_type": "text"
      },
      "source": [
        "<a href=\"https://colab.research.google.com/github/sw-programmer/Coursework1/blob/main/CW1_Q1_final.ipynb\" target=\"_parent\"><img src=\"https://colab.research.google.com/assets/colab-badge.svg\" alt=\"Open In Colab\"/></a>"
      ]
    },
    {
      "cell_type": "markdown",
      "metadata": {
        "id": "RiDpdqsG2EW4"
      },
      "source": [
        "#  **Coursework 1**\n",
        "\n",
        "1.   ### **Computationally Efficient Eigenfaces**\n",
        "2.   ### **Incremental PCA**\n",
        "3.   ### **PCA-LDA for Face Recognition**\n",
        "4.   ### **K-means codebook**\n",
        "5.   ### **RF classifier**\n",
        "\n",
        "\n",
        "**by 20190223\tSoohyun Ryu,\t20190247\tSangwoo Park**\n",
        "\n",
        "\n",
        "\n",
        "\n"
      ]
    },
    {
      "cell_type": "markdown",
      "metadata": {
        "id": "AvLRciu5QgA8"
      },
      "source": [
        "**1. Setting!**"
      ]
    },
    {
      "cell_type": "code",
      "metadata": {
        "id": "DmFrSEqT2EW5"
      },
      "source": [
        "import os\n",
        "import time\n",
        "# import torch\n",
        "# import torch.nn as nn\n",
        "# import torchvision.transforms as transforms\n",
        "# import matplotlib.pyplot as plt\n",
        "# import datetime\n",
        "# import math\n",
        "# import sys\n",
        "import pandas as pd\n",
        "import numpy as np\n",
        "import matplotlib.pyplot as plt\n",
        "from scipy import io\n",
        "from sklearn.model_selection import train_test_split"
      ],
      "execution_count": 1,
      "outputs": []
    },
    {
      "cell_type": "code",
      "metadata": {
        "id": "bkTIgoexPBxA",
        "colab": {
          "base_uri": "https://localhost:8080/"
        },
        "outputId": "fe1cc17b-41a4-49e1-d70e-f3f38584dd18"
      },
      "source": [
        "from google.colab import drive\n",
        "drive.mount('/content/drive')"
      ],
      "execution_count": 2,
      "outputs": [
        {
          "output_type": "stream",
          "name": "stdout",
          "text": [
            "Mounted at /content/drive\n"
          ]
        }
      ]
    },
    {
      "cell_type": "code",
      "metadata": {
        "id": "PQz1q0Pdh0ZY",
        "colab": {
          "base_uri": "https://localhost:8080/"
        },
        "outputId": "ab6c00d4-4c5f-4b73-c13e-7e17a9d6c7cd"
      },
      "source": [
        "mat_file = io.loadmat(\"/content/drive/MyDrive/CV_ML/CW1/face.mat\")\n",
        "mat_X = mat_file['X']\n",
        "mat_Y = mat_file['l'][0]\n",
        "\n",
        "print(mat_file.keys()) \n",
        "print(mat_X.shape)                         # 총 52명. 각 10장의 사진. "
      ],
      "execution_count": 3,
      "outputs": [
        {
          "output_type": "stream",
          "name": "stdout",
          "text": [
            "dict_keys(['__header__', '__version__', '__globals__', 'X', 'l'])\n",
            "(2576, 520)\n"
          ]
        }
      ]
    },
    {
      "cell_type": "code",
      "metadata": {
        "id": "EZ00poKQHwno",
        "colab": {
          "base_uri": "https://localhost:8080/"
        },
        "outputId": "5fcb1da3-c49d-4a98-ad5f-e3ac391ca8a0"
      },
      "source": [
        "df = pd.DataFrame(data=mat_X).transpose()\n",
        "df['label'] = mat_Y                         # row -> data, col -> feature\n",
        "X = df.iloc[:, :-1].values\n",
        "Y = df.iloc[:, -1].values                   # Target column\n",
        "\n",
        "X_train, X_test, y_train, y_test = train_test_split(X, \n",
        "                                                    Y, \n",
        "                                                    test_size=0.2, \n",
        "                                                    shuffle=True,\n",
        "                                                    stratify=Y, \n",
        "                                                    random_state=1004)          \n",
        "# 얼굴 그룹 비율 유지               \n",
        "# test/train ratio = 0.2\n",
        "# random_state -> before dividing, seed for shuffling\n",
        "print('X_train shape:', X_train.shape)\n",
        "print('X_test shape:', X_test.shape)\n",
        "print('y_train shape:', y_train.shape)\n",
        "print('y_test shape:', y_test.shape)\n",
        "np.unique(y_train, return_counts=True)    # 52명의 얼굴이 80%씩 고르게 train set에 들어간 모습"
      ],
      "execution_count": 4,
      "outputs": [
        {
          "output_type": "stream",
          "name": "stdout",
          "text": [
            "X_train shape: (416, 2576)\n",
            "X_test shape: (104, 2576)\n",
            "y_train shape: (416,)\n",
            "y_test shape: (104,)\n"
          ]
        },
        {
          "output_type": "execute_result",
          "data": {
            "text/plain": [
              "(array([ 1,  2,  3,  4,  5,  6,  7,  8,  9, 10, 11, 12, 13, 14, 15, 16, 17,\n",
              "        18, 19, 20, 21, 22, 23, 24, 25, 26, 27, 28, 29, 30, 31, 32, 33, 34,\n",
              "        35, 36, 37, 38, 39, 40, 41, 42, 43, 44, 45, 46, 47, 48, 49, 50, 51,\n",
              "        52], dtype=uint8),\n",
              " array([8, 8, 8, 8, 8, 8, 8, 8, 8, 8, 8, 8, 8, 8, 8, 8, 8, 8, 8, 8, 8, 8,\n",
              "        8, 8, 8, 8, 8, 8, 8, 8, 8, 8, 8, 8, 8, 8, 8, 8, 8, 8, 8, 8, 8, 8,\n",
              "        8, 8, 8, 8, 8, 8, 8, 8]))"
            ]
          },
          "metadata": {},
          "execution_count": 4
        }
      ]
    },
    {
      "cell_type": "markdown",
      "metadata": {
        "id": "ViTBzz6jUGM0"
      },
      "source": [
        "## **1. Computationally Efficient Eignefaces**\n",
        "\n"
      ]
    },
    {
      "cell_type": "code",
      "metadata": {
        "id": "08Dial6zDJui"
      },
      "source": [
        "\n",
        "# 평균 얼굴 계산 함수 \n",
        "def AvgCompute(X): \n",
        "  Xbar = np.mean(X, axis=0)  \n",
        "  matrix_A = X - Xbar \n",
        "  return matrix_A, Xbar\n",
        "\n",
        "# 고유값, 고유벡터 계산 함수\n",
        "def eig(S): \n",
        "  eig_vals, eig_vecs = np.linalg.eig(S) \n",
        "  sort_indices = np.argsort(eig_vals)[::-1] # 내림차순 정렬 \n",
        "  return eig_vals[sort_indices], eig_vecs[:, sort_indices]\n",
        "\n",
        "# Reconstruction에 쓰일 함수\n",
        "def reconstruct(X, PC): \n",
        "  return (X @ PC) @ PC.T\n",
        "\n",
        "# PCA 과정\n",
        "def PCA(X, num_components, low_dim = False): # X == train set, num_components == 선택할 eigen vector 개수\n",
        "  start = time.time()\n",
        "  N, D = X.shape \n",
        "  matrix_A, X_bar = AvgCompute(X)\n",
        "  if not low_dim:\n",
        "    S = (matrix_A.T @ matrix_A) / N\n",
        "  else:\n",
        "    S = (matrix_A @ matrix_A.T) / N\n",
        "\n",
        "  eig_vals, eig_vecs = eig(S)\n",
        "  principal_vals, principal_components = np.real(eig_vals[:num_components]), np.real(eig_vecs[:,:num_components]) \n",
        "  \n",
        "  if low_dim:\n",
        "    norm = np.linalg.norm(matrix_A.T @ principal_components, axis = 0)\n",
        "    principal_components = ((matrix_A.T @ principal_components) / norm[np.newaxis, :])\n",
        "\n",
        "  reconst_X = reconstruct(matrix_A, principal_components) + X_bar \n",
        "  comp_time = time.time() - start\n",
        "  \n",
        "  return reconst_X, X_bar, principal_vals, principal_components, comp_time"
      ],
      "execution_count": 5,
      "outputs": []
    },
    {
      "cell_type": "code",
      "metadata": {
        "id": "hMC9_YPEYCR7",
        "colab": {
          "base_uri": "https://localhost:8080/",
          "height": 284
        },
        "outputId": "4e819906-6a68-4d24-e3a0-2eb1563f1bbf"
      },
      "source": [
        "A, X_bar = AvgCompute(X_train) \n",
        "A = A.T\n",
        "\n",
        "plt.imshow(np.reshape(X_bar,(46,56)).T, cmap = 'gist_gray') # 평균 얼굴 출력"
      ],
      "execution_count": 6,
      "outputs": [
        {
          "output_type": "execute_result",
          "data": {
            "text/plain": [
              "<matplotlib.image.AxesImage at 0x7f7743170c10>"
            ]
          },
          "metadata": {},
          "execution_count": 6
        },
        {
          "output_type": "display_data",
          "data": {
            "image/png": "[encoded data removed]",
            "text/plain": [
              "<Figure size 432x288 with 1 Axes>"
            ]
          },
          "metadata": {
            "needs_background": "light"
          }
        }
      ]
    },
    {
      "cell_type": "code",
      "metadata": {
        "id": "3iC58f_Qh4d9",
        "colab": {
          "base_uri": "https://localhost:8080/"
        },
        "outputId": "555d3b46-2628-4320-c2a8-4b6e94a8e745"
      },
      "source": [
        "### 1. S=(1/N)AAT 방식 ###\n",
        "row, col = X_train.shape\n",
        "start = time.time()\n",
        "S = (A @ A.T) / row\n",
        "eigvals_hi, eigvecs_hi = eig(S) # High dimnesional\n",
        "time_hi = time.time()-start\n",
        "eigvals_hi = np.real(eigvals_hi)\n",
        "eigvecs_hi = np.real(eigvecs_hi)\n",
        "\n",
        "print(eigvals_hi.shape)"
      ],
      "execution_count": 35,
      "outputs": [
        {
          "output_type": "stream",
          "name": "stdout",
          "text": [
            "(2576,)\n"
          ]
        }
      ]
    },
    {
      "cell_type": "code",
      "metadata": {
        "id": "fsdeit4WcTRC",
        "colab": {
          "base_uri": "https://localhost:8080/"
        },
        "outputId": "ccc7fa6b-36f1-4336-b738-98b38322596f"
      },
      "source": [
        "### 2.  (1/N)ATA 방식 ###\n",
        "start = time.time()\n",
        "S = (A.T @ A) / row\n",
        "eigvals_lo, eigvecs_lo = eig(S) # Low dimnesional\n",
        "time_lo = time.time()-start\n",
        "eigvals_lo = np.real(eigvals_lo)\n",
        "eigvecs_lo = np.real(eigvecs_lo)\n",
        "\n",
        "print(eigvals_lo.shape)\n",
        "print(eigvecs_lo.shape)"
      ],
      "execution_count": 36,
      "outputs": [
        {
          "output_type": "stream",
          "name": "stdout",
          "text": [
            "(416,)\n",
            "(416, 416)\n"
          ]
        }
      ]
    },
    {
      "cell_type": "markdown",
      "metadata": {
        "id": "xsB8Zzuul1vZ"
      },
      "source": [
        "* Pros : Effieciency of Computation\n",
        "* Cons : 선택할 수 있는 EigenVector 수가 적다(?) -> Less accurate\n",
        "\n"
      ]
    },
    {
      "cell_type": "code",
      "metadata": {
        "id": "L3STPrLAlsDe",
        "colab": {
          "base_uri": "https://localhost:8080/",
          "height": 558
        },
        "outputId": "6c704f8d-41bd-44ab-dee1-d0b893c82a76"
      },
      "source": [
        "### eigval / eigvec 비교 ###\n",
        "# fig = plt.figure(figsize=(5,6))\n",
        "# ax1 = fig.add_subplot(211)\n",
        "# plt.title('Low_Dim')\n",
        "# ax1.plot(range(0,20), eigvals_lo[:20], color='orange')\n",
        "# ax2 = fig.add_subplot(212)\n",
        "# plt.title('High_Dim')\n",
        "# ax2.plot(range(0,20), eigvals_hi[:20])\t # 두 방식에서 eigenvalue 그래프가 동일함\n",
        "\n",
        "plt.figure(figsize=(5,4))\n",
        "plt.plot(range(0,20), eigvals_lo[:20], color='orange', label = \"Low_dim\")\n",
        "plt.plot(range(0,20), eigvals_hi[:20], label = \"High_dim\")\n",
        "plt.xlabel('Index')\n",
        "plt.ylabel('Eigenvalue')\n",
        "plt.legend()\n",
        "plt.show()\n",
        "\n",
        "\n",
        "low = np.linalg.norm(A @ eigvecs_lo[:,:5], axis = 0)\n",
        "print(eigvecs_hi[:,:5])\n",
        "print(A @ eigvecs_lo[:,:5] / low[np.newaxis,:])             # low dim에서 A를 곱해주면 eigenvector 방향까지 동일해짐\n",
        "\n",
        "print(f\"Computation time for high_dim PCA = {time_hi}\")\n",
        "print(f\"Computation time for low_dim PCA = {time_lo}\")"
      ],
      "execution_count": 37,
      "outputs": [
        {
          "output_type": "display_data",
          "data": {
            "image/png": "[encoded data removed]",
            "text/plain": [
              "<Figure size 360x288 with 1 Axes>"
            ]
          },
          "metadata": {
            "needs_background": "light"
          }
        },
        {
          "output_type": "stream",
          "name": "stdout",
          "text": [
            "[[ 0.01472612 -0.01452073  0.02083939 -0.0010252   0.00149127]\n",
            " [ 0.01568776 -0.01451353  0.02166585 -0.00481855  0.00075976]\n",
            " [ 0.01620521 -0.01268219  0.02312839 -0.00612816  0.00139742]\n",
            " ...\n",
            " [-0.00386158  0.04922071 -0.01225171 -0.02995161 -0.00146651]\n",
            " [-0.00348498  0.04975527 -0.01235822 -0.03482284 -0.00056609]\n",
            " [-0.00338921  0.0502941  -0.01397589 -0.03552668  0.00163263]]\n",
            "[[-0.01472612 -0.01452073  0.02083939  0.0010252   0.00149127]\n",
            " [-0.01568776 -0.01451353  0.02166585  0.00481855  0.00075976]\n",
            " [-0.01620521 -0.01268219  0.02312839  0.00612816  0.00139742]\n",
            " ...\n",
            " [ 0.00386158  0.04922071 -0.01225171  0.02995161 -0.00146651]\n",
            " [ 0.00348498  0.04975527 -0.01235822  0.03482284 -0.00056609]\n",
            " [ 0.00338921  0.0502941  -0.01397589  0.03552668  0.00163263]]\n",
            "Computation time for high_dim PCA = 16.29594874382019\n",
            "Computation time for low_dim PCA = 0.2721822261810303\n"
          ]
        }
      ]
    },
    {
      "cell_type": "code",
      "metadata": {
        "colab": {
          "base_uri": "https://localhost:8080/"
        },
        "id": "e2CguaSS1i9Q",
        "outputId": "265d9583-4df2-470d-f25f-382ef686eed4"
      },
      "source": [
        "count = 0\n",
        "\n",
        "for i in eigvals_hi:\n",
        "  if(i==0): count = count + 1\n",
        "\n",
        "print(count)"
      ],
      "execution_count": 34,
      "outputs": [
        {
          "output_type": "stream",
          "name": "stdout",
          "text": [
            "0\n"
          ]
        }
      ]
    },
    {
      "cell_type": "code",
      "metadata": {
        "id": "NFicPNM2Y8SN",
        "colab": {
          "base_uri": "https://localhost:8080/",
          "height": 1000
        },
        "outputId": "ead31c18-8279-4836-c777-d8fba5a19fa5"
      },
      "source": [
        "# number of PCA bases 바꾸면서 reconstruction error 측정\n",
        "max_num = 100\n",
        "start_num = 10\n",
        "error_list = []\n",
        "computation_time = []\n",
        "\n",
        "os.makedirs(\"./PCA_org\", exist_ok=True)\n",
        "os.makedirs(\"./PCA_low_dim\", exist_ok=True)\n",
        "\n",
        "# Original PCA / Low-dim PCA\n",
        "low_dim=True\n",
        "# low_dim=True\n",
        "if low_dim:\n",
        "    root_path = \"./PCA_low_dim\"\n",
        "else:\n",
        "    root_path = \"./PCA_org\"\n",
        "\n",
        "for i in range(start_num, max_num+1):\n",
        "    reconst_X, X_bar, principal_vals, principal_components, comp_time = PCA(X_train, i, low_dim)\n",
        "    recon_loss = np.linalg.norm((X_train - reconst_X), None)\n",
        "    error_list.append(recon_loss)\n",
        "    computation_time.append(comp_time)\n",
        "    # To see the reconstructed images\n",
        "    plt.imsave(f\"{root_path}/{i}_recon.png\", np.reshape(reconst_X[0,:],(46,56)).T, cmap = 'gist_gray')\n",
        "    print(f\"{i-start_num+1}/{max_num-start_num+1}\")\n",
        "\n",
        "if not low_dim:\n",
        "    PCA_name = \"Original PCA\"\n",
        "else:\n",
        "    PCA_name = \"Low-dim PCA\"\n",
        "\n",
        "x_axis = list(range(start_num, max_num+1))\n",
        "fig_recon, ax_recon = plt.subplots(2,1)\n",
        "ax_recon[0].plot(x_axis, error_list)\n",
        "ax_recon[0].set_xlabel(\"number of PCA bases\")\n",
        "ax_recon[0].set_ylabel(\"reconstruction error\")\n",
        "ax_recon[0].set_title(f\"Reconstruction error of {PCA_name}\")\n",
        "\n",
        "ax_recon[1].plot(x_axis, computation_time)\n",
        "ax_recon[1].set_xlabel(\"number of PCA bases\")\n",
        "ax_recon[1].set_ylabel(\"computation time\")\n",
        "ax_recon[1].set_title(f\"Computation time of {PCA_name}\")\n",
        "\n",
        "fig_recon.tight_layout(pad=2.0)\n",
        "\n",
        "plt.show()\n",
        "\n",
        "print(f\"average computation time = {np.mean(computation_time)}\")"
      ],
      "execution_count": 10,
      "outputs": [
        {
          "output_type": "stream",
          "name": "stdout",
          "text": [
            "1/91\n",
            "2/91\n",
            "3/91\n",
            "4/91\n",
            "5/91\n",
            "6/91\n",
            "7/91\n",
            "8/91\n",
            "9/91\n",
            "10/91\n",
            "11/91\n",
            "12/91\n",
            "13/91\n",
            "14/91\n",
            "15/91\n",
            "16/91\n",
            "17/91\n",
            "18/91\n",
            "19/91\n",
            "20/91\n",
            "21/91\n",
            "22/91\n",
            "23/91\n",
            "24/91\n",
            "25/91\n",
            "26/91\n",
            "27/91\n",
            "28/91\n",
            "29/91\n",
            "30/91\n",
            "31/91\n",
            "32/91\n",
            "33/91\n",
            "34/91\n",
            "35/91\n",
            "36/91\n",
            "37/91\n",
            "38/91\n",
            "39/91\n",
            "40/91\n",
            "41/91\n",
            "42/91\n",
            "43/91\n",
            "44/91\n",
            "45/91\n",
            "46/91\n",
            "47/91\n",
            "48/91\n",
            "49/91\n",
            "50/91\n",
            "51/91\n",
            "52/91\n",
            "53/91\n",
            "54/91\n",
            "55/91\n",
            "56/91\n",
            "57/91\n",
            "58/91\n",
            "59/91\n",
            "60/91\n",
            "61/91\n",
            "62/91\n",
            "63/91\n",
            "64/91\n",
            "65/91\n",
            "66/91\n",
            "67/91\n",
            "68/91\n",
            "69/91\n",
            "70/91\n",
            "71/91\n",
            "72/91\n",
            "73/91\n",
            "74/91\n",
            "75/91\n",
            "76/91\n",
            "77/91\n",
            "78/91\n",
            "79/91\n",
            "80/91\n",
            "81/91\n",
            "82/91\n",
            "83/91\n",
            "84/91\n",
            "85/91\n",
            "86/91\n",
            "87/91\n",
            "88/91\n",
            "89/91\n",
            "90/91\n",
            "91/91\n"
          ]
        },
        {
          "output_type": "display_data",
          "data": {
            "image/png": "[encoded data removed]",
            "text/plain": [
              "<Figure size 432x288 with 2 Axes>"
            ]
          },
          "metadata": {
            "needs_background": "light"
          }
        },
        {
          "output_type": "stream",
          "name": "stdout",
          "text": [
            "average computation time = 0.24931910797789858\n"
          ]
        }
      ]
    }
  ]
}