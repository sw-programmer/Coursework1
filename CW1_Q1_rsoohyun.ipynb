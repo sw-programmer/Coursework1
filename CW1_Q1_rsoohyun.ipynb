{
  "cells": [
    {
      "cell_type": "markdown",
      "metadata": {
        "colab_type": "text",
        "id": "view-in-github"
      },
      "source": [
        "<a href=\"https://colab.research.google.com/github/sw-programmer/Coursework1/blob/main/CW1.ipynb\" target=\"_parent\"><img src=\"https://colab.research.google.com/assets/colab-badge.svg\" alt=\"Open In Colab\"/></a>"
      ]
    },
    {
      "cell_type": "markdown",
      "metadata": {
        "id": "RiDpdqsG2EW4"
      },
      "source": [
        "#  **Coursework 1**\n",
        "\n",
        "1.   ### **Computationally Efficient Eigenfaces**\n",
        "2.   ### **Incremental PCA**\n",
        "3.   ### **PCA-LDA for Face Recognition**\n",
        "4.   ### **K-means codebook**\n",
        "5.   ### **RF classifier**\n",
        "\n",
        "\n",
        "**by 20190223\tSoohyun Ryu,\t20190247\tSangwoo Park**\n",
        "\n",
        "\n",
        "\n",
        "\n"
      ]
    },
    {
      "cell_type": "markdown",
      "metadata": {
        "id": "AvLRciu5QgA8"
      },
      "source": [
        "**1. Setting!**"
      ]
    },
    {
      "cell_type": "code",
      "execution_count": 1,
      "metadata": {
        "id": "DmFrSEqT2EW5"
      },
      "outputs": [
        {
          "name": "stderr",
          "output_type": "stream",
          "text": [
            "Matplotlib is building the font cache; this may take a moment.\n"
          ]
        }
      ],
      "source": [
        "# import os\n",
        "# import time\n",
        "# import torch\n",
        "# import torch.nn as nn\n",
        "# import torchvision.transforms as transforms\n",
        "# import matplotlib.pyplot as plt\n",
        "# import datetime\n",
        "# import math\n",
        "# import sys\n",
        "import pandas as pd\n",
        "import numpy as np\n",
        "import matplotlib.pyplot as plt\n",
        "from scipy import io\n",
        "from sklearn.model_selection import train_test_split"
      ]
    },
    {
      "cell_type": "code",
      "execution_count": 4,
      "metadata": {
        "colab": {
          "base_uri": "https://localhost:8080/"
        },
        "id": "PQz1q0Pdh0ZY",
        "outputId": "58407c60-a8ae-4083-9061-f39550681647"
      },
      "outputs": [
        {
          "name": "stdout",
          "output_type": "stream",
          "text": [
            "dict_keys(['__header__', '__version__', '__globals__', 'X', 'l'])\n",
            "(2576, 520)\n",
            "(520,)\n"
          ]
        }
      ],
      "source": [
        "mat_file = io.loadmat(\"./face.mat\")\n",
        "mat_X = mat_file['X']\n",
        "mat_Y = mat_file['l'][0]\n",
        "\n",
        "print(mat_file.keys()) \n",
        "print(mat_X.shape)                         # 총 52명. 각 10장의 사진.\n",
        "print(mat_Y.shape) "
      ]
    },
    {
      "cell_type": "code",
      "execution_count": 60,
      "metadata": {
        "colab": {
          "base_uri": "https://localhost:8080/"
        },
        "id": "EZ00poKQHwno",
        "outputId": "07c50395-97d0-4c56-a55d-85de19218082"
      },
      "outputs": [
        {
          "name": "stdout",
          "output_type": "stream",
          "text": [
            "       0    1    2    3    4    5  ...  2571  2572  2573  2574  2575  label\n",
            "0    106  103  103  104  101  104  ...    41    41    37    36    41      1\n",
            "1    130  129  130  129  133  135  ...    43    41    40    36    35      1\n",
            "2    191  185  174  153  137  114  ...    28    25    22    19    17      1\n",
            "3    161  156  141  132  133  108  ...    57    58    58    59    60      1\n",
            "4    161  162  160  151  107  101  ...    55    52    50    47    46      1\n",
            "..   ...  ...  ...  ...  ...  ...  ...   ...   ...   ...   ...   ...    ...\n",
            "515  181  170  163  160  156  148  ...    93    75    61    50    45     52\n",
            "516   60   68   71   77   76   78  ...    86    86    41    48    65     52\n",
            "517   70   62   83   75   65   71  ...    83    83    87    89    94     52\n",
            "518  183  250  163   61   74   51  ...   123    86   102    95   106     52\n",
            "519   77   72   68   64   62   55  ...    73   142    93   103   110     52\n",
            "\n",
            "[520 rows x 2577 columns]\n",
            "(416, 2576) (104, 2576) (416,) (104,)\n"
          ]
        }
      ],
      "source": [
        "df = pd.DataFrame(data=mat_X).transpose()\n",
        "df['label'] = mat_Y                         # row -> data, col -> feature\n",
        "print(df)\n",
        "\n",
        "X = df.iloc[:, :-1].values\n",
        "Y = df.iloc[:, -1].values # column 'Target'\n",
        "\n",
        "X_train, X_test, Y_train, Y_test = train_test_split( X, Y, test_size=0.2, random_state=35) #sklearn lib\n",
        "# test/train ratio = 0.2\n",
        "# random_state -> before dividing, seed for shuffling\n",
        "print(X_train.shape, X_test.shape, Y_train.shape, Y_test.shape)"
      ]
    },
    {
      "cell_type": "markdown",
      "metadata": {
        "id": "ViTBzz6jUGM0"
      },
      "source": [
        "## **1. Computationally Efficient Eignefaces**\n",
        "\n"
      ]
    },
    {
      "cell_type": "code",
      "execution_count": null,
      "metadata": {},
      "outputs": [],
      "source": [
        "# 평균 얼굴 계산 함수 \n",
        "def AvgCompute(X): \n",
        "  Xbar = np.mean(X, axis=0)  \n",
        "  matrix_A = X - Xbar \n",
        "  return matrix_A, Xbar\n",
        "\n",
        "# 고유값, 고유벡터 계산 함수\n",
        "def eig(S): \n",
        "  eig_vals, eig_vecs = np.linalg.eig(S) \n",
        "  sort_indices = np.argsort(eig_vals)[::-1] # 내림차순 정렬 \n",
        "  return eig_vals[sort_indices], eig_vecs[:, sort_indices]\n",
        "\n",
        "# Reconstruction에 쓰일 함수\n",
        "def reconstruct(X, PC): \n",
        "  return (X @ PC) @ PC.T \n",
        "\n",
        "# PCA 과정\n",
        "def PCA(X, num_components): # X == train set, num_components == 선택할 eigen vectoe 개수\n",
        "  N, D = X.shape \n",
        "  matrix_A, X_bar = AvgCompute(X) \n",
        "  S = (matrix_A.T @ matrix_A) / N \n",
        "  eig_vals, eig_vecs = eig(S) \n",
        "  \n",
        "  principal_vals, principal_components = np.real(eig_vals[:num_components]), np.real(eig_vecs[:,:num_components]) \n",
        "  \n",
        "  reconst_X = reconstruct(matrix_A, principal_components) + X_bar \n",
        "  \n",
        "  return reconst_X, X_bar, principal_vals, principal_components"
      ]
    }
  ],
  "metadata": {
    "accelerator": "GPU",
    "colab": {
      "collapsed_sections": [],
      "include_colab_link": true,
      "name": "CW1.ipynb",
      "provenance": []
    },
    "interpreter": {
      "hash": "d5d6455245eaf2d3a0cefd1d4e544c90a6d9a7d66e780d97de78b5ceeb836907"
    },
    "kernelspec": {
      "display_name": "Python 3.8.10 64-bit ('study': conda)",
      "name": "python3"
    },
    "language_info": {
      "codemirror_mode": {
        "name": "ipython",
        "version": 3
      },
      "file_extension": ".py",
      "mimetype": "text/x-python",
      "name": "python",
      "nbconvert_exporter": "python",
      "pygments_lexer": "ipython3",
      "version": "3.8.10"
    },
    "orig_nbformat": 2
  },
  "nbformat": 4,
  "nbformat_minor": 0
}
