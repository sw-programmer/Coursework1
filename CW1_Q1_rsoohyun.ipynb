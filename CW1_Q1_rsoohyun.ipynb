{
  "nbformat": 4,
  "nbformat_minor": 0,
  "metadata": {
    "language_info": {
      "codemirror_mode": {
        "name": "ipython",
        "version": 3
      },
      "file_extension": ".py",
      "mimetype": "text/x-python",
      "name": "python",
      "nbconvert_exporter": "python",
      "pygments_lexer": "ipython3",
      "version": "3.7.4-final"
    },
    "orig_nbformat": 2,
    "kernelspec": {
      "name": "python3",
      "display_name": "Python 3"
    },
    "colab": {
      "name": "CW1.ipynb",
      "provenance": [],
      "collapsed_sections": [],
      "include_colab_link": true
    },
    "accelerator": "GPU"
  },
  "cells": [
    {
      "cell_type": "markdown",
      "metadata": {
        "id": "view-in-github",
        "colab_type": "text"
      },
      "source": [
        "<a href=\"https://colab.research.google.com/github/sw-programmer/Coursework1/blob/main/CW1.ipynb\" target=\"_parent\"><img src=\"https://colab.research.google.com/assets/colab-badge.svg\" alt=\"Open In Colab\"/></a>"
      ]
    },
    {
      "cell_type": "markdown",
      "metadata": {
        "id": "RiDpdqsG2EW4"
      },
      "source": [
        "#  **Coursework 1**\n",
        "\n",
        "1.   ### **Computationally Efficient Eigenfaces**\n",
        "2.   ### **Incremental PCA**\n",
        "3.   ### **PCA-LDA for Face Recognition**\n",
        "4.   ### **K-means codebook**\n",
        "5.   ### **RF classifier**\n",
        "\n",
        "\n",
        "**by 20190223\tSoohyun Ryu,\t20190247\tSangwoo Park**\n",
        "\n",
        "\n",
        "\n",
        "\n"
      ]
    },
    {
      "cell_type": "markdown",
      "metadata": {
        "id": "AvLRciu5QgA8"
      },
      "source": [
        "**1. Setting!**"
      ]
    },
    {
      "cell_type": "code",
      "metadata": {
        "id": "DmFrSEqT2EW5"
      },
      "source": [
        "# import os\n",
        "# import time\n",
        "# import torch\n",
        "# import torch.nn as nn\n",
        "# import torchvision.transforms as transforms\n",
        "# import matplotlib.pyplot as plt\n",
        "# import datetime\n",
        "# import math\n",
        "# import sys\n",
        "import pandas as pd\n",
        "import numpy as np\n",
        "import matplotlib.pyplot as plt\n",
        "from scipy import io\n",
        "from sklearn.model_selection import train_test_split"
      ],
      "execution_count": 50,
      "outputs": []
    },
    {
      "cell_type": "code",
      "metadata": {
        "id": "bkTIgoexPBxA",
        "colab": {
          "base_uri": "https://localhost:8080/"
        },
        "outputId": "cd92df9c-2d53-40bb-f132-427d6322131f"
      },
      "source": [
        "from google.colab import drive\n",
        "drive.mount('/content/drive')"
      ],
      "execution_count": 2,
      "outputs": [
        {
          "output_type": "stream",
          "name": "stdout",
          "text": [
            "Mounted at /content/drive\n"
          ]
        }
      ]
    },
    {
      "cell_type": "code",
      "metadata": {
        "colab": {
          "base_uri": "https://localhost:8080/"
        },
        "id": "PQz1q0Pdh0ZY",
        "outputId": "58407c60-a8ae-4083-9061-f39550681647"
      },
      "source": [
        "mat_file = io.loadmat(\"/content/drive/MyDrive/CV_ML/CW1/face.mat\")\n",
        "mat_X = mat_file['X']\n",
        "mat_Y = mat_file['l'][0]\n",
        "\n",
        "print(mat_file.keys()) \n",
        "print(mat_X.shape)                         # 총 52명. 각 10장의 사진. "
      ],
      "execution_count": 52,
      "outputs": [
        {
          "output_type": "stream",
          "name": "stdout",
          "text": [
            "dict_keys(['__header__', '__version__', '__globals__', 'X', 'l'])\n",
            "(2576, 520)\n"
          ]
        }
      ]
    },
    {
      "cell_type": "code",
      "metadata": {
        "colab": {
          "base_uri": "https://localhost:8080/"
        },
        "id": "EZ00poKQHwno",
        "outputId": "07c50395-97d0-4c56-a55d-85de19218082"
      },
      "source": [
        "df = pd.DataFrame(data=mat_X).transpose()\n",
        "df['label'] = mat_Y                         # row -> data, col -> feature\n",
        "print(df)\n",
        "\n",
        "X = df.iloc[:, :-1].values\n",
        "Y = df.iloc[:, -1].values # column 'Target'\n",
        "X_train, X_test, Y_train, Y_test = train_test_split( X, Y, test_size=0.2, random_state=35) #sklearn lib\n",
        "# test/train ratio = 0.2\n",
        "# random_state -> before dividing, seed for shuffling\n",
        "print(X_train.shape, X_test.shape, Y_train.shape, Y_test.shape)"
      ],
      "execution_count": 60,
      "outputs": [
        {
          "output_type": "stream",
          "name": "stdout",
          "text": [
            "       0    1    2    3    4    5  ...  2571  2572  2573  2574  2575  label\n",
            "0    106  103  103  104  101  104  ...    41    41    37    36    41      1\n",
            "1    130  129  130  129  133  135  ...    43    41    40    36    35      1\n",
            "2    191  185  174  153  137  114  ...    28    25    22    19    17      1\n",
            "3    161  156  141  132  133  108  ...    57    58    58    59    60      1\n",
            "4    161  162  160  151  107  101  ...    55    52    50    47    46      1\n",
            "..   ...  ...  ...  ...  ...  ...  ...   ...   ...   ...   ...   ...    ...\n",
            "515  181  170  163  160  156  148  ...    93    75    61    50    45     52\n",
            "516   60   68   71   77   76   78  ...    86    86    41    48    65     52\n",
            "517   70   62   83   75   65   71  ...    83    83    87    89    94     52\n",
            "518  183  250  163   61   74   51  ...   123    86   102    95   106     52\n",
            "519   77   72   68   64   62   55  ...    73   142    93   103   110     52\n",
            "\n",
            "[520 rows x 2577 columns]\n",
            "(416, 2576) (104, 2576) (416,) (104,)\n"
          ]
        }
      ]
    },
    {
      "cell_type": "markdown",
      "metadata": {
        "id": "ViTBzz6jUGM0"
      },
      "source": [
        "## **1. Computationally Efficient Eignefaces**\n",
        "\n"
      ]
    },
    {
      "cell_type": "markdown",
      "metadata": {
        "id": "4cPho67MU0t8"
      },
      "source": [
        "**여기서부터 코딩하면 될 듯!!**"
      ]
    }
  ]
}