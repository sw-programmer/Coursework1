{
  "nbformat": 4,
  "nbformat_minor": 0,
  "metadata": {
    "accelerator": "GPU",
    "colab": {
      "name": "CW1_Q3.ipynb",
      "provenance": [],
      "collapsed_sections": [],
      "include_colab_link": true
    },
    "kernelspec": {
      "display_name": "Python 3",
      "name": "python3"
    },
    "language_info": {
      "codemirror_mode": {
        "name": "ipython",
        "version": 3
      },
      "file_extension": ".py",
      "mimetype": "text/x-python",
      "name": "python",
      "nbconvert_exporter": "python",
      "pygments_lexer": "ipython3",
      "version": "3.7.4-final"
    }
  },
  "cells": [
    {
      "cell_type": "markdown",
      "metadata": {
        "id": "view-in-github",
        "colab_type": "text"
      },
      "source": [
        "<a href=\"https://colab.research.google.com/github/sw-programmer/Coursework1/blob/main/CW1_Q3_revised.ipynb\" target=\"_parent\"><img src=\"https://colab.research.google.com/assets/colab-badge.svg\" alt=\"Open In Colab\"/></a>"
      ]
    },
    {
      "cell_type": "markdown",
      "metadata": {
        "id": "RiDpdqsG2EW4"
      },
      "source": [
        "#  **Coursework 1**\n",
        "\n",
        "1.   ### **Computationally Efficient Eigenfaces**\n",
        "2.   ### **Incremental PCA**\n",
        "3.   ### **PCA-LDA for Face Recognition**\n",
        "4.   ### **K-means codebook**\n",
        "5.   ### **RF classifier**\n",
        "\n",
        "\n",
        "**by 20190223\tSoohyun Ryu,\t20190247\tSangwoo Park**\n",
        "\n",
        "\n",
        "\n",
        "\n"
      ]
    },
    {
      "cell_type": "markdown",
      "metadata": {
        "id": "AvLRciu5QgA8"
      },
      "source": [
        "**1. Setting!**"
      ]
    },
    {
      "cell_type": "code",
      "metadata": {
        "id": "DmFrSEqT2EW5"
      },
      "source": [
        "import os\n",
        "import time\n",
        "# import torch\n",
        "# import torch.nn as nn\n",
        "# import torchvision.transforms as transforms\n",
        "# import matplotlib.pyplot as plt\n",
        "# import datetime\n",
        "# import math\n",
        "# import sys\n",
        "import pandas as pd\n",
        "import numpy as np\n",
        "import matplotlib.pyplot as plt\n",
        "from scipy import io\n",
        "from sklearn.model_selection import train_test_split\n",
        "from sklearn.metrics import accuracy_score"
      ],
      "execution_count": 2,
      "outputs": []
    },
    {
      "cell_type": "code",
      "metadata": {
        "id": "bkTIgoexPBxA",
        "colab": {
          "base_uri": "https://localhost:8080/"
        },
        "outputId": "78ce7d02-0a4f-445f-ff2d-c486c026885a"
      },
      "source": [
        "from google.colab import drive\n",
        "drive.mount('/content/drive')"
      ],
      "execution_count": 3,
      "outputs": [
        {
          "output_type": "stream",
          "name": "stdout",
          "text": [
            "Drive already mounted at /content/drive; to attempt to forcibly remount, call drive.mount(\"/content/drive\", force_remount=True).\n"
          ]
        }
      ]
    },
    {
      "cell_type": "code",
      "metadata": {
        "id": "PQz1q0Pdh0ZY",
        "colab": {
          "base_uri": "https://localhost:8080/"
        },
        "outputId": "ff7f403b-ca89-43c0-c4a0-f186f03b35b3"
      },
      "source": [
        "mat_file = io.loadmat(\"/content/drive/MyDrive/CV_ML/CW1/face.mat\")\n",
        "mat_X = mat_file['X']\n",
        "mat_Y = mat_file['l'][0]\n",
        "\n",
        "print(mat_file.keys()) \n",
        "print(mat_X.shape)                         # 총 52명. 각 10장의 사진. "
      ],
      "execution_count": 4,
      "outputs": [
        {
          "output_type": "stream",
          "name": "stdout",
          "text": [
            "dict_keys(['__header__', '__version__', '__globals__', 'X', 'l'])\n",
            "(2576, 520)\n"
          ]
        }
      ]
    },
    {
      "cell_type": "code",
      "metadata": {
        "id": "EZ00poKQHwno",
        "colab": {
          "base_uri": "https://localhost:8080/"
        },
        "outputId": "e52054b7-495a-448a-8469-16227d4ac913"
      },
      "source": [
        "df = pd.DataFrame(data=mat_X).transpose()\n",
        "df['label'] = mat_Y                         # row -> data, col -> feature\n",
        "X = df.iloc[:, :-1].values\n",
        "Y = df.iloc[:, -1].values                   # Target column\n",
        "\n",
        "X_train, X_test, y_train, y_test = train_test_split(X, \n",
        "                                                    Y, \n",
        "                                                    test_size=0.2, \n",
        "                                                    shuffle=True,\n",
        "                                                    stratify=Y, \n",
        "                                                    random_state=1004)          \n",
        "# 얼굴 그룹 비율 유지               \n",
        "# test/train ratio = 0.2\n",
        "# random_state -> before dividing, seed for shuffling\n",
        "print('X_train shape:', X_train.shape)\n",
        "print('X_test shape:', X_test.shape)\n",
        "print('y_train shape:', y_train.shape)\n",
        "print('y_test shape:', y_test.shape)\n",
        "X_test_mean = np.mean(X_test, axis = 0)\n",
        "X_train_mean = np.mean(X_train, axis = 0)\n",
        "np.unique(y_train, return_counts=True)    # 52명의 얼굴이 80%씩 고르게 train set에 들어간 모습"
      ],
      "execution_count": 5,
      "outputs": [
        {
          "output_type": "stream",
          "name": "stdout",
          "text": [
            "X_train shape: (416, 2576)\n",
            "X_test shape: (104, 2576)\n",
            "y_train shape: (416,)\n",
            "y_test shape: (104,)\n"
          ]
        },
        {
          "output_type": "execute_result",
          "data": {
            "text/plain": [
              "(array([ 1,  2,  3,  4,  5,  6,  7,  8,  9, 10, 11, 12, 13, 14, 15, 16, 17,\n",
              "        18, 19, 20, 21, 22, 23, 24, 25, 26, 27, 28, 29, 30, 31, 32, 33, 34,\n",
              "        35, 36, 37, 38, 39, 40, 41, 42, 43, 44, 45, 46, 47, 48, 49, 50, 51,\n",
              "        52], dtype=uint8),\n",
              " array([8, 8, 8, 8, 8, 8, 8, 8, 8, 8, 8, 8, 8, 8, 8, 8, 8, 8, 8, 8, 8, 8,\n",
              "        8, 8, 8, 8, 8, 8, 8, 8, 8, 8, 8, 8, 8, 8, 8, 8, 8, 8, 8, 8, 8, 8,\n",
              "        8, 8, 8, 8, 8, 8, 8, 8]))"
            ]
          },
          "metadata": {},
          "execution_count": 5
        }
      ]
    },
    {
      "cell_type": "code",
      "metadata": {
        "id": "08Dial6zDJui"
      },
      "source": [
        "# NN Classfication\n",
        "def NN(X_trained, X_test, y_pred):\n",
        "  for query in X_test:\n",
        "    Args = []\n",
        "    for trained in X_trained:\n",
        "      Args.append(np.linalg.norm(query - trained))\n",
        "    y_pred.append(y_train[np.argmin(Args)])\n",
        "  return accuracy_score(y_test, y_pred), y_pred\n",
        "\n",
        "# 평균 얼굴 계산 함수 \n",
        "def AvgCompute(X): \n",
        "  Xbar = np.mean(X, axis=0)  \n",
        "  matrix_A = X - Xbar \n",
        "  return matrix_A, Xbar\n",
        "\n",
        "# 고유값, 고유벡터 계산 함수\n",
        "def eig(S): \n",
        "  eig_vals, eig_vecs = np.linalg.eig(S) \n",
        "  sort_indices = np.argsort(eig_vals)[::-1] # 내림차순 정렬 \n",
        "  return eig_vals[sort_indices], eig_vecs[:, sort_indices]\n",
        "\n",
        "# Reconstruction에 쓰일 함수\n",
        "def reconstruct(X, PC): \n",
        "  return (X @ PC) @ PC.T\n",
        "\n",
        "# PCA 과정\n",
        "def PCA(X, num_components, low_dim = False): # X == train set, num_components == 선택할 eigen vector 개수\n",
        "  start = time.time()\n",
        "  N, D = X.shape \n",
        "  matrix_A, X_bar = AvgCompute(X)\n",
        "  if not low_dim:\n",
        "    S = (matrix_A.T @ matrix_A) / N\n",
        "  else:\n",
        "    S = (matrix_A @ matrix_A.T) / N\n",
        "\n",
        "  eig_vals, eig_vecs = eig(S)\n",
        "  principal_vals, principal_components = np.real(eig_vals[:num_components]), np.real(eig_vecs[:,:num_components]) \n",
        "  \n",
        "  if low_dim:\n",
        "    norm = np.linalg.norm(matrix_A.T @ principal_components, axis = 0)\n",
        "    principal_components = ((matrix_A.T @ principal_components) / norm[np.newaxis, :])\n",
        "\n",
        "  reconst_X = reconstruct(matrix_A, principal_components) + X_bar \n",
        "  comp_time = time.time() - start\n",
        "  \n",
        "  return reconst_X, X_bar, principal_vals, principal_components, comp_time"
      ],
      "execution_count": 6,
      "outputs": []
    },
    {
      "cell_type": "code",
      "metadata": {
        "id": "hMC9_YPEYCR7",
        "colab": {
          "base_uri": "https://localhost:8080/",
          "height": 284
        },
        "outputId": "1655acc6-4f8a-4c14-c21d-ae087df3aab4"
      },
      "source": [
        "A, X_bar = AvgCompute(X_train) \n",
        "A = A.T\n",
        "\n",
        "plt.imshow(np.reshape(X_bar,(46,56)).T, cmap = 'gist_gray') # 평균 얼굴 출력"
      ],
      "execution_count": 7,
      "outputs": [
        {
          "output_type": "execute_result",
          "data": {
            "text/plain": [
              "<matplotlib.image.AxesImage at 0x7fb580873910>"
            ]
          },
          "metadata": {},
          "execution_count": 7
        },
        {
          "output_type": "display_data",
          "data": {
            "image/png": "[encoded data removed]",
            "text/plain": [
              "<Figure size 432x288 with 1 Axes>"
            ]
          },
          "metadata": {
            "needs_background": "light"
          }
        }
      ]
    },
    {
      "cell_type": "markdown",
      "metadata": {
        "id": "Rz_lxOm3WZS_"
      },
      "source": [
        "## PCA Method\n"
      ]
    },
    {
      "cell_type": "code",
      "metadata": {
        "id": "NFicPNM2Y8SN",
        "colab": {
          "base_uri": "https://localhost:8080/",
          "height": 1000
        },
        "outputId": "d879272a-8a2d-46b3-ca61-6b2691797e09"
      },
      "source": [
        "# number of PCA bases 바꾸면서 reconstruction error 측정\n",
        "max_num = 100\n",
        "start_num = 10\n",
        "error_list = []\n",
        "computation_time = []\n",
        "accuracy = []\n",
        "\n",
        "os.makedirs(\"./PCA_org\", exist_ok=True)\n",
        "os.makedirs(\"./PCA_low_dim\", exist_ok=True)\n",
        "\n",
        "# Original PCA / Low-dim PCA\n",
        "low_dim=True\n",
        "# low_dim=True\n",
        "if low_dim:\n",
        "    root_path = \"./PCA_low_dim\"\n",
        "else:\n",
        "    root_path = \"./PCA_org\"\n",
        "\n",
        "for i in range(start_num, max_num+1):\n",
        "    reconst_X, X_bar, principal_vals, principal_components, comp_time = PCA(X_train, i, low_dim)\n",
        "    recon_loss = np.linalg.norm((X_train - reconst_X), None)\n",
        "    error_list.append(recon_loss)\n",
        "    acc, y_predd = NN((X_train - X_bar) @ principal_components, (X_test - X_test_mean) @ principal_components, [])\n",
        "    accuracy.append(acc)\n",
        "    computation_time.append(comp_time)\n",
        "    # To see the reconstructed images\n",
        "    plt.imsave(f\"{root_path}/{i}_recon.png\", np.reshape(reconst_X[0,:],(46,56)).T, cmap = 'gist_gray')\n",
        "    print(f\"{i-start_num+1}/{max_num-start_num+1}\")\n",
        "\n",
        "if not low_dim:\n",
        "    PCA_name = \"Original PCA\"\n",
        "else:\n",
        "    PCA_name = \"Low-dim PCA\"\n",
        "\n",
        "x_axis = list(range(start_num, max_num+1))\n",
        "fig_recon, ax_recon = plt.subplots(3,1)\n",
        "ax_recon[0].plot(x_axis, error_list)\n",
        "ax_recon[0].set_xlabel(\"number of PCA bases\")\n",
        "ax_recon[0].set_ylabel(\"reconstruction error\")\n",
        "ax_recon[0].set_title(f\"Reconstruction error of {PCA_name}\")\n",
        "\n",
        "ax_recon[1].plot(x_axis, computation_time)\n",
        "ax_recon[1].set_xlabel(\"number of PCA bases\")\n",
        "ax_recon[1].set_ylabel(\"computation time\")\n",
        "ax_recon[1].set_title(f\"Computation time of {PCA_name}\")\n",
        "\n",
        "ax_recon[2].plot(x_axis, accuracy)\n",
        "ax_recon[2].set_xlabel(\"number of PCA bases\")\n",
        "ax_recon[2].set_ylabel(\"recognition accuracy\")\n",
        "ax_recon[2].set_title(f\"Accuracy of {PCA_name}\")\n",
        "\n",
        "fig_recon.tight_layout(pad=1.0)\n",
        "\n",
        "plt.show()\n",
        "\n",
        "print(f\"average computation time = {np.mean(computation_time)}\")"
      ],
      "execution_count": 10,
      "outputs": [
        {
          "output_type": "stream",
          "name": "stdout",
          "text": [
            "1/91\n",
            "2/91\n",
            "3/91\n",
            "4/91\n",
            "5/91\n",
            "6/91\n",
            "7/91\n",
            "8/91\n",
            "9/91\n",
            "10/91\n",
            "11/91\n",
            "12/91\n",
            "13/91\n",
            "14/91\n",
            "15/91\n",
            "16/91\n",
            "17/91\n",
            "18/91\n",
            "19/91\n",
            "20/91\n",
            "21/91\n",
            "22/91\n",
            "23/91\n",
            "24/91\n",
            "25/91\n",
            "26/91\n",
            "27/91\n",
            "28/91\n",
            "29/91\n",
            "30/91\n",
            "31/91\n",
            "32/91\n",
            "33/91\n",
            "34/91\n",
            "35/91\n",
            "36/91\n",
            "37/91\n",
            "38/91\n",
            "39/91\n",
            "40/91\n",
            "41/91\n",
            "42/91\n",
            "43/91\n",
            "44/91\n",
            "45/91\n",
            "46/91\n",
            "47/91\n",
            "48/91\n",
            "49/91\n",
            "50/91\n",
            "51/91\n",
            "52/91\n",
            "53/91\n",
            "54/91\n",
            "55/91\n",
            "56/91\n",
            "57/91\n",
            "58/91\n",
            "59/91\n",
            "60/91\n",
            "61/91\n",
            "62/91\n",
            "63/91\n",
            "64/91\n",
            "65/91\n",
            "66/91\n",
            "67/91\n",
            "68/91\n",
            "69/91\n",
            "70/91\n",
            "71/91\n",
            "72/91\n",
            "73/91\n",
            "74/91\n",
            "75/91\n",
            "76/91\n",
            "77/91\n",
            "78/91\n",
            "79/91\n",
            "80/91\n",
            "81/91\n",
            "82/91\n",
            "83/91\n",
            "84/91\n",
            "85/91\n",
            "86/91\n",
            "87/91\n",
            "88/91\n",
            "89/91\n",
            "90/91\n",
            "91/91\n"
          ]
        },
        {
          "output_type": "display_data",
          "data": {
            "image/png": "[encoded data removed]",
            "text/plain": [
              "<Figure size 432x288 with 3 Axes>"
            ]
          },
          "metadata": {
            "needs_background": "light"
          }
        },
        {
          "output_type": "stream",
          "name": "stdout",
          "text": [
            "average computation time = 0.24767237443190354\n"
          ]
        }
      ]
    },
    {
      "cell_type": "code",
      "metadata": {
        "colab": {
          "base_uri": "https://localhost:8080/"
        },
        "id": "uj8tnKmBgFs4",
        "outputId": "39622c87-3876-4ac4-f772-5145d187da3f"
      },
      "source": [
        "print(principal_components.shape)"
      ],
      "execution_count": 11,
      "outputs": [
        {
          "output_type": "stream",
          "name": "stdout",
          "text": [
            "(2576, 100)\n"
          ]
        }
      ]
    },
    {
      "cell_type": "markdown",
      "metadata": {
        "id": "yt5gXBE-WfRK"
      },
      "source": [
        "## PCA-LDA Method"
      ]
    },
    {
      "cell_type": "code",
      "metadata": {
        "id": "3e2shs8EWUWr"
      },
      "source": [
        "def LDA(X, pc, num_lda): \n",
        "  sort_indices = np.argsort(y_train)\n",
        "  undo_indices = np.argsort(sort_indices)\n",
        "  y_train_sorted = y_train[sort_indices]\n",
        "  X_train_sorted = X_train[sort_indices]\n",
        "\n",
        "  meanlist = []\n",
        "  j = 0\n",
        "  for i in range(52):\n",
        "    mean = np.mean(X_train_sorted[j:j+8,:], axis=0)\n",
        "    meanlist.append(mean)\n",
        "    j = j+8  \n",
        "\n",
        "  start = time.time()\n",
        "  # Between class scatter matrix\n",
        "  mean_global = np.mean(meanlist, axis = 0)\n",
        "  meanlist_sub = np.array([(i-mean_global) for i in meanlist])\n",
        "  S_bet = 8 * meanlist_sub.T @ meanlist_sub\n",
        "\n",
        "  # Within class scatter matrix\n",
        "  within_sub = []\n",
        "  j=0\n",
        "  for i in range(52):\n",
        "    within_sub.append(np.subtract(X_train_sorted[j:j+8,:], meanlist[i]))\n",
        "    j = j+8\n",
        "  within_sub = np.array([(i.T @ i) for i in within_sub])\n",
        "  S_with = np.sum(within_sub, axis = 0)\n",
        "\n",
        "  if(np.linalg.matrix_rank(pc) < pc.shape[1]):\n",
        "    pc = np.unique(pc, axis=1)\n",
        "    print(f\"rank of feature matrix is {np.linalg.matrix_rank(pc)}\")\n",
        "  else:\n",
        "    pass\n",
        "  \n",
        "  # print(f\"Rank of S_between : {np.linalg.matrix_rank(S_bet)}\")\n",
        "  # print(f\"Rank of S_within : {np.linalg.matrix_rank(S_with)}\")\n",
        "\n",
        "  # 1. PCA\n",
        "  S_bet_PCA = pc.T @ S_bet @ pc\n",
        "  S_with_PCA = pc.T @ S_with @ pc\n",
        "\n",
        "  # 2. LDA\n",
        "  discriminant_vals, discriminant_components = eig((np.linalg.inv(S_with_PCA) @ S_bet_PCA))\n",
        "  discriminant_vals, discriminant_components = np.real(discriminant_vals[:num_lda]), np.real(discriminant_components[:,:num_lda]) \n",
        "  \n",
        "  comp_time = time.time() - start\n",
        "\n",
        "  return discriminant_components, discriminant_vals, pc, comp_time\n",
        "\n",
        "\n",
        "def PCA_LDA(X, num_pca, num_lda):\n",
        "  reconst_X, X_bar, principal_vals, principal_components, comp_time = PCA(X, num_pca, True)\n",
        "  return LDA(X, principal_components, num_lda)"
      ],
      "execution_count": 20,
      "outputs": []
    },
    {
      "cell_type": "code",
      "metadata": {
        "colab": {
          "base_uri": "https://localhost:8080/"
        },
        "id": "3NstNEQ-LFvN",
        "outputId": "496560ed-e229-4fa4-b563-f17b5090d074"
      },
      "source": [
        "import torch\n",
        "torch.cuda.is_available()"
      ],
      "execution_count": 8,
      "outputs": [
        {
          "output_type": "execute_result",
          "data": {
            "text/plain": [
              "True"
            ]
          },
          "metadata": {},
          "execution_count": 8
        }
      ]
    },
    {
      "cell_type": "code",
      "metadata": {
        "colab": {
          "base_uri": "https://localhost:8080/"
        },
        "id": "WGtctX2uGDsb",
        "outputId": "8a1a8bef-52c8-440d-82ff-f6d80f7cae84"
      },
      "source": [
        "# hyper-param 바꾸면서 accuracy 측정\n",
        "M_pca = 364\n",
        "M_lda = 51\n",
        "pca_start_num = 51\n",
        "lda_start_num = 10\n",
        "accuracy_list = []\n",
        "computation_time = []\n",
        "memory_usage = []\n",
        "\n",
        "# Original PCA / Low-dim PCA\n",
        "low_dim=True\n",
        "PCA_name = \"Low-dim PCA\"\n",
        "\n",
        "# First, find optimal M_pca\n",
        "for i in range(pca_start_num, M_pca+1):\n",
        "  discriminant_components, discriminant_vals, principal_components_lda, comp_time = PCA_LDA(X_train, i, M_lda)\n",
        "  computation_time.append(comp_time)\n",
        "  X_train_pca = (X_train - X_bar) @ principal_components_lda\n",
        "  X_test_pca = (X_test - X_test_mean) @ principal_components_lda\n",
        "  result, y_pred = NN(X_train_pca @ discriminant_components, X_test_pca @ discriminant_components, [])\n",
        "  accuracy_list.append(result)\n",
        "  if i % 10 == 0:\n",
        "    print(f\"M_pca : {i-pca_start_num+1}/{M_pca-pca_start_num+1}\")\n",
        "\n",
        "# print(f\"average computation time = {np.mean(computation_time)}\")"
      ],
      "execution_count": 34,
      "outputs": [
        {
          "output_type": "stream",
          "name": "stdout",
          "text": [
            "M_pca : 10/314\n",
            "M_pca : 20/314\n",
            "M_pca : 30/314\n",
            "M_pca : 40/314\n",
            "M_pca : 50/314\n",
            "M_pca : 60/314\n",
            "M_pca : 70/314\n",
            "M_pca : 80/314\n",
            "M_pca : 90/314\n",
            "M_pca : 100/314\n",
            "M_pca : 110/314\n",
            "M_pca : 120/314\n",
            "M_pca : 130/314\n",
            "M_pca : 140/314\n",
            "M_pca : 150/314\n",
            "M_pca : 160/314\n",
            "M_pca : 170/314\n",
            "M_pca : 180/314\n",
            "M_pca : 190/314\n",
            "M_pca : 200/314\n",
            "M_pca : 210/314\n",
            "M_pca : 220/314\n",
            "M_pca : 230/314\n",
            "M_pca : 240/314\n",
            "M_pca : 250/314\n",
            "M_pca : 260/314\n",
            "M_pca : 270/314\n",
            "M_pca : 280/314\n",
            "M_pca : 290/314\n",
            "M_pca : 300/314\n",
            "M_pca : 310/314\n"
          ]
        }
      ]
    },
    {
      "cell_type": "code",
      "metadata": {
        "colab": {
          "base_uri": "https://localhost:8080/",
          "height": 297
        },
        "id": "sarRU6qXhU7u",
        "outputId": "7520f28e-5fdd-4220-9c43-4a9f939173f4"
      },
      "source": [
        "x_axis = list(range(pca_start_num, M_pca+1))\n",
        "fig_recon, ax_recon = plt.subplots(2,1)\n",
        "ax_recon[0].plot(x_axis, accuracy_list)\n",
        "ax_recon[0].set_xlabel(\"number of M_pca\")\n",
        "ax_recon[0].set_ylabel(\"Accuracy\")\n",
        "ax_recon[0].set_title(f\"Accuracy depending on M_pca\")\n",
        "\n",
        "ax_recon[1].plot(x_axis, computation_time)\n",
        "ax_recon[1].set_xlabel(\"number of M_pca\")\n",
        "ax_recon[1].set_ylabel(\"computation time\")\n",
        "ax_recon[1].set_title(f\"Computation time depending on M_pca\")\n",
        "\n",
        "fig_recon.tight_layout(pad=2.0)\n",
        "print(f\"average computation time = {np.mean(computation_time_lda)}\")"
      ],
      "execution_count": 45,
      "outputs": [
        {
          "output_type": "stream",
          "name": "stdout",
          "text": [
            "average computation time = 3.1903776838665916\n"
          ]
        },
        {
          "output_type": "display_data",
          "data": {
            "image/png": "[encoded data removed]",
            "text/plain": [
              "<Figure size 432x288 with 2 Axes>"
            ]
          },
          "metadata": {
            "needs_background": "light"
          }
        }
      ]
    },
    {
      "cell_type": "code",
      "metadata": {
        "colab": {
          "base_uri": "https://localhost:8080/"
        },
        "id": "j3c-TuLx1zWr",
        "outputId": "90c0a96a-002d-484b-a9d0-95dc00b6dc50"
      },
      "source": [
        "Optimal_M_pca = np.argmax(accuracy_list) + 51\n",
        "print(Optimal_M_pca)"
      ],
      "execution_count": 46,
      "outputs": [
        {
          "output_type": "stream",
          "name": "stdout",
          "text": [
            "160\n"
          ]
        }
      ]
    },
    {
      "cell_type": "code",
      "metadata": {
        "colab": {
          "base_uri": "https://localhost:8080/",
          "height": 1000
        },
        "id": "edFg4-1cvNdu",
        "outputId": "630a0e83-46aa-4d8c-a415-f8315636fd5b"
      },
      "source": [
        "# And then find best M_lda with optimal M_pca\n",
        "accuracy_list_lda = []\n",
        "computation_time_lda = []\n",
        "memory_usage_lda = []\n",
        "\n",
        "\n",
        "for i in range(lda_start_num, M_lda+1):\n",
        "  discriminant_components, discriminant_vals, principal_components_lda, comp_time = PCA_LDA(X_train, Optimal_M_pca, i)\n",
        "  computation_time_lda.append(comp_time)\n",
        "  X_train_pca = (X_train - X_bar) @ principal_components_lda\n",
        "  X_test_pca = (X_test - X_test_mean) @ principal_components_lda\n",
        "  result, y_pred = NN(X_train_pca @ discriminant_components, X_test_pca @ discriminant_components, [])\n",
        "  accuracy_list_lda.append(result)\n",
        "  print(f\"M_lda : {i-lda_start_num+1}/{M_lda-lda_start_num+1}\")"
      ],
      "execution_count": 42,
      "outputs": [
        {
          "output_type": "stream",
          "name": "stdout",
          "text": [
            "M_lda : 1/42\n",
            "M_lda : 2/42\n",
            "M_lda : 3/42\n",
            "M_lda : 4/42\n",
            "M_lda : 5/42\n",
            "M_lda : 6/42\n",
            "M_lda : 7/42\n",
            "M_lda : 8/42\n",
            "M_lda : 9/42\n",
            "M_lda : 10/42\n",
            "M_lda : 11/42\n",
            "M_lda : 12/42\n",
            "M_lda : 13/42\n",
            "M_lda : 14/42\n",
            "M_lda : 15/42\n",
            "M_lda : 16/42\n",
            "M_lda : 17/42\n",
            "M_lda : 18/42\n",
            "M_lda : 19/42\n",
            "M_lda : 20/42\n",
            "M_lda : 21/42\n",
            "M_lda : 22/42\n",
            "M_lda : 23/42\n",
            "M_lda : 24/42\n",
            "M_lda : 25/42\n",
            "M_lda : 26/42\n",
            "M_lda : 27/42\n",
            "M_lda : 28/42\n",
            "M_lda : 29/42\n",
            "M_lda : 30/42\n",
            "M_lda : 31/42\n",
            "M_lda : 32/42\n",
            "M_lda : 33/42\n",
            "M_lda : 34/42\n",
            "M_lda : 35/42\n",
            "M_lda : 36/42\n",
            "M_lda : 37/42\n",
            "M_lda : 38/42\n",
            "M_lda : 39/42\n",
            "M_lda : 40/42\n",
            "M_lda : 41/42\n",
            "M_lda : 42/42\n"
          ]
        },
        {
          "output_type": "display_data",
          "data": {
            "image/png": "[encoded data removed]",
            "text/plain": [
              "<Figure size 432x288 with 2 Axes>"
            ]
          },
          "metadata": {
            "needs_background": "light"
          }
        }
      ]
    },
    {
      "cell_type": "code",
      "metadata": {
        "colab": {
          "base_uri": "https://localhost:8080/",
          "height": 297
        },
        "id": "mzBHpbZt1weh",
        "outputId": "48140c96-33f4-4047-8128-0d56ec475a66"
      },
      "source": [
        "x_axis = list(range(lda_start_num, M_lda+1))\n",
        "fig_recon, ax_recon = plt.subplots(2,1)\n",
        "ax_recon[0].plot(x_axis, accuracy_list_lda)\n",
        "ax_recon[0].set_xlabel(\"number of M_lda\")\n",
        "ax_recon[0].set_ylabel(\"Accuracy\")\n",
        "ax_recon[0].set_title(f\"Accuracy depending on M_lda\")\n",
        "\n",
        "ax_recon[1].plot(x_axis, computation_time_lda)\n",
        "ax_recon[1].set_xlabel(\"number of M_lda\")\n",
        "ax_recon[1].set_ylabel(\"computation time\")\n",
        "ax_recon[1].set_title(f\"Computation time depending on M_lda\")\n",
        "\n",
        "fig_recon.tight_layout(pad=2.0)\n",
        "\n",
        "plt.show()\n",
        "print(f\"average computation time = {np.mean(computation_time_lda)}\")"
      ],
      "execution_count": 47,
      "outputs": [
        {
          "output_type": "display_data",
          "data": {
            "image/png": "[encoded data removed]",
            "text/plain": [
              "<Figure size 432x288 with 2 Axes>"
            ]
          },
          "metadata": {
            "needs_background": "light"
          }
        },
        {
          "output_type": "stream",
          "name": "stdout",
          "text": [
            "average computation time = 3.1903776838665916\n"
          ]
        }
      ]
    },
    {
      "cell_type": "code",
      "metadata": {
        "colab": {
          "base_uri": "https://localhost:8080/",
          "height": 335
        },
        "id": "Lj65Yfz5p9k_",
        "outputId": "6a77cfdc-ccfd-421b-d4a0-2b0ef5b1a263"
      },
      "source": [
        "# Caculate accuracy when M_pca == 160\n",
        "discriminant_components, discriminant_vals, principal_components_lda, comp_time = PCA_LDA(X_train, 160, 51)  \n",
        "\n",
        "x_axis = list(range(0, 51))\n",
        "plt.plot(x_axis, discriminant_vals)\n",
        "print(f\"PCA-LDA computation time = {comp_time}\")\n",
        "\n",
        "X_train_pca = (X_train - X_bar) @ principal_components_lda\n",
        "X_test_pca = (X_test - X_test_mean) @ principal_components_lda\n",
        "result, y_pred = NN(X_train_pca @ discriminant_components, X_test_pca @ discriminant_components, [])\n",
        "print(result)"
      ],
      "execution_count": 51,
      "outputs": [
        {
          "output_type": "stream",
          "name": "stdout",
          "text": [
            "Rank of S_between : 51\n",
            "Rank of S_within : 364\n",
            "PCA-LDA computation time = 14.404451131820679\n",
            "0.9326923076923077\n"
          ]
        },
        {
          "output_type": "display_data",
          "data": {
            "image/png": "[encoded data removed]",
            "text/plain": [
              "<Figure size 432x288 with 1 Axes>"
            ]
          },
          "metadata": {
            "needs_background": "light"
          }
        }
      ]
    },
    {
      "cell_type": "code",
      "metadata": {
        "id": "udk0o8u0l51c",
        "colab": {
          "base_uri": "https://localhost:8080/",
          "height": 1000
        },
        "outputId": "5efa0624-4528-4417-b57f-35509c246428"
      },
      "source": [
        "# Confushion Matrix\n",
        "import seaborn as sns\n",
        "from sklearn.metrics import confusion_matrix\n",
        "\n",
        "cm = confusion_matrix(y_test, y_pred)\n",
        "cm_df = pd.DataFrame(cm,\n",
        "                     index = range(1,53), \n",
        "                     columns = range(1,53))\n",
        "\n",
        "#Plotting the confusion matrix\n",
        "plt.figure(figsize=(9,8))\n",
        "sns.heatmap(cm_df, annot=True)\n",
        "plt.title('Confusion Matrix')\n",
        "plt.ylabel('Actal Values')\n",
        "plt.xlabel('Predicted Values')\n",
        "plt.show()\n",
        "\n",
        "from sklearn import metrics\n",
        "print(metrics.classification_report(y_test, y_pred, digits=3))"
      ],
      "execution_count": 66,
      "outputs": [
        {
          "output_type": "display_data",
          "data": {
            "image/png": "[encoded data removed]",
            "text/plain": [
              "<Figure size 648x576 with 2 Axes>"
            ]
          },
          "metadata": {
            "needs_background": "light"
          }
        },
        {
          "output_type": "stream",
          "name": "stdout",
          "text": [
            "              precision    recall  f1-score   support\n",
            "\n",
            "           1      1.000     0.500     0.667         2\n",
            "           2      1.000     1.000     1.000         2\n",
            "           3      0.667     1.000     0.800         2\n",
            "           4      1.000     1.000     1.000         2\n",
            "           5      1.000     1.000     1.000         2\n",
            "           6      1.000     1.000     1.000         2\n",
            "           7      1.000     1.000     1.000         2\n",
            "           8      1.000     1.000     1.000         2\n",
            "           9      1.000     1.000     1.000         2\n",
            "          10      1.000     1.000     1.000         2\n",
            "          11      1.000     1.000     1.000         2\n",
            "          12      1.000     1.000     1.000         2\n",
            "          13      1.000     1.000     1.000         2\n",
            "          14      0.333     0.500     0.400         2\n",
            "          15      1.000     1.000     1.000         2\n",
            "          16      0.667     1.000     0.800         2\n",
            "          17      1.000     0.500     0.667         2\n",
            "          18      1.000     1.000     1.000         2\n",
            "          19      1.000     0.500     0.667         2\n",
            "          20      1.000     1.000     1.000         2\n",
            "          21      0.667     1.000     0.800         2\n",
            "          22      1.000     1.000     1.000         2\n",
            "          23      1.000     1.000     1.000         2\n",
            "          24      1.000     1.000     1.000         2\n",
            "          25      1.000     1.000     1.000         2\n",
            "          26      1.000     1.000     1.000         2\n",
            "          27      1.000     1.000     1.000         2\n",
            "          28      1.000     1.000     1.000         2\n",
            "          29      1.000     1.000     1.000         2\n",
            "          30      1.000     1.000     1.000         2\n",
            "          31      1.000     1.000     1.000         2\n",
            "          32      1.000     1.000     1.000         2\n",
            "          33      1.000     0.500     0.667         2\n",
            "          34      0.500     0.500     0.500         2\n",
            "          35      1.000     1.000     1.000         2\n",
            "          36      1.000     1.000     1.000         2\n",
            "          37      1.000     1.000     1.000         2\n",
            "          38      0.667     1.000     0.800         2\n",
            "          39      1.000     1.000     1.000         2\n",
            "          40      1.000     1.000     1.000         2\n",
            "          41      1.000     1.000     1.000         2\n",
            "          42      1.000     1.000     1.000         2\n",
            "          43      1.000     1.000     1.000         2\n",
            "          44      1.000     1.000     1.000         2\n",
            "          45      1.000     1.000     1.000         2\n",
            "          46      1.000     0.500     0.667         2\n",
            "          47      1.000     1.000     1.000         2\n",
            "          48      1.000     1.000     1.000         2\n",
            "          49      1.000     1.000     1.000         2\n",
            "          50      1.000     1.000     1.000         2\n",
            "          51      1.000     1.000     1.000         2\n",
            "          52      1.000     1.000     1.000         2\n",
            "\n",
            "    accuracy                          0.933       104\n",
            "   macro avg      0.952     0.933     0.931       104\n",
            "weighted avg      0.952     0.933     0.931       104\n",
            "\n"
          ]
        }
      ]
    },
    {
      "cell_type": "markdown",
      "metadata": {
        "id": "p7D-sqYREKqv"
      },
      "source": [
        "## PCA-LDA Ensemble"
      ]
    },
    {
      "cell_type": "code",
      "metadata": {
        "id": "X74VWtjsENet"
      },
      "source": [
        "from collections import Counter\n",
        "# PCA first\n",
        "reconst_X, X_bar, principal_vals, principal_components, comp_time = PCA(X_train, 415, True) \n",
        "\n",
        "def PCA_LDA_ensemble(X, T, M0, M1, Mlda, Fusion): \n",
        "  # Randim Subspaces\n",
        "  pc_M0 = principal_components[:,:M0]\n",
        "  pc_M1_origin = principal_components[:,M0:]\n",
        "\n",
        "  scorelist = []\n",
        "  predictlist = []\n",
        "  for i in range(T):\n",
        "    idx = np.random.randint(415-M0, size=M1)\n",
        "    pc_M1 = pc_M1_origin[:,idx]\n",
        "    pc_Mpca = np.concatenate((pc_M0, pc_M1), axis=1)\n",
        "    discriminant_components, discriminant_vals, pc, comp_time = LDA(X, pc_Mpca, Mlda) \n",
        "\n",
        "    X_train_pca = (X - X_bar) @ pc  \n",
        "    X_test_pca = (X_test - X_test_mean) @ pc\n",
        "    score, y_pred = NN(X_train_pca @ discriminant_components, X_test_pca @ discriminant_components, [])\n",
        "    scorelist.append(score)\n",
        "    predictlist.append(y_pred)\n",
        "\n",
        "  # majority vote\n",
        "  if (Fusion == 'Majority'):\n",
        "    predictlist = np.array(predictlist)\n",
        "    y_pred_voted = []\n",
        "    for i in range(len(X_test)):\n",
        "      candidate = predictlist[:,i]\n",
        "      c = Counter(candidate)\n",
        "      y_pred_voted.append(c.most_common(1)[0][0])\n",
        "  # Sum(Avg)\n",
        "  else:\n",
        "    pass\n",
        "\n",
        "  avgError_individual = np.mean(np.array(scorelist))\n",
        "  Error_committee = accuracy_score(y_test, y_pred_voted)\n",
        "\n",
        "  return Error_committee, avgError_individual"
      ],
      "execution_count": 21,
      "outputs": []
    },
    {
      "cell_type": "code",
      "metadata": {
        "colab": {
          "base_uri": "https://localhost:8080/"
        },
        "id": "wjcywvu0GTJI",
        "outputId": "29829afe-dcb2-4101-9cad-8045d8400b99"
      },
      "source": [
        "# hyper-param 바꾸면서 accuracy 측정\n",
        "# Case_1. Model 수가 10개일 때.\n",
        "\n",
        "M0_start_num = 50\n",
        "M1_start_num = 50\n",
        "com_accuracy_list = []\n",
        "avg_accuracy_list = []\n",
        "\n",
        "while M0_start_num + M1_start_num <= 250:\n",
        "  err_committee, err_individual = PCA_LDA_ensemble(X_train, 10, M0_start_num, M1_start_num, 51, 'Majority')\n",
        "  com_accuracy_list.append(err_committee)\n",
        "  avg_accuracy_list.append(err_individual)\n",
        "  print(f\"M_pca : {M1_start_num + 50}/250\")\n",
        "  M1_start_num += 50\n",
        "\n",
        "print(\"End of 1st Loop\")\n",
        "\n",
        "M0_start_num = M0_start_num + 50\n",
        "M1_start_num = 0\n",
        "com_accuracy_list_2 = []\n",
        "avg_accuracy_list_2 = []\n",
        "\n",
        "while M0_start_num + M1_start_num <= 250:\n",
        "  err_committee, err_individual = PCA_LDA_ensemble(X_train, 10, M0_start_num, M1_start_num, 51, 'Majority')\n",
        "  com_accuracy_list_2.append(err_committee)\n",
        "  avg_accuracy_list_2.append(err_individual)\n",
        "  print(f\"M_pca : {M1_start_num + 100}/250\")\n",
        "  M1_start_num += 50\n",
        "\n",
        "print(\"End of 2nd Loop\")\n",
        "\n",
        "M0_start_num = M0_start_num + 50\n",
        "M1_start_num = 0\n",
        "com_accuracy_list_3 = []\n",
        "avg_accuracy_list_3 = []\n",
        "\n",
        "while M0_start_num + M1_start_num <= 250:\n",
        "  err_committee, err_individual = PCA_LDA_ensemble(X_train, 10, M0_start_num, M1_start_num, 51, 'Majority')\n",
        "  com_accuracy_list_3.append(err_committee)\n",
        "  avg_accuracy_list_3.append(err_individual)\n",
        "  print(f\"M_pca : {M1_start_num + 150}/250\")\n",
        "  M1_start_num += 50"
      ],
      "execution_count": 29,
      "outputs": [
        {
          "output_type": "stream",
          "name": "stdout",
          "text": [
            "rank of feature matrix is 96\n",
            "rank of feature matrix is 98\n",
            "rank of feature matrix is 96\n",
            "rank of feature matrix is 98\n",
            "rank of feature matrix is 98\n",
            "rank of feature matrix is 97\n",
            "rank of feature matrix is 96\n",
            "rank of feature matrix is 98\n",
            "rank of feature matrix is 97\n",
            "rank of feature matrix is 97\n",
            "M_pca : 100/250\n",
            "rank of feature matrix is 139\n",
            "rank of feature matrix is 138\n",
            "rank of feature matrix is 137\n",
            "rank of feature matrix is 137\n",
            "rank of feature matrix is 134\n",
            "rank of feature matrix is 132\n",
            "rank of feature matrix is 133\n",
            "rank of feature matrix is 131\n",
            "rank of feature matrix is 131\n",
            "rank of feature matrix is 137\n",
            "M_pca : 150/250\n",
            "rank of feature matrix is 173\n",
            "rank of feature matrix is 171\n",
            "rank of feature matrix is 173\n",
            "rank of feature matrix is 173\n",
            "rank of feature matrix is 176\n",
            "rank of feature matrix is 169\n",
            "rank of feature matrix is 174\n",
            "rank of feature matrix is 171\n",
            "rank of feature matrix is 176\n",
            "rank of feature matrix is 180\n",
            "M_pca : 200/250\n",
            "rank of feature matrix is 208\n",
            "rank of feature matrix is 203\n",
            "rank of feature matrix is 209\n",
            "rank of feature matrix is 213\n",
            "rank of feature matrix is 202\n",
            "rank of feature matrix is 211\n",
            "rank of feature matrix is 202\n",
            "rank of feature matrix is 200\n",
            "rank of feature matrix is 202\n",
            "rank of feature matrix is 209\n",
            "M_pca : 250/250\n",
            "End of 1st Loop\n",
            "M_pca : 100/250\n",
            "rank of feature matrix is 147\n",
            "rank of feature matrix is 145\n",
            "rank of feature matrix is 142\n",
            "rank of feature matrix is 147\n",
            "rank of feature matrix is 145\n",
            "rank of feature matrix is 146\n",
            "rank of feature matrix is 146\n",
            "rank of feature matrix is 147\n",
            "rank of feature matrix is 146\n",
            "rank of feature matrix is 147\n",
            "M_pca : 150/250\n",
            "rank of feature matrix is 188\n",
            "rank of feature matrix is 185\n",
            "rank of feature matrix is 185\n",
            "rank of feature matrix is 189\n",
            "rank of feature matrix is 184\n",
            "rank of feature matrix is 183\n",
            "rank of feature matrix is 187\n",
            "rank of feature matrix is 186\n",
            "rank of feature matrix is 183\n",
            "rank of feature matrix is 178\n",
            "M_pca : 200/250\n",
            "rank of feature matrix is 226\n",
            "rank of feature matrix is 215\n",
            "rank of feature matrix is 223\n",
            "rank of feature matrix is 225\n",
            "rank of feature matrix is 217\n",
            "rank of feature matrix is 221\n",
            "rank of feature matrix is 227\n",
            "rank of feature matrix is 219\n",
            "rank of feature matrix is 225\n",
            "rank of feature matrix is 219\n",
            "M_pca : 250/250\n",
            "End of 2nd Loop\n",
            "M_pca : 150/250\n",
            "rank of feature matrix is 196\n",
            "rank of feature matrix is 196\n",
            "rank of feature matrix is 194\n",
            "rank of feature matrix is 195\n",
            "rank of feature matrix is 197\n",
            "rank of feature matrix is 198\n",
            "rank of feature matrix is 199\n",
            "rank of feature matrix is 194\n",
            "rank of feature matrix is 197\n",
            "rank of feature matrix is 195\n",
            "M_pca : 200/250\n",
            "rank of feature matrix is 235\n",
            "rank of feature matrix is 233\n",
            "rank of feature matrix is 234\n",
            "rank of feature matrix is 235\n",
            "rank of feature matrix is 236\n",
            "rank of feature matrix is 226\n",
            "rank of feature matrix is 231\n",
            "rank of feature matrix is 237\n",
            "rank of feature matrix is 229\n",
            "rank of feature matrix is 235\n",
            "M_pca : 250/250\n"
          ]
        }
      ]
    },
    {
      "cell_type": "code",
      "metadata": {
        "colab": {
          "base_uri": "https://localhost:8080/",
          "height": 297
        },
        "id": "NmkFxIgqZNRE",
        "outputId": "790b93ac-7ec9-4e32-8f26-e8a122bf06a9"
      },
      "source": [
        "x_axis = list(range(0, 4))\n",
        "fig_recon, ax_recon = plt.subplots(3,1)\n",
        "ax_recon[0].plot(x_axis, com_accuracy_list)\n",
        "ax_recon[0].set_xlabel(\"number of M0\")\n",
        "ax_recon[0].set_ylabel(\"Accuracy\")\n",
        "ax_recon[0].set_title(\"When M1 == 50\")\n",
        "\n",
        "x_axis = list(range(0, 4))\n",
        "ax_recon[1].plot(x_axis, com_accuracy_list_2)\n",
        "ax_recon[1].set_xlabel(\"number of M0\")\n",
        "ax_recon[1].set_ylabel(\"Accuracy\")\n",
        "ax_recon[1].set_title(\"When M1 == 100\")\n",
        "\n",
        "x_axis = list(range(0, 3))\n",
        "ax_recon[2].plot(x_axis, com_accuracy_list_3)\n",
        "ax_recon[2].set_xlabel(\"number of M0\")\n",
        "ax_recon[2].set_ylabel(\"Accuracy\")\n",
        "ax_recon[2].set_title(\"When M1 == 150\")\n",
        "\n",
        "print(\"End of 3rd Loop\")\n",
        "\n",
        "fig_recon.tight_layout(pad=2.0)\n",
        "\n",
        "plt.show()"
      ],
      "execution_count": 33,
      "outputs": [
        {
          "output_type": "stream",
          "name": "stdout",
          "text": [
            "End of 3rd Loop\n"
          ]
        },
        {
          "output_type": "display_data",
          "data": {
            "image/png": "[encoded data removed]",
            "text/plain": [
              "<Figure size 432x288 with 3 Axes>"
            ]
          },
          "metadata": {
            "needs_background": "light"
          }
        }
      ]
    },
    {
      "cell_type": "code",
      "metadata": {
        "colab": {
          "base_uri": "https://localhost:8080/"
        },
        "id": "TJVQj_AWbQGs",
        "outputId": "d87f6421-e017-4a7d-9019-8af1497c1e51"
      },
      "source": [
        "print(max(com_accuracy_list))\n",
        "print(max(com_accuracy_list_2))\n",
        "print(max(com_accuracy_list_3))"
      ],
      "execution_count": 36,
      "outputs": [
        {
          "output_type": "stream",
          "name": "stdout",
          "text": [
            "0.9230769230769231\n",
            "0.9423076923076923\n",
            "0.9711538461538461\n"
          ]
        }
      ]
    }
  ]
}