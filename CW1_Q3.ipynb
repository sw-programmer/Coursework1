{
  "nbformat": 4,
  "nbformat_minor": 0,
  "metadata": {
    "accelerator": "GPU",
    "colab": {
      "name": "CW1_Q3.ipynb",
      "provenance": [],
      "collapsed_sections": [],
      "include_colab_link": true
    },
    "kernelspec": {
      "display_name": "Python 3",
      "name": "python3"
    },
    "language_info": {
      "codemirror_mode": {
        "name": "ipython",
        "version": 3
      },
      "file_extension": ".py",
      "mimetype": "text/x-python",
      "name": "python",
      "nbconvert_exporter": "python",
      "pygments_lexer": "ipython3",
      "version": "3.7.4-final"
    }
  },
  "cells": [
    {
      "cell_type": "markdown",
      "metadata": {
        "id": "view-in-github",
        "colab_type": "text"
      },
      "source": [
        "<a href=\"https://colab.research.google.com/github/sw-programmer/Coursework1/blob/sangwoo/CW1_Q3.ipynb\" target=\"_parent\"><img src=\"https://colab.research.google.com/assets/colab-badge.svg\" alt=\"Open In Colab\"/></a>"
      ]
    },
    {
      "cell_type": "markdown",
      "metadata": {
        "id": "RiDpdqsG2EW4"
      },
      "source": [
        "#  **Coursework 1**\n",
        "\n",
        "1.   ### **Computationally Efficient Eigenfaces**\n",
        "2.   ### **Incremental PCA**\n",
        "3.   ### **PCA-LDA for Face Recognition**\n",
        "4.   ### **K-means codebook**\n",
        "5.   ### **RF classifier**\n",
        "\n",
        "\n",
        "**by 20190223\tSoohyun Ryu,\t20190247\tSangwoo Park**\n",
        "\n",
        "\n",
        "\n",
        "\n"
      ]
    },
    {
      "cell_type": "markdown",
      "metadata": {
        "id": "AvLRciu5QgA8"
      },
      "source": [
        "**1. Setting!**"
      ]
    },
    {
      "cell_type": "code",
      "metadata": {
        "id": "DmFrSEqT2EW5"
      },
      "source": [
        "import os\n",
        "import time\n",
        "# import torch\n",
        "# import torch.nn as nn\n",
        "# import torchvision.transforms as transforms\n",
        "# import matplotlib.pyplot as plt\n",
        "# import datetime\n",
        "# import math\n",
        "# import sys\n",
        "import pandas as pd\n",
        "import numpy as np\n",
        "import matplotlib.pyplot as plt\n",
        "from scipy import io\n",
        "from sklearn.model_selection import train_test_split"
      ],
      "execution_count": 1,
      "outputs": []
    },
    {
      "cell_type": "code",
      "metadata": {
        "id": "bkTIgoexPBxA",
        "colab": {
          "base_uri": "https://localhost:8080/"
        },
        "outputId": "d4177f9a-de89-4973-f510-25cffe5b1f81"
      },
      "source": [
        "from google.colab import drive\n",
        "drive.mount('/content/drive')"
      ],
      "execution_count": 2,
      "outputs": [
        {
          "output_type": "stream",
          "name": "stdout",
          "text": [
            "Mounted at /content/drive\n"
          ]
        }
      ]
    },
    {
      "cell_type": "code",
      "metadata": {
        "id": "PQz1q0Pdh0ZY",
        "colab": {
          "base_uri": "https://localhost:8080/"
        },
        "outputId": "fecf1332-c8df-4556-d214-47483ebd9b2b"
      },
      "source": [
        "mat_file = io.loadmat(\"/content/drive/MyDrive/CV_ML/CW1/face.mat\")\n",
        "mat_X = mat_file['X']\n",
        "mat_Y = mat_file['l'][0]\n",
        "\n",
        "print(mat_file.keys()) \n",
        "print(mat_X.shape)                         # 총 52명. 각 10장의 사진. "
      ],
      "execution_count": 3,
      "outputs": [
        {
          "output_type": "stream",
          "name": "stdout",
          "text": [
            "dict_keys(['__header__', '__version__', '__globals__', 'X', 'l'])\n",
            "(2576, 520)\n"
          ]
        }
      ]
    },
    {
      "cell_type": "code",
      "metadata": {
        "id": "EZ00poKQHwno",
        "colab": {
          "base_uri": "https://localhost:8080/"
        },
        "outputId": "ec11522c-a13b-4a3f-96cc-0a2ebd2a24a9"
      },
      "source": [
        "df = pd.DataFrame(data=mat_X).transpose()\n",
        "df['label'] = mat_Y                         # row -> data, col -> feature\n",
        "X = df.iloc[:, :-1].values\n",
        "Y = df.iloc[:, -1].values                   # Target column\n",
        "\n",
        "X_train, X_test, y_train, y_test = train_test_split(X, \n",
        "                                                    Y, \n",
        "                                                    test_size=0.2, \n",
        "                                                    shuffle=True,\n",
        "                                                    stratify=Y, \n",
        "                                                    random_state=1004)          \n",
        "# 얼굴 그룹 비율 유지               \n",
        "# test/train ratio = 0.2\n",
        "# random_state -> before dividing, seed for shuffling\n",
        "print('X_train shape:', X_train.shape)\n",
        "print('X_test shape:', X_test.shape)\n",
        "print('y_train shape:', y_train.shape)\n",
        "print('y_test shape:', y_test.shape)\n",
        "np.unique(y_train, return_counts=True)    # 52명의 얼굴이 80%씩 고르게 train set에 들어간 모습"
      ],
      "execution_count": 20,
      "outputs": [
        {
          "output_type": "stream",
          "name": "stdout",
          "text": [
            "X_train shape: (416, 2576)\n",
            "X_test shape: (104, 2576)\n",
            "y_train shape: (416,)\n",
            "y_test shape: (104,)\n"
          ]
        },
        {
          "output_type": "execute_result",
          "data": {
            "text/plain": [
              "(array([ 1,  2,  3,  4,  5,  6,  7,  8,  9, 10, 11, 12, 13, 14, 15, 16, 17,\n",
              "        18, 19, 20, 21, 22, 23, 24, 25, 26, 27, 28, 29, 30, 31, 32, 33, 34,\n",
              "        35, 36, 37, 38, 39, 40, 41, 42, 43, 44, 45, 46, 47, 48, 49, 50, 51,\n",
              "        52], dtype=uint8),\n",
              " array([8, 8, 8, 8, 8, 8, 8, 8, 8, 8, 8, 8, 8, 8, 8, 8, 8, 8, 8, 8, 8, 8,\n",
              "        8, 8, 8, 8, 8, 8, 8, 8, 8, 8, 8, 8, 8, 8, 8, 8, 8, 8, 8, 8, 8, 8,\n",
              "        8, 8, 8, 8, 8, 8, 8, 8]))"
            ]
          },
          "metadata": {},
          "execution_count": 20
        }
      ]
    },
    {
      "cell_type": "markdown",
      "metadata": {
        "id": "ViTBzz6jUGM0"
      },
      "source": [
        "## **1. Computationally Efficient Eignefaces**\n",
        "\n"
      ]
    },
    {
      "cell_type": "code",
      "metadata": {
        "id": "08Dial6zDJui"
      },
      "source": [
        "\n",
        "# 평균 얼굴 계산 함수 \n",
        "def AvgCompute(X): \n",
        "  Xbar = np.mean(X, axis=0)  \n",
        "  matrix_A = X - Xbar \n",
        "  return matrix_A, Xbar\n",
        "\n",
        "# 고유값, 고유벡터 계산 함수\n",
        "def eig(S): \n",
        "  eig_vals, eig_vecs = np.linalg.eig(S) \n",
        "  sort_indices = np.argsort(eig_vals)[::-1] # 내림차순 정렬 \n",
        "  return eig_vals[sort_indices], eig_vecs[:, sort_indices]\n",
        "\n",
        "# Reconstruction에 쓰일 함수\n",
        "def reconstruct(X, PC): \n",
        "  return (X @ PC) @ PC.T\n",
        "\n",
        "# PCA 과정\n",
        "def PCA(X, num_components, low_dim = False): # X == train set, num_components == 선택할 eigen vector 개수\n",
        "  start = time.time()\n",
        "  N, D = X.shape \n",
        "  matrix_A, X_bar = AvgCompute(X)\n",
        "  if not low_dim:\n",
        "    S = (matrix_A.T @ matrix_A) / N\n",
        "  else:\n",
        "    S = (matrix_A @ matrix_A.T) / N\n",
        "\n",
        "  eig_vals, eig_vecs = eig(S)\n",
        "  principal_vals, principal_components = np.real(eig_vals[:num_components]), np.real(eig_vecs[:,:num_components]) \n",
        "  \n",
        "  if low_dim:\n",
        "    norm = np.linalg.norm(matrix_A.T @ principal_components, axis = 0)\n",
        "    principal_components = ((matrix_A.T @ principal_components) / norm[np.newaxis, :])\n",
        "\n",
        "  reconst_X = reconstruct(matrix_A, principal_components) + X_bar \n",
        "  comp_time = time.time() - start\n",
        "  \n",
        "  return reconst_X, X_bar, principal_vals, principal_components, comp_time"
      ],
      "execution_count": 5,
      "outputs": []
    },
    {
      "cell_type": "code",
      "metadata": {
        "id": "hMC9_YPEYCR7",
        "colab": {
          "base_uri": "https://localhost:8080/",
          "height": 284
        },
        "outputId": "36b5f254-084d-4dab-a256-0c50511e6a2a"
      },
      "source": [
        "A, X_bar = AvgCompute(X_train) \n",
        "A = A.T\n",
        "\n",
        "plt.imshow(np.reshape(X_bar,(46,56)).T, cmap = 'gist_gray') # 평균 얼굴 출력"
      ],
      "execution_count": 6,
      "outputs": [
        {
          "output_type": "execute_result",
          "data": {
            "text/plain": [
              "<matplotlib.image.AxesImage at 0x7fbd299bd390>"
            ]
          },
          "metadata": {},
          "execution_count": 6
        },
        {
          "output_type": "display_data",
          "data": {
            "image/png": "[encoded data removed]",
            "text/plain": [
              "<Figure size 432x288 with 1 Axes>"
            ]
          },
          "metadata": {
            "needs_background": "light"
          }
        }
      ]
    },
    {
      "cell_type": "markdown",
      "metadata": {
        "id": "Rz_lxOm3WZS_"
      },
      "source": [
        "## PCA Method\n"
      ]
    },
    {
      "cell_type": "code",
      "metadata": {
        "id": "NFicPNM2Y8SN",
        "colab": {
          "base_uri": "https://localhost:8080/",
          "height": 1000
        },
        "outputId": "31bfb135-8c4d-40bd-f038-dbe6157e9c4b"
      },
      "source": [
        "# number of PCA bases 바꾸면서 reconstruction error 측정\n",
        "max_num = 100\n",
        "start_num = 10\n",
        "error_list = []\n",
        "computation_time = []\n",
        "\n",
        "os.makedirs(\"./PCA_org\", exist_ok=True)\n",
        "os.makedirs(\"./PCA_low_dim\", exist_ok=True)\n",
        "\n",
        "# Original PCA / Low-dim PCA\n",
        "low_dim=True\n",
        "# low_dim=True\n",
        "if low_dim:\n",
        "    root_path = \"./PCA_low_dim\"\n",
        "else:\n",
        "    root_path = \"./PCA_org\"\n",
        "\n",
        "for i in range(start_num, max_num+1):\n",
        "    reconst_X, X_bar, principal_vals, principal_components, comp_time = PCA(X_train, i, low_dim)\n",
        "    recon_loss = np.linalg.norm((X_train - reconst_X), None)\n",
        "    error_list.append(recon_loss)\n",
        "    computation_time.append(comp_time)\n",
        "    # To see the reconstructed images\n",
        "    plt.imsave(f\"{root_path}/{i}_recon.png\", np.reshape(reconst_X[0,:],(46,56)).T, cmap = 'gist_gray')\n",
        "    print(f\"{i-start_num+1}/{max_num-start_num+1}\")\n",
        "\n",
        "if not low_dim:\n",
        "    PCA_name = \"Original PCA\"\n",
        "else:\n",
        "    PCA_name = \"Low-dim PCA\"\n",
        "\n",
        "x_axis = list(range(start_num, max_num+1))\n",
        "fig_recon, ax_recon = plt.subplots(2,1)\n",
        "ax_recon[0].plot(x_axis, error_list)\n",
        "ax_recon[0].set_xlabel(\"number of PCA bases\")\n",
        "ax_recon[0].set_ylabel(\"reconstruction error\")\n",
        "ax_recon[0].set_title(f\"Reconstruction error of {PCA_name}\")\n",
        "\n",
        "ax_recon[1].plot(x_axis, computation_time)\n",
        "ax_recon[1].set_xlabel(\"number of PCA bases\")\n",
        "ax_recon[1].set_ylabel(\"computation time\")\n",
        "ax_recon[1].set_title(f\"Computation time of {PCA_name}\")\n",
        "\n",
        "fig_recon.tight_layout(pad=2.0)\n",
        "\n",
        "plt.show()\n",
        "\n",
        "print(f\"average computation time = {np.mean(computation_time)}\")"
      ],
      "execution_count": 10,
      "outputs": [
        {
          "output_type": "stream",
          "name": "stdout",
          "text": [
            "1/91\n",
            "2/91\n",
            "3/91\n",
            "4/91\n",
            "5/91\n",
            "6/91\n",
            "7/91\n",
            "8/91\n",
            "9/91\n",
            "10/91\n",
            "11/91\n",
            "12/91\n",
            "13/91\n",
            "14/91\n",
            "15/91\n",
            "16/91\n",
            "17/91\n",
            "18/91\n",
            "19/91\n",
            "20/91\n",
            "21/91\n",
            "22/91\n",
            "23/91\n",
            "24/91\n",
            "25/91\n",
            "26/91\n",
            "27/91\n",
            "28/91\n",
            "29/91\n",
            "30/91\n",
            "31/91\n",
            "32/91\n",
            "33/91\n",
            "34/91\n",
            "35/91\n",
            "36/91\n",
            "37/91\n",
            "38/91\n",
            "39/91\n",
            "40/91\n",
            "41/91\n",
            "42/91\n",
            "43/91\n",
            "44/91\n",
            "45/91\n",
            "46/91\n",
            "47/91\n",
            "48/91\n",
            "49/91\n",
            "50/91\n",
            "51/91\n",
            "52/91\n",
            "53/91\n",
            "54/91\n",
            "55/91\n",
            "56/91\n",
            "57/91\n",
            "58/91\n",
            "59/91\n",
            "60/91\n",
            "61/91\n",
            "62/91\n",
            "63/91\n",
            "64/91\n",
            "65/91\n",
            "66/91\n",
            "67/91\n",
            "68/91\n",
            "69/91\n",
            "70/91\n",
            "71/91\n",
            "72/91\n",
            "73/91\n",
            "74/91\n",
            "75/91\n",
            "76/91\n",
            "77/91\n",
            "78/91\n",
            "79/91\n",
            "80/91\n",
            "81/91\n",
            "82/91\n",
            "83/91\n",
            "84/91\n",
            "85/91\n",
            "86/91\n",
            "87/91\n",
            "88/91\n",
            "89/91\n",
            "90/91\n",
            "91/91\n"
          ]
        },
        {
          "output_type": "display_data",
          "data": {
            "image/png": "[encoded data removed]",
            "text/plain": [
              "<Figure size 432x288 with 2 Axes>"
            ]
          },
          "metadata": {
            "needs_background": "light"
          }
        },
        {
          "output_type": "stream",
          "name": "stdout",
          "text": [
            "average computation time = 0.2557547302036495\n"
          ]
        }
      ]
    },
    {
      "cell_type": "code",
      "metadata": {
        "colab": {
          "base_uri": "https://localhost:8080/"
        },
        "id": "uj8tnKmBgFs4",
        "outputId": "6ed543bc-c112-4cec-ca75-dd7778c29c06"
      },
      "source": [
        "print(principal_components.shape)"
      ],
      "execution_count": 126,
      "outputs": [
        {
          "output_type": "stream",
          "name": "stdout",
          "text": [
            "(2576, 100)\n"
          ]
        }
      ]
    },
    {
      "cell_type": "markdown",
      "metadata": {
        "id": "yt5gXBE-WfRK"
      },
      "source": [
        "## PCA-LDA Method"
      ]
    },
    {
      "cell_type": "code",
      "metadata": {
        "id": "3e2shs8EWUWr"
      },
      "source": [
        "def LDA_decompose(X, num_pca, num_lda):\n",
        "  reconst_X, X_bar, principal_vals, principal_components, comp_time = PCA(X, num_pca, True)   # 편의상 Low_Dim\n",
        "\n",
        "  sort_indices = np.argsort(y_train)\n",
        "  y_train_sorted = y_train[sort_indices]\n",
        "  X_train_sorted = X_train[sort_indices]\n",
        "\n",
        "  meanlist = []\n",
        "  j = 0\n",
        "  for i in range(10):\n",
        "    mean = np.mean(X_train_sorted[j:j+8,:], axis=0)\n",
        "    meanlist.append(mean)\n",
        "    j = j+8  \n",
        "\n",
        "  # Between class scatter matrix\n",
        "  mean_global = np.mean(meanlist, axis = 0)\n",
        "  meanlist_sub = np.array([(i-mean_global) for i in meanlist])\n",
        "  S_bet = 8 * meanlist_sub.T @ meanlist_sub\n",
        "\n",
        "  # Within class scatter matrix\n",
        "  within_sub = []\n",
        "  j=0\n",
        "  for i in range(10):\n",
        "    within_sub.append(np.subtract(X_train_sorted[j:j+8,:], meanlist[i]))\n",
        "    j = j+8\n",
        "  within_sub = np.array([(i.T @ i) for i in within_sub])\n",
        "  S_with = np.sum(within_sub, axis = 0) \n",
        "\n",
        "  start = time.time()\n",
        "  # 1. PCA\n",
        "  S_bet_PCA = principal_components.T @ S_bet @ principal_components\n",
        "  S_with_PCA = principal_components.T @ S_with @ principal_components\n",
        "\n",
        "  # 2. LDA\n",
        "  discriminant_vals, discriminant_components = eig((np.linalg.inv(S_with_PCA) @ S_bet_PCA))\n",
        "  discriminant_vals, discriminant_components = np.real(discriminant_vals[:num_lda]), np.real(discriminant_components[:,:num_lda]) \n",
        "  \n",
        "  comp_time = time.time() - start\n",
        "\n",
        "  return discriminant_components, discriminant_vals, comp_time"
      ],
      "execution_count": 173,
      "outputs": []
    },
    {
      "cell_type": "code",
      "metadata": {
        "colab": {
          "base_uri": "https://localhost:8080/",
          "height": 293
        },
        "id": "5hDwZ0iSqJDY",
        "outputId": "e6db2369-3c17-46df-b421-b5de184e6d72"
      },
      "source": [
        "discriminant_components, discriminant_vals, comp_time = LDA_decompose(X_train, 200, 51)   # max(discriminant_components) = 416-52, max(discriminant_vals) = 52-1\n",
        "\n",
        "\n",
        "x_axis = list(range(0, 51))\n",
        "plt.plot(x_axis, discriminant_vals)\n",
        "ax_recon[0].set_title(f\"Eigen value of PCA-LDA\")\n",
        "print(f\"PCA-LDA computation time = {comp_time}\")"
      ],
      "execution_count": 179,
      "outputs": [
        {
          "output_type": "stream",
          "name": "stdout",
          "text": [
            "PCA-LDA computation time = 0.25502800941467285\n"
          ]
        },
        {
          "output_type": "display_data",
          "data": {
            "image/png": "[encoded data removed]",
            "text/plain": [
              "<Figure size 432x288 with 1 Axes>"
            ]
          },
          "metadata": {
            "needs_background": "light"
          }
        }
      ]
    },
    {
      "cell_type": "code",
      "metadata": {
        "id": "b5DIl3isY7zm"
      },
      "source": [
        "from sklearn.metrics import accuracy_score\n",
        "\n",
        "# 너꺼 그대로 복붙했는데 변수이름 바꿔야 할듯!\n",
        "# NN Classfication\n",
        "X_result = X_test @ principal_components\n",
        "\n",
        "y_pred = []\n",
        "label = 0\n",
        "for query in X_result:\n",
        "  Args = []\n",
        "  for trained in X_Projected:\n",
        "    Args.append(np.linalg.norm(query - trained))\n",
        "  y_pred.append(y_train[np.argmin(Args)])\n",
        "\n",
        "print(accuracy_score(y_test, y_pred))"
      ],
      "execution_count": null,
      "outputs": []
    }
  ]
}