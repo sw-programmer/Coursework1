{
  "nbformat": 4,
  "nbformat_minor": 0,
  "metadata": {
    "accelerator": "GPU",
    "colab": {
      "name": "CW1_Q3.ipynb",
      "provenance": [],
      "collapsed_sections": [],
      "include_colab_link": true
    },
    "kernelspec": {
      "display_name": "Python 3",
      "name": "python3"
    },
    "language_info": {
      "codemirror_mode": {
        "name": "ipython",
        "version": 3
      },
      "file_extension": ".py",
      "mimetype": "text/x-python",
      "name": "python",
      "nbconvert_exporter": "python",
      "pygments_lexer": "ipython3",
      "version": "3.7.4-final"
    }
  },
  "cells": [
    {
      "cell_type": "markdown",
      "metadata": {
        "id": "view-in-github",
        "colab_type": "text"
      },
      "source": [
        "<a href=\"https://colab.research.google.com/github/sw-programmer/Coursework1/blob/sangwoo/CW1_Q3.ipynb\" target=\"_parent\"><img src=\"https://colab.research.google.com/assets/colab-badge.svg\" alt=\"Open In Colab\"/></a>"
      ]
    },
    {
      "cell_type": "markdown",
      "metadata": {
        "id": "RiDpdqsG2EW4"
      },
      "source": [
        "#  **Coursework 1**\n",
        "\n",
        "1.   ### **Computationally Efficient Eigenfaces**\n",
        "2.   ### **Incremental PCA**\n",
        "3.   ### **PCA-LDA for Face Recognition**\n",
        "4.   ### **K-means codebook**\n",
        "5.   ### **RF classifier**\n",
        "\n",
        "\n",
        "**by 20190223\tSoohyun Ryu,\t20190247\tSangwoo Park**\n",
        "\n",
        "\n",
        "\n",
        "\n"
      ]
    },
    {
      "cell_type": "markdown",
      "metadata": {
        "id": "AvLRciu5QgA8"
      },
      "source": [
        "**1. Setting!**"
      ]
    },
    {
      "cell_type": "code",
      "metadata": {
        "id": "DmFrSEqT2EW5"
      },
      "source": [
        "import os\n",
        "import time\n",
        "# import torch\n",
        "# import torch.nn as nn\n",
        "# import torchvision.transforms as transforms\n",
        "# import matplotlib.pyplot as plt\n",
        "# import datetime\n",
        "# import math\n",
        "# import sys\n",
        "import pandas as pd\n",
        "import numpy as np\n",
        "import matplotlib.pyplot as plt\n",
        "from scipy import io\n",
        "from sklearn.model_selection import train_test_split\n",
        "from sklearn.metrics import accuracy_score"
      ],
      "execution_count": 2,
      "outputs": []
    },
    {
      "cell_type": "code",
      "metadata": {
        "id": "bkTIgoexPBxA",
        "colab": {
          "base_uri": "https://localhost:8080/"
        },
        "outputId": "abc74956-7ffb-446b-c0f7-3efdaf82d517"
      },
      "source": [
        "from google.colab import drive\n",
        "drive.mount('/content/drive')"
      ],
      "execution_count": 3,
      "outputs": [
        {
          "output_type": "stream",
          "name": "stdout",
          "text": [
            "Drive already mounted at /content/drive; to attempt to forcibly remount, call drive.mount(\"/content/drive\", force_remount=True).\n"
          ]
        }
      ]
    },
    {
      "cell_type": "code",
      "metadata": {
        "id": "PQz1q0Pdh0ZY",
        "colab": {
          "base_uri": "https://localhost:8080/"
        },
        "outputId": "f1beda73-0b12-4757-fd8e-400ec910b62f"
      },
      "source": [
        "mat_file = io.loadmat(\"/content/drive/MyDrive/CV_ML/CW1/face.mat\")\n",
        "mat_X = mat_file['X']\n",
        "mat_Y = mat_file['l'][0]\n",
        "\n",
        "print(mat_file.keys()) \n",
        "print(mat_X.shape)                         # 총 52명. 각 10장의 사진. "
      ],
      "execution_count": 4,
      "outputs": [
        {
          "output_type": "stream",
          "name": "stdout",
          "text": [
            "dict_keys(['__header__', '__version__', '__globals__', 'X', 'l'])\n",
            "(2576, 520)\n"
          ]
        }
      ]
    },
    {
      "cell_type": "code",
      "metadata": {
        "id": "EZ00poKQHwno",
        "colab": {
          "base_uri": "https://localhost:8080/"
        },
        "outputId": "635af3e2-6309-4a8c-efce-d665592758b4"
      },
      "source": [
        "df = pd.DataFrame(data=mat_X).transpose()\n",
        "df['label'] = mat_Y                         # row -> data, col -> feature\n",
        "X = df.iloc[:, :-1].values\n",
        "Y = df.iloc[:, -1].values                   # Target column\n",
        "\n",
        "X_train, X_test, y_train, y_test = train_test_split(X, \n",
        "                                                    Y, \n",
        "                                                    test_size=0.2, \n",
        "                                                    shuffle=True,\n",
        "                                                    stratify=Y, \n",
        "                                                    random_state=1004)          \n",
        "# 얼굴 그룹 비율 유지               \n",
        "# test/train ratio = 0.2\n",
        "# random_state -> before dividing, seed for shuffling\n",
        "print('X_train shape:', X_train.shape)\n",
        "print('X_test shape:', X_test.shape)\n",
        "print('y_train shape:', y_train.shape)\n",
        "print('y_test shape:', y_test.shape)\n",
        "X_test_mean = np.mean(X_test, axis = 0)\n",
        "X_train_mean = np.mean(X_train, axis = 0)\n",
        "np.unique(y_train, return_counts=True)    # 52명의 얼굴이 80%씩 고르게 train set에 들어간 모습"
      ],
      "execution_count": 5,
      "outputs": [
        {
          "output_type": "stream",
          "name": "stdout",
          "text": [
            "X_train shape: (416, 2576)\n",
            "X_test shape: (104, 2576)\n",
            "y_train shape: (416,)\n",
            "y_test shape: (104,)\n"
          ]
        },
        {
          "output_type": "execute_result",
          "data": {
            "text/plain": [
              "(array([ 1,  2,  3,  4,  5,  6,  7,  8,  9, 10, 11, 12, 13, 14, 15, 16, 17,\n",
              "        18, 19, 20, 21, 22, 23, 24, 25, 26, 27, 28, 29, 30, 31, 32, 33, 34,\n",
              "        35, 36, 37, 38, 39, 40, 41, 42, 43, 44, 45, 46, 47, 48, 49, 50, 51,\n",
              "        52], dtype=uint8),\n",
              " array([8, 8, 8, 8, 8, 8, 8, 8, 8, 8, 8, 8, 8, 8, 8, 8, 8, 8, 8, 8, 8, 8,\n",
              "        8, 8, 8, 8, 8, 8, 8, 8, 8, 8, 8, 8, 8, 8, 8, 8, 8, 8, 8, 8, 8, 8,\n",
              "        8, 8, 8, 8, 8, 8, 8, 8]))"
            ]
          },
          "metadata": {},
          "execution_count": 5
        }
      ]
    },
    {
      "cell_type": "code",
      "metadata": {
        "id": "08Dial6zDJui"
      },
      "source": [
        "# NN Classfication\n",
        "def NN(X_trained, X_test, y_pred):\n",
        "  for query in X_test:\n",
        "    Args = []\n",
        "    for trained in X_trained:\n",
        "      Args.append(np.linalg.norm(query - trained))\n",
        "    y_pred.append(y_train[np.argmin(Args)])\n",
        "  return accuracy_score(y_test, y_pred), y_pred\n",
        "\n",
        "# 평균 얼굴 계산 함수 \n",
        "def AvgCompute(X): \n",
        "  Xbar = np.mean(X, axis=0)  \n",
        "  matrix_A = X - Xbar \n",
        "  return matrix_A, Xbar\n",
        "\n",
        "# 고유값, 고유벡터 계산 함수\n",
        "def eig(S): \n",
        "  eig_vals, eig_vecs = np.linalg.eig(S) \n",
        "  sort_indices = np.argsort(eig_vals)[::-1] # 내림차순 정렬 \n",
        "  return eig_vals[sort_indices], eig_vecs[:, sort_indices]\n",
        "\n",
        "# Reconstruction에 쓰일 함수\n",
        "def reconstruct(X, PC): \n",
        "  return (X @ PC) @ PC.T\n",
        "\n",
        "# PCA 과정\n",
        "def PCA(X, num_components, low_dim = False): # X == train set, num_components == 선택할 eigen vector 개수\n",
        "  start = time.time()\n",
        "  N, D = X.shape \n",
        "  matrix_A, X_bar = AvgCompute(X)\n",
        "  if not low_dim:\n",
        "    S = (matrix_A.T @ matrix_A) / N\n",
        "  else:\n",
        "    S = (matrix_A @ matrix_A.T) / N\n",
        "\n",
        "  eig_vals, eig_vecs = eig(S)\n",
        "  principal_vals, principal_components = np.real(eig_vals[:num_components]), np.real(eig_vecs[:,:num_components]) \n",
        "  \n",
        "  if low_dim:\n",
        "    norm = np.linalg.norm(matrix_A.T @ principal_components, axis = 0)\n",
        "    principal_components = ((matrix_A.T @ principal_components) / norm[np.newaxis, :])\n",
        "\n",
        "  reconst_X = reconstruct(matrix_A, principal_components) + X_bar \n",
        "  comp_time = time.time() - start\n",
        "  \n",
        "  return reconst_X, X_bar, principal_vals, principal_components, comp_time"
      ],
      "execution_count": 6,
      "outputs": []
    },
    {
      "cell_type": "code",
      "metadata": {
        "id": "hMC9_YPEYCR7",
        "colab": {
          "base_uri": "https://localhost:8080/",
          "height": 284
        },
        "outputId": "96b2e8d0-ca42-4549-ac27-25c73debb984"
      },
      "source": [
        "A, X_bar = AvgCompute(X_train) \n",
        "A = A.T\n",
        "\n",
        "plt.imshow(np.reshape(X_bar,(46,56)).T, cmap = 'gist_gray') # 평균 얼굴 출력"
      ],
      "execution_count": 7,
      "outputs": [
        {
          "output_type": "execute_result",
          "data": {
            "text/plain": [
              "<matplotlib.image.AxesImage at 0x7f76cfb81250>"
            ]
          },
          "metadata": {},
          "execution_count": 7
        },
        {
          "output_type": "display_data",
          "data": {
            "image/png": "[encoded data removed]",
            "text/plain": [
              "<Figure size 432x288 with 1 Axes>"
            ]
          },
          "metadata": {
            "needs_background": "light"
          }
        }
      ]
    },
    {
      "cell_type": "markdown",
      "metadata": {
        "id": "Rz_lxOm3WZS_"
      },
      "source": [
        "## PCA Method\n"
      ]
    },
    {
      "cell_type": "code",
      "metadata": {
        "id": "NFicPNM2Y8SN",
        "colab": {
          "base_uri": "https://localhost:8080/",
          "height": 1000
        },
        "outputId": "2395fab3-4e09-47cc-dc57-3b342a3583b9"
      },
      "source": [
        "# number of PCA bases 바꾸면서 reconstruction error 측정\n",
        "max_num = 100\n",
        "start_num = 10\n",
        "error_list = []\n",
        "computation_time = []\n",
        "accuracy = []\n",
        "\n",
        "os.makedirs(\"./PCA_org\", exist_ok=True)\n",
        "os.makedirs(\"./PCA_low_dim\", exist_ok=True)\n",
        "\n",
        "# Original PCA / Low-dim PCA\n",
        "low_dim=True\n",
        "# low_dim=True\n",
        "if low_dim:\n",
        "    root_path = \"./PCA_low_dim\"\n",
        "else:\n",
        "    root_path = \"./PCA_org\"\n",
        "\n",
        "for i in range(start_num, max_num+1):\n",
        "    reconst_X, X_bar, principal_vals, principal_components, comp_time = PCA(X_train, i, low_dim)\n",
        "    recon_loss = np.linalg.norm((X_train - reconst_X), None)\n",
        "    error_list.append(recon_loss)\n",
        "    acc, y_predd = NN((X_train - X_bar) @ principal_components, (X_test - X_test_mean) @ principal_components, [])\n",
        "    accuracy.append(acc)\n",
        "    computation_time.append(comp_time)\n",
        "    # To see the reconstructed images\n",
        "    plt.imsave(f\"{root_path}/{i}_recon.png\", np.reshape(reconst_X[0,:],(46,56)).T, cmap = 'gist_gray')\n",
        "    print(f\"{i-start_num+1}/{max_num-start_num+1}\")\n",
        "\n",
        "if not low_dim:\n",
        "    PCA_name = \"Original PCA\"\n",
        "else:\n",
        "    PCA_name = \"Low-dim PCA\"\n",
        "\n",
        "x_axis = list(range(start_num, max_num+1))\n",
        "fig_recon, ax_recon = plt.subplots(3,1)\n",
        "ax_recon[0].plot(x_axis, error_list)\n",
        "ax_recon[0].set_xlabel(\"number of PCA bases\")\n",
        "ax_recon[0].set_ylabel(\"reconstruction error\")\n",
        "ax_recon[0].set_title(f\"Reconstruction error of {PCA_name}\")\n",
        "\n",
        "ax_recon[1].plot(x_axis, computation_time)\n",
        "ax_recon[1].set_xlabel(\"number of PCA bases\")\n",
        "ax_recon[1].set_ylabel(\"computation time\")\n",
        "ax_recon[1].set_title(f\"Computation time of {PCA_name}\")\n",
        "\n",
        "ax_recon[2].plot(x_axis, accuracy)\n",
        "ax_recon[2].set_xlabel(\"number of PCA bases\")\n",
        "ax_recon[2].set_ylabel(\"recognition accuracy\")\n",
        "ax_recon[2].set_title(f\"Accuracy of {PCA_name}\")\n",
        "\n",
        "fig_recon.tight_layout(pad=1.0)\n",
        "\n",
        "plt.show()\n",
        "\n",
        "print(f\"average computation time = {np.mean(computation_time)}\")"
      ],
      "execution_count": 8,
      "outputs": [
        {
          "output_type": "stream",
          "name": "stdout",
          "text": [
            "13/91\n",
            "14/91\n",
            "15/91\n",
            "16/91\n",
            "17/91\n",
            "18/91\n",
            "19/91\n",
            "20/91\n",
            "21/91\n",
            "22/91\n",
            "23/91\n",
            "24/91\n",
            "25/91\n",
            "26/91\n",
            "27/91\n",
            "28/91\n",
            "29/91\n",
            "30/91\n",
            "31/91\n",
            "32/91\n",
            "33/91\n",
            "34/91\n",
            "35/91\n",
            "36/91\n",
            "37/91\n",
            "38/91\n",
            "39/91\n",
            "40/91\n",
            "41/91\n",
            "42/91\n",
            "43/91\n",
            "44/91\n",
            "45/91\n",
            "46/91\n",
            "47/91\n",
            "48/91\n",
            "49/91\n",
            "50/91\n",
            "51/91\n",
            "52/91\n",
            "53/91\n",
            "54/91\n",
            "55/91\n",
            "56/91\n",
            "57/91\n",
            "58/91\n",
            "59/91\n",
            "60/91\n",
            "61/91\n",
            "62/91\n",
            "63/91\n",
            "64/91\n",
            "65/91\n",
            "66/91\n",
            "67/91\n",
            "68/91\n",
            "69/91\n",
            "70/91\n",
            "71/91\n",
            "72/91\n",
            "73/91\n",
            "74/91\n",
            "75/91\n",
            "76/91\n",
            "77/91\n",
            "78/91\n",
            "79/91\n",
            "80/91\n",
            "81/91\n",
            "82/91\n",
            "83/91\n",
            "84/91\n",
            "85/91\n",
            "86/91\n",
            "87/91\n",
            "88/91\n",
            "89/91\n",
            "90/91\n",
            "91/91\n"
          ]
        },
        {
          "output_type": "display_data",
          "data": {
            "image/png": "[encoded data removed]",
            "text/plain": [
              "<Figure size 432x288 with 3 Axes>"
            ]
          },
          "metadata": {
            "needs_background": "light"
          }
        },
        {
          "output_type": "stream",
          "name": "stdout",
          "text": [
            "average computation time = 0.2571176618010133\n"
          ]
        }
      ]
    },
    {
      "cell_type": "code",
      "metadata": {
        "colab": {
          "base_uri": "https://localhost:8080/"
        },
        "id": "uj8tnKmBgFs4",
        "outputId": "5d4ca73d-040b-429c-e539-cd695cd2d529"
      },
      "source": [
        "print(principal_components.shape)"
      ],
      "execution_count": 9,
      "outputs": [
        {
          "output_type": "stream",
          "name": "stdout",
          "text": [
            "(2576, 100)\n"
          ]
        }
      ]
    },
    {
      "cell_type": "markdown",
      "metadata": {
        "id": "yt5gXBE-WfRK"
      },
      "source": [
        "## PCA-LDA Method"
      ]
    },
    {
      "cell_type": "code",
      "metadata": {
        "id": "3e2shs8EWUWr"
      },
      "source": [
        "def LDA(X, pc, num_lda): \n",
        "  sort_indices = np.argsort(y_train)\n",
        "  undo_indices = np.argsort(sort_indices)\n",
        "  y_train_sorted = y_train[sort_indices]\n",
        "  X_train_sorted = X_train[sort_indices]\n",
        "\n",
        "  meanlist = []\n",
        "  j = 0\n",
        "  for i in range(52):\n",
        "    mean = np.mean(X_train_sorted[j:j+8,:], axis=0)\n",
        "    meanlist.append(mean)\n",
        "    j = j+8  \n",
        "\n",
        "  start = time.time()\n",
        "  # Between class scatter matrix\n",
        "  mean_global = np.mean(meanlist, axis = 0)\n",
        "  meanlist_sub = np.array([(i-mean_global) for i in meanlist])\n",
        "  S_bet = 8 * meanlist_sub.T @ meanlist_sub\n",
        "\n",
        "  # Within class scatter matrix\n",
        "  within_sub = []\n",
        "  j=0\n",
        "  for i in range(52):\n",
        "    within_sub.append(np.subtract(X_train_sorted[j:j+8,:], meanlist[i]))\n",
        "    j = j+8\n",
        "  within_sub = np.array([(i.T @ i) for i in within_sub])\n",
        "  S_with = np.sum(within_sub, axis = 0)\n",
        "\n",
        "  if(np.linalg.matrix_rank(pc) < pc.shape[1]):\n",
        "    pc = np.unique(pc, axis=1)\n",
        "    print(f\"rank of Sw is {np.linalg.matrix_rank(pc)}\")\n",
        "  else:\n",
        "    pass\n",
        "\n",
        "  # 1. PCA\n",
        "  S_bet_PCA = pc.T @ S_bet @ pc\n",
        "  S_with_PCA = pc.T @ S_with @ pc\n",
        "\n",
        "  # 2. LDA\n",
        "  discriminant_vals, discriminant_components = eig((np.linalg.inv(S_with_PCA) @ S_bet_PCA))\n",
        "  discriminant_vals, discriminant_components = np.real(discriminant_vals[:num_lda]), np.real(discriminant_components[:,:num_lda]) \n",
        "  \n",
        "  comp_time = time.time() - start\n",
        "\n",
        "  return discriminant_components, discriminant_vals, pc, comp_time\n",
        "\n",
        "\n",
        "def PCA_LDA(X, num_pca, num_lda):\n",
        "  reconst_X, X_bar, principal_vals, principal_components, comp_time = PCA(X, num_pca, True)\n",
        "  return LDA(X, principal_components, num_lda)"
      ],
      "execution_count": 43,
      "outputs": []
    },
    {
      "cell_type": "code",
      "metadata": {
        "colab": {
          "base_uri": "https://localhost:8080/",
          "height": 335
        },
        "id": "5hDwZ0iSqJDY",
        "outputId": "ba54120c-72d8-447e-87e6-b0ea3a2ced1e"
      },
      "source": [
        "discriminant_components, discriminant_vals, principal_components_lda, comp_time = PCA_LDA(X_train, 300, 51)   # max(discriminant_components) = 416-52, max(discriminant_vals) = 52-1\n",
        "\n",
        "x_axis = list(range(0, 51))\n",
        "plt.plot(x_axis, discriminant_vals)\n",
        "ax_recon[0].set_title(f\"Eigen value of PCA-LDA\")\n",
        "print(f\"PCA-LDA computation time = {comp_time}\")"
      ],
      "execution_count": 22,
      "outputs": [
        {
          "output_type": "stream",
          "name": "stdout",
          "text": [
            "(2576, 300)\n",
            "300\n",
            "(300, 300)\n",
            "PCA-LDA computation time = 4.408256530761719\n"
          ]
        },
        {
          "output_type": "display_data",
          "data": {
            "image/png": "[encoded data removed]",
            "text/plain": [
              "<Figure size 432x288 with 1 Axes>"
            ]
          },
          "metadata": {
            "needs_background": "light"
          }
        }
      ]
    },
    {
      "cell_type": "code",
      "metadata": {
        "colab": {
          "base_uri": "https://localhost:8080/"
        },
        "id": "pLTinV3lmhkC",
        "outputId": "7bad90e2-9c28-4578-fdc3-f549a30e15f5"
      },
      "source": [
        "X_train_pca = (X_train - X_bar) @ principal_components_lda\n",
        "X_test_pca = (X_test - X_test_mean) @ principal_components_lda\n",
        "print(X_train_pca.shape)\n",
        "print(discriminant_components.shape)\n",
        "result, y_pred = NN(X_train_pca @ discriminant_components, X_test_pca @ discriminant_components, [])\n",
        "print(result)"
      ],
      "execution_count": 12,
      "outputs": [
        {
          "output_type": "stream",
          "name": "stdout",
          "text": [
            "(416, 300)\n",
            "(300, 51)\n",
            "0.8942307692307693\n"
          ]
        }
      ]
    },
    {
      "cell_type": "code",
      "metadata": {
        "id": "usW-m5ATlo6V"
      },
      "source": [
        "### ST = SB + SW 임을 보일 수 있어야 한다. With using rank"
      ],
      "execution_count": 13,
      "outputs": []
    },
    {
      "cell_type": "code",
      "metadata": {
        "id": "udk0o8u0l51c"
      },
      "source": [
        "### Confushion Matrix"
      ],
      "execution_count": 14,
      "outputs": []
    },
    {
      "cell_type": "code",
      "metadata": {
        "id": "dmWuz-MlmNl_"
      },
      "source": [
        "### Time/Memory\n",
        "import psutil\n",
        "\n",
        "def memory_usage(message: str = 'debug'):\n",
        "    # current process RAM usage\n",
        "    p = psutil.Process()\n",
        "    rss = p.memory_info().rss / 2 ** 20 # Bytes to MB\n",
        "    print(f\"[{message}] memory usage: {rss: 10.5f} MB\")"
      ],
      "execution_count": 15,
      "outputs": []
    },
    {
      "cell_type": "markdown",
      "metadata": {
        "id": "p7D-sqYREKqv"
      },
      "source": [
        "## PCA-LDA Ensemble"
      ]
    },
    {
      "cell_type": "code",
      "metadata": {
        "id": "X74VWtjsENet"
      },
      "source": [
        "from collections import Counter\n",
        "# PCA first\n",
        "reconst_X, X_bar, principal_vals, principal_components, comp_time = PCA(X_train, 415, True) \n",
        "\n",
        "def PCA_LDA_ensemble(X, T, M0, M1, Mlda): \n",
        "  # Randim Subspaces\n",
        "  pc_M0 = principal_components[:,:M0]\n",
        "  pc_M1_origin = principal_components[:,M0:]\n",
        "\n",
        "  scorelist = []\n",
        "  predictlist = []\n",
        "  for i in range(T):\n",
        "    idx = np.random.randint(415-M0, size=M1)\n",
        "    pc_M1 = pc_M1_origin[:,idx]\n",
        "    pc_Mpca = np.concatenate((pc_M0, pc_M1), axis=1)\n",
        "    discriminant_components, discriminant_vals, pc, comp_time = LDA(X, pc_Mpca, Mlda) \n",
        "\n",
        "    X_train_pca = (X - X_bar) @ pc  \n",
        "    X_test_pca = (X_test - X_test_mean) @ pc\n",
        "    score, y_pred = NN(X_train_pca @ discriminant_components, X_test_pca @ discriminant_components, [])\n",
        "    scorelist.append(score)\n",
        "    predictlist.append(y_pred)\n",
        "\n",
        "  # majority vote\n",
        "  predictlist = np.array(predictlist)\n",
        "  y_pred_voted = []\n",
        "  for i in range(len(X_test)):\n",
        "    candidate = predictlist[:,i]\n",
        "    c = Counter(candidate)\n",
        "    y_pred_voted.append(c.most_common(1)[0][0])\n",
        "\n",
        "  avgError_individual = np.sum(np.square(scorelist))/T  \n",
        "  Error_committee = accuracy_score(y_test, y_pred_voted)\n",
        "\n",
        "  return Error_committee, avgError_individual"
      ],
      "execution_count": 37,
      "outputs": []
    },
    {
      "cell_type": "code",
      "metadata": {
        "colab": {
          "base_uri": "https://localhost:8080/"
        },
        "id": "uhQU3SaagN6A",
        "outputId": "1693e004-5885-4d85-dd6c-8f86a8ee271f"
      },
      "source": [
        "err_committee, err_individual = PCA_LDA_ensemble(X_train, 10, 150, 150, 51)\n",
        "\n",
        "print(err_individual)\n",
        "print(err_committee)"
      ],
      "execution_count": 44,
      "outputs": [
        {
          "output_type": "stream",
          "name": "stdout",
          "text": [
            "rank of Sw is 262\n",
            "rank of Sw is 270\n",
            "rank of Sw is 267\n",
            "rank of Sw is 265\n",
            "rank of Sw is 261\n",
            "rank of Sw is 253\n",
            "rank of Sw is 272\n",
            "rank of Sw is 262\n",
            "rank of Sw is 269\n",
            "rank of Sw is 267\n",
            "(10, 104)\n",
            "0.8398576183431953\n",
            "0.9615384615384616\n"
          ]
        }
      ]
    }
  ]
}