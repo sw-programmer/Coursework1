{
  "nbformat": 4,
  "nbformat_minor": 0,
  "metadata": {
    "accelerator": "GPU",
    "colab": {
      "name": "CW1_Q1.ipynb",
      "provenance": [],
      "collapsed_sections": [],
      "include_colab_link": true
    },
    "kernelspec": {
      "display_name": "Python 3",
      "name": "python3"
    },
    "language_info": {
      "codemirror_mode": {
        "name": "ipython",
        "version": 3
      },
      "file_extension": ".py",
      "mimetype": "text/x-python",
      "name": "python",
      "nbconvert_exporter": "python",
      "pygments_lexer": "ipython3",
      "version": "3.7.4-final"
    }
  },
  "cells": [
    {
      "cell_type": "markdown",
      "metadata": {
        "id": "view-in-github",
        "colab_type": "text"
      },
      "source": [
        "<a href=\"https://colab.research.google.com/github/sw-programmer/Coursework1/blob/sangwoo/CW1_Q1.ipynb\" target=\"_parent\"><img src=\"https://colab.research.google.com/assets/colab-badge.svg\" alt=\"Open In Colab\"/></a>"
      ]
    },
    {
      "cell_type": "markdown",
      "metadata": {
        "id": "RiDpdqsG2EW4"
      },
      "source": [
        "#  **Coursework 1**\n",
        "\n",
        "1.   ### **Computationally Efficient Eigenfaces**\n",
        "2.   ### **Incremental PCA**\n",
        "3.   ### **PCA-LDA for Face Recognition**\n",
        "4.   ### **K-means codebook**\n",
        "5.   ### **RF classifier**\n",
        "\n",
        "\n",
        "**by 20190223\tSoohyun Ryu,\t20190247\tSangwoo Park**\n",
        "\n",
        "\n",
        "\n",
        "\n"
      ]
    },
    {
      "cell_type": "markdown",
      "metadata": {
        "id": "AvLRciu5QgA8"
      },
      "source": [
        "**1. Setting!**"
      ]
    },
    {
      "cell_type": "code",
      "metadata": {
        "id": "DmFrSEqT2EW5"
      },
      "source": [
        "import os\n",
        "import time\n",
        "# import torch\n",
        "# import torch.nn as nn\n",
        "# import torchvision.transforms as transforms\n",
        "# import matplotlib.pyplot as plt\n",
        "# import datetime\n",
        "# import math\n",
        "# import sys\n",
        "import pandas as pd\n",
        "import numpy as np\n",
        "import matplotlib.pyplot as plt\n",
        "from scipy import io\n",
        "from sklearn.model_selection import train_test_split"
      ],
      "execution_count": null,
      "outputs": []
    },
    {
      "cell_type": "code",
      "metadata": {
        "id": "bkTIgoexPBxA"
      },
      "source": [
        "from google.colab import drive\n",
        "drive.mount('/content/drive')"
      ],
      "execution_count": null,
      "outputs": []
    },
    {
      "cell_type": "code",
      "metadata": {
        "id": "PQz1q0Pdh0ZY"
      },
      "source": [
        "mat_file = io.loadmat(\"/content/drive/MyDrive/CV_ML/CW1/face.mat\")\n",
        "mat_X = mat_file['X']\n",
        "mat_Y = mat_file['l'][0]\n",
        "\n",
        "print(mat_file.keys()) \n",
        "print(mat_X.shape)                         # 총 52명. 각 10장의 사진. "
      ],
      "execution_count": null,
      "outputs": []
    },
    {
      "cell_type": "code",
      "metadata": {
        "id": "EZ00poKQHwno"
      },
      "source": [
        "df = pd.DataFrame(data=mat_X).transpose()\n",
        "df['label'] = mat_Y                         # row -> data, col -> feature\n",
        "X = df.iloc[:, :-1].values\n",
        "Y = df.iloc[:, -1].values                   # Target column\n",
        "\n",
        "X_train, X_test, y_train, y_test = train_test_split(X, \n",
        "                                                    Y, \n",
        "                                                    test_size=0.2, \n",
        "                                                    shuffle=True,\n",
        "                                                    stratify=Y, \n",
        "                                                    random_state=1004)          \n",
        "# 얼굴 그룹 비율 유지               \n",
        "# test/train ratio = 0.2\n",
        "# random_state -> before dividing, seed for shuffling\n",
        "print('X_train shape:', X_train.shape)\n",
        "print('X_test shape:', X_test.shape)\n",
        "print('y_train shape:', y_train.shape)\n",
        "print('y_test shape:', y_test.shape)\n",
        "np.unique(y_train, return_counts=True)    # 52명의 얼굴이 80%씩 고르게 train set에 들어간 모습"
      ],
      "execution_count": null,
      "outputs": []
    },
    {
      "cell_type": "markdown",
      "metadata": {
        "id": "ViTBzz6jUGM0"
      },
      "source": [
        "## **1. Computationally Efficient Eignefaces**\n",
        "\n"
      ]
    },
    {
      "cell_type": "code",
      "metadata": {
        "id": "08Dial6zDJui"
      },
      "source": [
        "\n",
        "# 평균 얼굴 계산 함수 \n",
        "def AvgCompute(X): \n",
        "  Xbar = np.mean(X, axis=0)  \n",
        "  matrix_A = X - Xbar \n",
        "  return matrix_A, Xbar\n",
        "\n",
        "# 고유값, 고유벡터 계산 함수\n",
        "def eig(S): \n",
        "  eig_vals, eig_vecs = np.linalg.eig(S) \n",
        "  sort_indices = np.argsort(eig_vals)[::-1] # 내림차순 정렬 \n",
        "  return eig_vals[sort_indices], eig_vecs[:, sort_indices]\n",
        "\n",
        "# Reconstruction에 쓰일 함수\n",
        "def reconstruct(X, PC): \n",
        "  return (X @ PC) @ PC.T\n",
        "\n",
        "# PCA 과정\n",
        "def PCA(X, num_components, low_dim = False): # X == train set, num_components == 선택할 eigen vector 개수\n",
        "  start = time.time()\n",
        "  N, D = X.shape \n",
        "  matrix_A, X_bar = AvgCompute(X)\n",
        "  if not low_dim:\n",
        "    S = (matrix_A.T @ matrix_A) / N\n",
        "  else:\n",
        "    S = (matrix_A @ matrix_A.T) / N\n",
        "\n",
        "  eig_vals, eig_vecs = eig(S)\n",
        "  principal_vals, principal_components = np.real(eig_vals[:num_components]), np.real(eig_vecs[:,:num_components]) \n",
        "  \n",
        "  if low_dim:\n",
        "    norm = np.linalg.norm(matrix_A.T @ principal_components, axis = 0)\n",
        "    principal_components = ((matrix_A.T @ principal_components) / norm[np.newaxis, :])\n",
        "\n",
        "  reconst_X = reconstruct(matrix_A, principal_components) + X_bar \n",
        "  comp_time = time.time() - start\n",
        "  \n",
        "  return reconst_X, X_bar, principal_vals, principal_components, comp_time"
      ],
      "execution_count": null,
      "outputs": []
    },
    {
      "cell_type": "code",
      "metadata": {
        "id": "hMC9_YPEYCR7"
      },
      "source": [
        "A, X_bar = AvgCompute(X_train) \n",
        "A = A.T\n",
        "\n",
        "plt.imshow(np.reshape(X_bar,(46,56)).T, cmap = 'gist_gray') # 평균 얼굴 출력"
      ],
      "execution_count": null,
      "outputs": []
    },
    {
      "cell_type": "code",
      "metadata": {
        "id": "3iC58f_Qh4d9"
      },
      "source": [
        "### 1. S=(1/N)AAT 방식 ###\n",
        "row, col = X_train.shape\n",
        "S = (A @ A.T) / row\n",
        "eigvals_hi, eigvecs_hi = eig(S) # High dimnesional\n",
        "eigvals_hi = np.real(eigvals_hi)\n",
        "eigvecs_hi = np.real(eigvecs_hi)\n",
        "\n",
        "print(eigvals_hi.shape)"
      ],
      "execution_count": null,
      "outputs": []
    },
    {
      "cell_type": "code",
      "metadata": {
        "id": "fsdeit4WcTRC"
      },
      "source": [
        "### 2.  (1/N)ATA 방식 ###\n",
        "S = (A.T @ A) / row\n",
        "eigvals_lo, eigvecs_lo = eig(S) # Low dimnesional\n",
        "eigvals_lo = np.real(eigvals_lo)\n",
        "eigvecs_lo = np.real(eigvecs_lo)\n",
        "\n",
        "print(eigvals_lo.shape)\n",
        "print(eigvecs_lo.shape)"
      ],
      "execution_count": null,
      "outputs": []
    },
    {
      "cell_type": "markdown",
      "metadata": {
        "id": "xsB8Zzuul1vZ"
      },
      "source": [
        "* Pros : Effieciency of Computation\n",
        "* Cons : 선택할 수 있는 EigenVector 수가 적다(?) -> Less accurate\n",
        "\n"
      ]
    },
    {
      "cell_type": "code",
      "metadata": {
        "id": "L3STPrLAlsDe"
      },
      "source": [
        "### eigval / eigvec 비교 ###\n",
        "fig = plt.figure()\n",
        "ax1 = fig.add_subplot(211)\n",
        "plt.title('Low_Dim')\n",
        "ax1.plot(range(0,40), eigvals_lo[:40], color='orange')\t\n",
        "ax2 = fig.add_subplot(212)\n",
        "plt.title('High_Dim')\n",
        "ax2.plot(range(0,40), eigvals_hi[:40])\t # 두 방식에서 eigenvalue 그래프가 동일함\n",
        "\n",
        "print(A.shape)\n",
        "low = np.linalg.norm(A @ eigvecs_lo[:,:5], axis = 0)\n",
        "print(eigvecs_hi[:,:5])\n",
        "print(A @ eigvecs_lo[:,:5] / low[np.newaxis,:])             # low dim에서 A를 곱해주면 eigenvector 방향까지 동일해짐"
      ],
      "execution_count": null,
      "outputs": []
    },
    {
      "cell_type": "code",
      "metadata": {
        "id": "NFicPNM2Y8SN"
      },
      "source": [
        "# number of PCA bases 바꾸면서 reconstruction error 측정\n",
        "max_num = 100\n",
        "start_num = 10\n",
        "error_list = []\n",
        "computation_time = []\n",
        "\n",
        "os.makedirs(\"./PCA_org\", exist_ok=True)\n",
        "os.makedirs(\"./PCA_low_dim\", exist_ok=True)\n",
        "\n",
        "# Original PCA / Low-dim PCA\n",
        "low_dim=True\n",
        "# low_dim=True\n",
        "if low_dim:\n",
        "    root_path = \"./PCA_low_dim\"\n",
        "else:\n",
        "    root_path = \"./PCA_org\"\n",
        "\n",
        "for i in range(start_num, max_num+1):\n",
        "    reconst_X, X_bar, principal_vals, principal_components, comp_time = PCA(X_train, i, low_dim)\n",
        "    recon_loss = np.linalg.norm((X_train - reconst_X), None)\n",
        "    error_list.append(recon_loss)\n",
        "    computation_time.append(comp_time)\n",
        "    # To see the reconstructed images\n",
        "    plt.imsave(f\"{root_path}/{i}_recon.png\", np.reshape(reconst_X[0,:],(46,56)).T, cmap = 'gist_gray')\n",
        "    print(f\"{i-start_num+1}/{max_num-start_num+1}\")\n",
        "\n",
        "if not low_dim:\n",
        "    PCA_name = \"Original PCA\"\n",
        "else:\n",
        "    PCA_name = \"Low-dim PCA\"\n",
        "\n",
        "x_axis = list(range(start_num, max_num+1))\n",
        "fig_recon, ax_recon = plt.subplots(2,1)\n",
        "ax_recon[0].plot(x_axis, error_list)\n",
        "ax_recon[0].set_xlabel(\"number of PCA bases\")\n",
        "ax_recon[0].set_ylabel(\"reconstruction error\")\n",
        "ax_recon[0].set_title(f\"Reconstruction error of {PCA_name}\")\n",
        "\n",
        "ax_recon[1].plot(x_axis, computation_time)\n",
        "ax_recon[1].set_xlabel(\"number of PCA bases\")\n",
        "ax_recon[1].set_ylabel(\"computation time\")\n",
        "ax_recon[1].set_title(f\"Computation time of {PCA_name}\")\n",
        "\n",
        "fig_recon.tight_layout(pad=2.0)\n",
        "\n",
        "plt.show()\n",
        "\n",
        "print(f\"average computation time = {np.mean(computation_time)}\")"
      ],
      "execution_count": null,
      "outputs": []
    }
  ]
}