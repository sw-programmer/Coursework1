{
  "nbformat": 4,
  "nbformat_minor": 0,
  "metadata": {
    "accelerator": "GPU",
    "colab": {
      "name": "CW1.ipynb",
      "provenance": [],
      "collapsed_sections": [],
      "include_colab_link": true
    },
    "kernelspec": {
      "display_name": "Python 3",
      "name": "python3"
    },
    "language_info": {
      "codemirror_mode": {
        "name": "ipython",
        "version": 3
      },
      "file_extension": ".py",
      "mimetype": "text/x-python",
      "name": "python",
      "nbconvert_exporter": "python",
      "pygments_lexer": "ipython3",
      "version": "3.7.4-final"
    }
  },
  "cells": [
    {
      "cell_type": "markdown",
      "metadata": {
        "id": "view-in-github",
        "colab_type": "text"
      },
      "source": [
        "<a href=\"https://colab.research.google.com/github/sw-programmer/Coursework1/blob/sangwoo/CW1_Q1.ipynb\" target=\"_parent\"><img src=\"https://colab.research.google.com/assets/colab-badge.svg\" alt=\"Open In Colab\"/></a>"
      ]
    },
    {
      "cell_type": "markdown",
      "metadata": {
        "id": "RiDpdqsG2EW4"
      },
      "source": [
        "#  **Coursework 1**\n",
        "\n",
        "1.   ### **Computationally Efficient Eigenfaces**\n",
        "2.   ### **Incremental PCA**\n",
        "3.   ### **PCA-LDA for Face Recognition**\n",
        "4.   ### **K-means codebook**\n",
        "5.   ### **RF classifier**\n",
        "\n",
        "\n",
        "**by 20190223\tSoohyun Ryu,\t20190247\tSangwoo Park**\n",
        "\n",
        "\n",
        "\n",
        "\n"
      ]
    },
    {
      "cell_type": "markdown",
      "metadata": {
        "id": "AvLRciu5QgA8"
      },
      "source": [
        "**1. Setting!**"
      ]
    },
    {
      "cell_type": "code",
      "metadata": {
        "id": "DmFrSEqT2EW5"
      },
      "source": [
        "# import os\n",
        "# import time\n",
        "# import torch\n",
        "# import torch.nn as nn\n",
        "# import torchvision.transforms as transforms\n",
        "# import matplotlib.pyplot as plt\n",
        "# import datetime\n",
        "# import math\n",
        "# import sys\n",
        "import pandas as pd\n",
        "import numpy as np\n",
        "import matplotlib.pyplot as plt\n",
        "from scipy import io\n",
        "from sklearn.model_selection import train_test_split"
      ],
      "execution_count": 2,
      "outputs": []
    },
    {
      "cell_type": "code",
      "metadata": {
        "id": "bkTIgoexPBxA",
        "colab": {
          "base_uri": "https://localhost:8080/"
        },
        "outputId": "bb0dafa8-9963-4368-fdb9-a1f539cbe44e"
      },
      "source": [
        "from google.colab import drive\n",
        "drive.mount('/content/drive')"
      ],
      "execution_count": 3,
      "outputs": [
        {
          "output_type": "stream",
          "name": "stdout",
          "text": [
            "Mounted at /content/drive\n"
          ]
        }
      ]
    },
    {
      "cell_type": "code",
      "metadata": {
        "id": "PQz1q0Pdh0ZY",
        "colab": {
          "base_uri": "https://localhost:8080/"
        },
        "outputId": "ee7959d0-c1a7-4f51-fc22-8bb8132ac8f1"
      },
      "source": [
        "mat_file = io.loadmat(\"/content/drive/MyDrive/CV_ML/CW1/face.mat\")\n",
        "mat_X = mat_file['X']\n",
        "mat_Y = mat_file['l'][0]\n",
        "\n",
        "print(mat_file.keys()) \n",
        "print(mat_X.shape)                         # 총 52명. 각 10장의 사진. "
      ],
      "execution_count": 4,
      "outputs": [
        {
          "output_type": "stream",
          "name": "stdout",
          "text": [
            "dict_keys(['__header__', '__version__', '__globals__', 'X', 'l'])\n",
            "(2576, 520)\n"
          ]
        }
      ]
    },
    {
      "cell_type": "code",
      "metadata": {
        "id": "EZ00poKQHwno",
        "colab": {
          "base_uri": "https://localhost:8080/"
        },
        "outputId": "b073b3b1-d877-4fa6-ed4d-c2de0efcf891"
      },
      "source": [
        "df = pd.DataFrame(data=mat_X).transpose()\n",
        "df['label'] = mat_Y                         # row -> data, col -> feature\n",
        "print(df)\n",
        "\n",
        "X = df.iloc[:, :-1].values\n",
        "Y = df.iloc[:, -1].values # column 'Target'\n",
        "\n",
        "X_train, X_test, Y_train, Y_test = train_test_split( X, Y, test_size=0.2, random_state=35) #sklearn lib\n",
        "# test/train ratio = 0.2\n",
        "# random_state -> before dividing, seed for shuffling\n",
        "print(X_train.shape, X_test.shape, Y_train.shape, Y_test.shape)"
      ],
      "execution_count": 5,
      "outputs": [
        {
          "output_type": "stream",
          "name": "stdout",
          "text": [
            "       0    1    2    3    4    5  ...  2571  2572  2573  2574  2575  label\n",
            "0    106  103  103  104  101  104  ...    41    41    37    36    41      1\n",
            "1    130  129  130  129  133  135  ...    43    41    40    36    35      1\n",
            "2    191  185  174  153  137  114  ...    28    25    22    19    17      1\n",
            "3    161  156  141  132  133  108  ...    57    58    58    59    60      1\n",
            "4    161  162  160  151  107  101  ...    55    52    50    47    46      1\n",
            "..   ...  ...  ...  ...  ...  ...  ...   ...   ...   ...   ...   ...    ...\n",
            "515  181  170  163  160  156  148  ...    93    75    61    50    45     52\n",
            "516   60   68   71   77   76   78  ...    86    86    41    48    65     52\n",
            "517   70   62   83   75   65   71  ...    83    83    87    89    94     52\n",
            "518  183  250  163   61   74   51  ...   123    86   102    95   106     52\n",
            "519   77   72   68   64   62   55  ...    73   142    93   103   110     52\n",
            "\n",
            "[520 rows x 2577 columns]\n",
            "(416, 2576) (104, 2576) (416,) (104,)\n"
          ]
        }
      ]
    },
    {
      "cell_type": "markdown",
      "metadata": {
        "id": "ViTBzz6jUGM0"
      },
      "source": [
        "## **1. Computationally Efficient Eignefaces**\n",
        "\n"
      ]
    },
    {
      "cell_type": "code",
      "metadata": {
        "id": "08Dial6zDJui"
      },
      "source": [
        "# 평균 얼굴 계산 함수 \n",
        "def AvgCompute(X): \n",
        "  Xbar = np.mean(X, axis=0)  \n",
        "  matrix_A = X - Xbar \n",
        "  return matrix_A, Xbar\n",
        "\n",
        "# 고유값, 고유벡터 계산 함수\n",
        "def eig(S): \n",
        "  eig_vals, eig_vecs = np.linalg.eig(S) \n",
        "  sort_indices = np.argsort(eig_vals)[::-1] # 내림차순 정렬 \n",
        "  return eig_vals[sort_indices], eig_vecs[:, sort_indices]\n",
        "\n",
        "# Reconstruction에 쓰일 함수\n",
        "def reconstruct(X, PC):\n",
        "  return (X @ PC) @ PC.T \n",
        "\n",
        "# PCA 과정\n",
        "def PCA(X, num_components, condition=1): # X == train set, num_components == 선택할 eigen vectoe 개수, condition == 1 -> low, otherwise high\n",
        "  N, D = X.shape \n",
        "  matrix_A, X_bar = AvgCompute(X)\n",
        "  if condition == 1 : \n",
        "    S = (matrix_A @ matrix_A.T) / N\n",
        "  else: \n",
        "    S = (matrix_A.T @ matrix_A) / N\n",
        "  eig_vals, eig_vecs = eig(S) \n",
        "  \n",
        "  principal_vals, principal_components = np.real(eig_vals[:num_components]), np.real(eig_vecs[:,:num_components]) \n",
        "  \n",
        "  reconst_X = reconstruct(matrix_A, principal_components) + X_bar \n",
        "  \n",
        "  return reconst_X, X_bar, principal_vals, principal_components"
      ],
      "execution_count": 35,
      "outputs": []
    },
    {
      "cell_type": "code",
      "metadata": {
        "id": "hMC9_YPEYCR7",
        "colab": {
          "base_uri": "https://localhost:8080/",
          "height": 284
        },
        "outputId": "dc71aeba-027d-43c1-f80c-75a34ad58ae7"
      },
      "source": [
        "A, X_bar = AvgCompute(X_train) \n",
        "A = A.T\n",
        "\n",
        "plt.imshow(np.reshape(X_bar,(46,56)).T, cmap = 'gist_gray') # 평균 얼굴 출력"
      ],
      "execution_count": 36,
      "outputs": [
        {
          "output_type": "execute_result",
          "data": {
            "text/plain": [
              "<matplotlib.image.AxesImage at 0x7fa555372950>"
            ]
          },
          "metadata": {},
          "execution_count": 36
        },
        {
          "output_type": "display_data",
          "data": {
            "image/png": "[encoded data removed]",
            "text/plain": [
              "<Figure size 432x288 with 1 Axes>"
            ]
          },
          "metadata": {
            "needs_background": "light"
          }
        }
      ]
    },
    {
      "cell_type": "code",
      "metadata": {
        "colab": {
          "base_uri": "https://localhost:8080/"
        },
        "id": "3iC58f_Qh4d9",
        "outputId": "4fcd3775-e262-43d1-da2d-734e7e06af46"
      },
      "source": [
        "### 1. S=(1/N)AAT 방식 ###\n",
        "row, col = X_train.shape\n",
        "S = (A @ A.T) / row\n",
        "eigvals_hi, eigvecs_hi = eig(S) # High dimnesional\n",
        "eigvals_hi = np.real(eigvals_hi)\n",
        "eigvecs_hi = np.real(eigvecs_hi)\n",
        "\n",
        "print(eigvals_hi.shape)"
      ],
      "execution_count": 37,
      "outputs": [
        {
          "output_type": "stream",
          "name": "stdout",
          "text": [
            "(2576,)\n"
          ]
        }
      ]
    },
    {
      "cell_type": "code",
      "metadata": {
        "colab": {
          "base_uri": "https://localhost:8080/"
        },
        "id": "fsdeit4WcTRC",
        "outputId": "9004c323-2509-4b08-f4cf-05cb3b748de7"
      },
      "source": [
        "### 2.  (1/N)ATA 방식 ###\n",
        "S = (A.T @ A) / row\n",
        "eigvals_lo, eigvecs_lo = eig(S) # Low dimnesional\n",
        "eigvals_lo = np.real(eigvals_lo)\n",
        "eigvecs_lo = np.real(eigvecs_lo)\n",
        "\n",
        "print(eigvals_lo.shape)"
      ],
      "execution_count": 38,
      "outputs": [
        {
          "output_type": "stream",
          "name": "stdout",
          "text": [
            "(416,)\n"
          ]
        }
      ]
    },
    {
      "cell_type": "markdown",
      "metadata": {
        "id": "xsB8Zzuul1vZ"
      },
      "source": [
        "* Pros : Effieciency of Computation\n",
        "* Cons : 선택할 수 있는 EigenVector 수가 적다(?) -> Less accurate\n",
        "\n"
      ]
    },
    {
      "cell_type": "code",
      "metadata": {
        "colab": {
          "base_uri": "https://localhost:8080/",
          "height": 351
        },
        "id": "L3STPrLAlsDe",
        "outputId": "3d44d134-cf5f-4a24-c05b-d82dc73f4555"
      },
      "source": [
        "### eigval / eigvec 비교 ###\n",
        "fig = plt.figure()\n",
        "ax1 = fig.add_subplot(211)\n",
        "plt.title('Low_Dim')\n",
        "ax1.plot(range(0,40), eigvals_lo[:40], color='orange')\t\n",
        "ax2 = fig.add_subplot(212)\n",
        "plt.title('High_Dim')\n",
        "ax2.plot(range(0,40), eigvals_hi[:40])\t # 두 방식에서 eigenvalue 그래프가 동일함\n",
        "\n",
        "low = A @ eigvecs_lo[:,0]\n",
        "print(eigvecs_hi[:,0])\n",
        "print(low/np.linalg.norm(low))             # low dim에서 A를 곱해주면 eigenvector 방향까지 동일해짐"
      ],
      "execution_count": 42,
      "outputs": [
        {
          "output_type": "stream",
          "name": "stdout",
          "text": [
            "[ 0.01305467  0.01440189  0.01539261 ... -0.00112392 -0.00074777\n",
            " -0.0009784 ]\n",
            "[-0.01305467 -0.01440189 -0.01539261 ...  0.00112392  0.00074777\n",
            "  0.0009784 ]\n"
          ]
        },
        {
          "output_type": "display_data",
          "data": {
            "image/png": "[encoded data removed]",
            "text/plain": [
              "<Figure size 432x288 with 2 Axes>"
            ]
          },
          "metadata": {
            "needs_background": "light"
          }
        }
      ]
    },
    {
      "cell_type": "code",
      "metadata": {
        "colab": {
          "base_uri": "https://localhost:8080/",
          "height": 170
        },
        "id": "_PNBBZqMn80j",
        "outputId": "dd7cee20-8955-4e8e-c0af-d9141ddd8c9b"
      },
      "source": [
        "### Face Reconstruction ### \n",
        "# with 10 components\n",
        "reconstruct_hi_10 = reconstruct(X_train, eigvecs_hi[:,0:10])   \n",
        "reconstruct_hi_10 = reconstruct_hi_10 + X_bar\n",
        "\n",
        "# with 50 components\n",
        "reconstruct_hi_50 = reconstruct(X_train, eigvecs_hi[:,0:50])   \n",
        "reconstruct_hi_50 = reconstruct_hi_10 + X_bar\n",
        "\n",
        "# with 100 components\n",
        "reconstruct_hi_100 = reconstruct(X_train, eigvecs_hi[:,0:100])   \n",
        "reconstruct_hi_100 = reconstruct_hi_100 + X_bar\n",
        "\n",
        "fig = plt.figure()\n",
        "ax1 = fig.add_subplot(141)\n",
        "ax1.set_title('Original Img')\n",
        "ax1.imshow(np.reshape(X_train[0,:],(46,56)).T, cmap = 'gist_gray')\t\n",
        "ax2 = fig.add_subplot(142)                \n",
        "ax2.set_title('Reconsturction_hi_10')\n",
        "ax2.imshow(np.reshape(reconstruct_hi_10[0,:],(46,56)).T, cmap = 'gist_gray')\n",
        "ax3 = fig.add_subplot(143)\n",
        "ax3.set_title('Reconsturction_hi_50')\n",
        "ax3.imshow(np.reshape(reconstruct_hi_50[0,:],(46,56)).T, cmap = 'gist_gray')\n",
        "ax4 = fig.add_subplot(144)\n",
        "ax4.set_title('Reconsturction_hi_100')\n",
        "ax4.imshow(np.reshape(reconstruct_hi_100[0,:],(46,56)).T, cmap = 'gist_gray')"
      ],
      "execution_count": 49,
      "outputs": [
        {
          "output_type": "execute_result",
          "data": {
            "text/plain": [
              "<matplotlib.image.AxesImage at 0x7fa5552d7d50>"
            ]
          },
          "metadata": {},
          "execution_count": 49
        },
        {
          "output_type": "display_data",
          "data": {
            "image/png": "[encoded data removed]",
            "text/plain": [
              "<Figure size 432x288 with 4 Axes>"
            ]
          },
          "metadata": {
            "needs_background": "light"
          }
        }
      ]
    }
  ]
}