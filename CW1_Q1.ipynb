{
  "nbformat": 4,
  "nbformat_minor": 0,
  "metadata": {
    "accelerator": "GPU",
    "colab": {
      "name": "CW1_Q1.ipynb",
      "provenance": [],
      "collapsed_sections": [],
      "include_colab_link": true
    },
    "kernelspec": {
      "display_name": "Python 3",
      "name": "python3"
    },
    "language_info": {
      "codemirror_mode": {
        "name": "ipython",
        "version": 3
      },
      "file_extension": ".py",
      "mimetype": "text/x-python",
      "name": "python",
      "nbconvert_exporter": "python",
      "pygments_lexer": "ipython3",
      "version": "3.7.4-final"
    }
  },
  "cells": [
    {
      "cell_type": "markdown",
      "metadata": {
        "id": "view-in-github",
        "colab_type": "text"
      },
      "source": [
        "<a href=\"https://colab.research.google.com/github/sw-programmer/Coursework1/blob/sangwoo/CW1_Q1.ipynb\" target=\"_parent\"><img src=\"https://colab.research.google.com/assets/colab-badge.svg\" alt=\"Open In Colab\"/></a>"
      ]
    },
    {
      "cell_type": "markdown",
      "metadata": {
        "id": "RiDpdqsG2EW4"
      },
      "source": [
        "#  **Coursework 1**\n",
        "\n",
        "1.   ### **Computationally Efficient Eigenfaces**\n",
        "2.   ### **Incremental PCA**\n",
        "3.   ### **PCA-LDA for Face Recognition**\n",
        "4.   ### **K-means codebook**\n",
        "5.   ### **RF classifier**\n",
        "\n",
        "\n",
        "**by 20190223\tSoohyun Ryu,\t20190247\tSangwoo Park**\n",
        "\n",
        "\n",
        "\n",
        "\n"
      ]
    },
    {
      "cell_type": "markdown",
      "metadata": {
        "id": "AvLRciu5QgA8"
      },
      "source": [
        "**1. Setting!**"
      ]
    },
    {
      "cell_type": "code",
      "metadata": {
        "id": "DmFrSEqT2EW5"
      },
      "source": [
        "# import os\n",
        "# import time\n",
        "# import torch\n",
        "# import torch.nn as nn\n",
        "# import torchvision.transforms as transforms\n",
        "# import matplotlib.pyplot as plt\n",
        "# import datetime\n",
        "# import math\n",
        "# import sys\n",
        "import pandas as pd\n",
        "import numpy as np\n",
        "import matplotlib.pyplot as plt\n",
        "from scipy import io\n",
        "from sklearn.model_selection import train_test_split"
      ],
      "execution_count": 1,
      "outputs": []
    },
    {
      "cell_type": "code",
      "metadata": {
        "id": "bkTIgoexPBxA",
        "colab": {
          "base_uri": "https://localhost:8080/"
        },
        "outputId": "70d4bd58-fbd6-4fcc-886e-ecd3b198700c"
      },
      "source": [
        "from google.colab import drive\n",
        "drive.mount('/content/drive')"
      ],
      "execution_count": 2,
      "outputs": [
        {
          "output_type": "stream",
          "name": "stdout",
          "text": [
            "Mounted at /content/drive\n"
          ]
        }
      ]
    },
    {
      "cell_type": "code",
      "metadata": {
        "id": "PQz1q0Pdh0ZY",
        "colab": {
          "base_uri": "https://localhost:8080/"
        },
        "outputId": "40481b2d-b73f-4c0f-d473-f41ae29443fd"
      },
      "source": [
        "mat_file = io.loadmat(\"/content/drive/MyDrive/CV_ML/CW1/face.mat\")\n",
        "mat_X = mat_file['X']\n",
        "mat_Y = mat_file['l'][0]\n",
        "\n",
        "print(mat_file.keys()) \n",
        "print(mat_X.shape)                         # 총 52명. 각 10장의 사진. "
      ],
      "execution_count": 3,
      "outputs": [
        {
          "output_type": "stream",
          "name": "stdout",
          "text": [
            "dict_keys(['__header__', '__version__', '__globals__', 'X', 'l'])\n",
            "(2576, 520)\n"
          ]
        }
      ]
    },
    {
      "cell_type": "code",
      "metadata": {
        "id": "EZ00poKQHwno",
        "colab": {
          "base_uri": "https://localhost:8080/"
        },
        "outputId": "0bf35731-89d8-4468-b571-75a44a8527da"
      },
      "source": [
        "df = pd.DataFrame(data=mat_X).transpose()\n",
        "df['label'] = mat_Y                         # row -> data, col -> feature\n",
        "X = df.iloc[:, :-1].values\n",
        "Y = df.iloc[:, -1].values                   # Target column\n",
        "\n",
        "X_train, X_test, y_train, y_test = train_test_split(X, \n",
        "                                                    Y, \n",
        "                                                    test_size=0.2, \n",
        "                                                    shuffle=True,\n",
        "                                                    stratify=Y, \n",
        "                                                    random_state=1004)          \n",
        "# 얼굴 그룹 비율 유지               \n",
        "# test/train ratio = 0.2\n",
        "# random_state -> before dividing, seed for shuffling\n",
        "print('X_train shape:', X_train.shape)\n",
        "print('X_test shape:', X_test.shape)\n",
        "print('y_train shape:', y_train.shape)\n",
        "print('y_test shape:', y_test.shape)\n",
        "np.unique(y_train, return_counts=True)    # 52명의 얼굴이 80%씩 고르게 train set에 들어간 모습"
      ],
      "execution_count": 32,
      "outputs": [
        {
          "output_type": "stream",
          "name": "stdout",
          "text": [
            "X_train shape: (416, 2576)\n",
            "X_test shape: (104, 2576)\n",
            "y_train shape: (416,)\n",
            "y_test shape: (104,)\n"
          ]
        },
        {
          "output_type": "execute_result",
          "data": {
            "text/plain": [
              "(array([ 1,  2,  3,  4,  5,  6,  7,  8,  9, 10, 11, 12, 13, 14, 15, 16, 17,\n",
              "        18, 19, 20, 21, 22, 23, 24, 25, 26, 27, 28, 29, 30, 31, 32, 33, 34,\n",
              "        35, 36, 37, 38, 39, 40, 41, 42, 43, 44, 45, 46, 47, 48, 49, 50, 51,\n",
              "        52], dtype=uint8),\n",
              " array([8, 8, 8, 8, 8, 8, 8, 8, 8, 8, 8, 8, 8, 8, 8, 8, 8, 8, 8, 8, 8, 8,\n",
              "        8, 8, 8, 8, 8, 8, 8, 8, 8, 8, 8, 8, 8, 8, 8, 8, 8, 8, 8, 8, 8, 8,\n",
              "        8, 8, 8, 8, 8, 8, 8, 8]))"
            ]
          },
          "metadata": {},
          "execution_count": 32
        }
      ]
    },
    {
      "cell_type": "markdown",
      "metadata": {
        "id": "ViTBzz6jUGM0"
      },
      "source": [
        "## **1. Computationally Efficient Eignefaces**\n",
        "\n"
      ]
    },
    {
      "cell_type": "code",
      "metadata": {
        "id": "08Dial6zDJui"
      },
      "source": [
        "# 평균 얼굴 계산 함수 \n",
        "def AvgCompute(X): \n",
        "  Xbar = np.mean(X, axis=0)  \n",
        "  matrix_A = X - Xbar \n",
        "  return matrix_A, Xbar\n",
        "\n",
        "# 고유값, 고유벡터 계산 함수\n",
        "def eig(S): \n",
        "  eig_vals, eig_vecs = np.linalg.eig(S) \n",
        "  sort_indices = np.argsort(eig_vals)[::-1] # 내림차순 정렬 \n",
        "  return eig_vals[sort_indices], eig_vecs[:, sort_indices]\n",
        "\n",
        "# Reconstruction에 쓰일 함수\n",
        "def reconstruct(X, PC):\n",
        "  return (X @ PC) @ PC.T \n",
        "\n",
        "# PCA 과정\n",
        "def PCA(X, num_components, condition=1): # X == train set, num_components == 선택할 eigen vectoe 개수, condition == 1 -> low, otherwise high\n",
        "  N, D = X.shape \n",
        "  matrix_A, X_bar = AvgCompute(X)\n",
        "  if condition == 1 : \n",
        "    S = (matrix_A @ matrix_A.T) / N\n",
        "  else: \n",
        "    S = (matrix_A.T @ matrix_A) / N\n",
        "  eig_vals, eig_vecs = eig(S) \n",
        "  \n",
        "  principal_vals, principal_components = np.real(eig_vals[:num_components]), np.real(eig_vecs[:,:num_components]) \n",
        "  \n",
        "  reconst_X = reconstruct(matrix_A, principal_components) + X_bar\n",
        "  reconst_Err = np.sqrt( np.sum( np.square( reconst_X - X ) ))\n",
        "  \n",
        "  Projected_X = X @ principal_components\n",
        "\n",
        "  return Projected_X, X_bar, principal_components, reconst_Err"
      ],
      "execution_count": 33,
      "outputs": []
    },
    {
      "cell_type": "code",
      "metadata": {
        "id": "hMC9_YPEYCR7",
        "colab": {
          "base_uri": "https://localhost:8080/",
          "height": 284
        },
        "outputId": "520ea22b-4b4f-4006-fcee-3ca94d8fff01"
      },
      "source": [
        "A, X_bar = AvgCompute(X_train) \n",
        "A = A.T\n",
        "\n",
        "plt.imshow(np.reshape(X_bar,(46,56)).T, cmap = 'gist_gray') # 평균 얼굴 출력"
      ],
      "execution_count": 34,
      "outputs": [
        {
          "output_type": "execute_result",
          "data": {
            "text/plain": [
              "<matplotlib.image.AxesImage at 0x7fee878a9a10>"
            ]
          },
          "metadata": {},
          "execution_count": 34
        },
        {
          "output_type": "display_data",
          "data": {
            "image/png": "[encoded data removed]",
            "text/plain": [
              "<Figure size 432x288 with 1 Axes>"
            ]
          },
          "metadata": {
            "needs_background": "light"
          }
        }
      ]
    },
    {
      "cell_type": "code",
      "metadata": {
        "colab": {
          "base_uri": "https://localhost:8080/"
        },
        "id": "3iC58f_Qh4d9",
        "outputId": "c08b0e13-d87a-4b5c-ed91-d8c1d73ab402"
      },
      "source": [
        "### 1. S=(1/N)AAT 방식 ###\n",
        "row, col = X_train.shape\n",
        "S = (A @ A.T) / row\n",
        "eigvals_hi, eigvecs_hi = eig(S) # High dimnesional\n",
        "eigvals_hi = np.real(eigvals_hi)\n",
        "eigvecs_hi = np.real(eigvecs_hi)\n",
        "\n",
        "print(eigvals_hi.shape)"
      ],
      "execution_count": 35,
      "outputs": [
        {
          "output_type": "stream",
          "name": "stdout",
          "text": [
            "(2576,)\n"
          ]
        }
      ]
    },
    {
      "cell_type": "code",
      "metadata": {
        "colab": {
          "base_uri": "https://localhost:8080/"
        },
        "id": "fsdeit4WcTRC",
        "outputId": "cf5064d3-6dff-47d5-dd42-9dc2dcffcff4"
      },
      "source": [
        "### 2.  (1/N)ATA 방식 ###\n",
        "S = (A.T @ A) / row\n",
        "eigvals_lo, eigvecs_lo = eig(S) # Low dimnesional\n",
        "eigvals_lo = np.real(eigvals_lo)\n",
        "eigvecs_lo = np.real(eigvecs_lo)\n",
        "\n",
        "print(eigvals_lo.shape)"
      ],
      "execution_count": 36,
      "outputs": [
        {
          "output_type": "stream",
          "name": "stdout",
          "text": [
            "(416,)\n"
          ]
        }
      ]
    },
    {
      "cell_type": "markdown",
      "metadata": {
        "id": "xsB8Zzuul1vZ"
      },
      "source": [
        "* Pros : Effieciency of Computation\n",
        "* Cons : 선택할 수 있는 EigenVector 수가 적다(?) -> Less accurate\n",
        "\n"
      ]
    },
    {
      "cell_type": "code",
      "metadata": {
        "colab": {
          "base_uri": "https://localhost:8080/",
          "height": 351
        },
        "id": "L3STPrLAlsDe",
        "outputId": "7d29ae7b-f217-44fa-c39c-78d26d353bcb"
      },
      "source": [
        "### eigval / eigvec 비교 ###\n",
        "fig = plt.figure()\n",
        "ax1 = fig.add_subplot(211)\n",
        "plt.title('Low_Dim')\n",
        "ax1.plot(range(0,40), eigvals_lo[:40], color='orange')\t\n",
        "ax2 = fig.add_subplot(212)\n",
        "plt.title('High_Dim')\n",
        "ax2.plot(range(0,40), eigvals_hi[:40])\t # 두 방식에서 eigenvalue 그래프가 동일함\n",
        "\n",
        "low = A @ eigvecs_lo[:,0]\n",
        "print(eigvecs_hi[:,0])\n",
        "print(low/np.linalg.norm(low))             # low dim에서 A를 곱해주면 eigenvector 방향까지 동일해짐"
      ],
      "execution_count": 37,
      "outputs": [
        {
          "output_type": "stream",
          "name": "stdout",
          "text": [
            "[ 0.01472612  0.01568776  0.01620521 ... -0.00386158 -0.00348498\n",
            " -0.00338921]\n",
            "[-0.01472612 -0.01568776 -0.01620521 ...  0.00386158  0.00348498\n",
            "  0.00338921]\n"
          ]
        },
        {
          "output_type": "display_data",
          "data": {
            "image/png": "[encoded data removed]",
            "text/plain": [
              "<Figure size 432x288 with 2 Axes>"
            ]
          },
          "metadata": {
            "needs_background": "light"
          }
        }
      ]
    },
    {
      "cell_type": "code",
      "metadata": {
        "colab": {
          "base_uri": "https://localhost:8080/",
          "height": 170
        },
        "id": "_PNBBZqMn80j",
        "outputId": "0c90297c-55d7-4baa-c4bb-e017609b715d"
      },
      "source": [
        "### Face Reconstruction ### \n",
        "# with 10 components\n",
        "\n",
        "reconstruct_hi_10 = reconstruct(A.T, eigvecs_hi[:,0:10])\n",
        "reconstruct_hi_10 = reconstruct_hi_10 + X_bar\n",
        "\n",
        "# with 50 components\n",
        "reconstruct_hi_50 = reconstruct(A.T, eigvecs_hi[:,0:50])   \n",
        "reconstruct_hi_50 = reconstruct_hi_50 + X_bar\n",
        "\n",
        "# with 100 components\n",
        "reconstruct_hi_100 = reconstruct(A.T, eigvecs_hi[:,0:100])   \n",
        "reconstruct_hi_100 = reconstruct_hi_100 + X_bar\n",
        "\n",
        "fig = plt.figure()\n",
        "ax1 = fig.add_subplot(141)\n",
        "ax1.set_title('Original Img')\n",
        "ax1.imshow(np.reshape(X_train[0,:],(46,56)).T, cmap = 'gist_gray')\t\n",
        "ax2 = fig.add_subplot(142)                \n",
        "ax2.set_title('Reconsturction_hi_10')\n",
        "ax2.imshow(np.reshape(reconstruct_hi_10[0,:],(46,56)).T, cmap = 'gist_gray')\n",
        "ax3 = fig.add_subplot(143)\n",
        "ax3.set_title('Reconsturction_hi_50')\n",
        "ax3.imshow(np.reshape(reconstruct_hi_50[0,:],(46,56)).T, cmap = 'gist_gray')\n",
        "ax4 = fig.add_subplot(144)\n",
        "ax4.set_title('Reconsturction_hi_100')\n",
        "ax4.imshow(np.reshape(reconstruct_hi_100[0,:],(46,56)).T, cmap = 'gist_gray')"
      ],
      "execution_count": 40,
      "outputs": [
        {
          "output_type": "stream",
          "name": "stdout",
          "text": [
            "653.1002589108444\n"
          ]
        },
        {
          "output_type": "display_data",
          "data": {
            "image/png": "[encoded data removed]",
            "text/plain": [
              "<Figure size 432x288 with 4 Axes>"
            ]
          },
          "metadata": {
            "needs_background": "light"
          }
        }
      ]
    }
  ]
}