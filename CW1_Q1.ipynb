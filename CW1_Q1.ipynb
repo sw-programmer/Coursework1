{
  "cells": [
    {
      "cell_type": "markdown",
      "metadata": {
        "colab_type": "text",
        "id": "view-in-github"
      },
      "source": [
        "<a href=\"https://colab.research.google.com/github/sw-programmer/Coursework1/blob/sangwoo/CW1_Q1.ipynb\" target=\"_parent\"><img src=\"https://colab.research.google.com/assets/colab-badge.svg\" alt=\"Open In Colab\"/></a>"
      ]
    },
    {
      "cell_type": "markdown",
      "metadata": {
        "id": "RiDpdqsG2EW4"
      },
      "source": [
        "#  **Coursework 1**\n",
        "\n",
        "1.   ### **Computationally Efficient Eigenfaces**\n",
        "2.   ### **Incremental PCA**\n",
        "3.   ### **PCA-LDA for Face Recognition**\n",
        "4.   ### **K-means codebook**\n",
        "5.   ### **RF classifier**\n",
        "\n",
        "\n",
        "**by 20190223\tSoohyun Ryu,\t20190247\tSangwoo Park**\n",
        "\n",
        "\n",
        "\n",
        "\n"
      ]
    },
    {
      "cell_type": "markdown",
      "metadata": {
        "id": "AvLRciu5QgA8"
      },
      "source": [
        "**1. Setting!**"
      ]
    },
    {
      "cell_type": "code",
      "execution_count": 2,
      "metadata": {
        "id": "DmFrSEqT2EW5"
      },
      "outputs": [],
      "source": [
        "import os\n",
        "import time\n",
        "# import torch\n",
        "# import torch.nn as nn\n",
        "# import torchvision.transforms as transforms\n",
        "# import matplotlib.pyplot as plt\n",
        "# import datetime\n",
        "# import math\n",
        "# import sys\n",
        "import pandas as pd\n",
        "import numpy as np\n",
        "import matplotlib.pyplot as plt\n",
        "from scipy import io\n",
        "from sklearn.model_selection import train_test_split"
      ]
    },
    {
      "cell_type": "code",
      "execution_count": 3,
      "metadata": {
        "colab": {
          "base_uri": "https://localhost:8080/"
        },
        "id": "bkTIgoexPBxA",
        "outputId": "2462e510-530a-4dea-a0db-38b32a028ec3"
      },
      "outputs": [
        {
          "name": "stdout",
          "output_type": "stream",
          "text": [
            "Mounted at /content/drive\n"
          ]
        }
      ],
      "source": [
        "from google.colab import drive\n",
        "drive.mount('/content/drive')"
      ]
    },
    {
      "cell_type": "code",
      "execution_count": 2,
      "metadata": {
        "colab": {
          "base_uri": "https://localhost:8080/"
        },
        "id": "PQz1q0Pdh0ZY",
        "outputId": "d321448d-9c68-4da0-bb42-97a224133fa9"
      },
      "outputs": [
        {
          "name": "stdout",
          "output_type": "stream",
          "text": [
            "dict_keys(['__header__', '__version__', '__globals__', 'X', 'l'])\n",
            "(2576, 520)\n"
          ]
        }
      ],
      "source": [
        "#mat_file = io.loadmat(\"/content/drive/MyDrive/CV_ML/CW1/face.mat\")\n",
        "mat_file = io.loadmat(\"./face.mat\")\n",
        "mat_X = mat_file['X']\n",
        "mat_Y = mat_file['l'][0]\n",
        "\n",
        "print(mat_file.keys()) \n",
        "print(mat_X.shape)                         # 총 52명. 각 10장의 사진. "
      ]
    },
    {
      "cell_type": "code",
      "execution_count": 3,
      "metadata": {
        "colab": {
          "base_uri": "https://localhost:8080/",
          "height": 546
        },
        "id": "EZ00poKQHwno",
        "outputId": "dedb4e64-96f8-411b-bc94-178db9ae9659"
      },
      "outputs": [
        {
          "ename": "NameError",
          "evalue": "name 'mat_X' is not defined",
          "output_type": "error",
          "traceback": [
            "\u001b[1;31m---------------------------------------------------------------------------\u001b[0m",
            "\u001b[1;31mNameError\u001b[0m                                 Traceback (most recent call last)",
            "\u001b[1;32m<ipython-input-3-21b031a0ab0d>\u001b[0m in \u001b[0;36m<module>\u001b[1;34m\u001b[0m\n\u001b[1;32m----> 1\u001b[1;33m \u001b[0mdf\u001b[0m \u001b[1;33m=\u001b[0m \u001b[0mpd\u001b[0m\u001b[1;33m.\u001b[0m\u001b[0mDataFrame\u001b[0m\u001b[1;33m(\u001b[0m\u001b[0mdata\u001b[0m\u001b[1;33m=\u001b[0m\u001b[0mmat_X\u001b[0m\u001b[1;33m)\u001b[0m\u001b[1;33m.\u001b[0m\u001b[0mtranspose\u001b[0m\u001b[1;33m(\u001b[0m\u001b[1;33m)\u001b[0m\u001b[1;33m\u001b[0m\u001b[1;33m\u001b[0m\u001b[0m\n\u001b[0m\u001b[0;32m      2\u001b[0m \u001b[0mdf\u001b[0m\u001b[1;33m[\u001b[0m\u001b[1;34m'label'\u001b[0m\u001b[1;33m]\u001b[0m \u001b[1;33m=\u001b[0m \u001b[0mmat_Y\u001b[0m                         \u001b[1;31m# row -> data, col -> feature\u001b[0m\u001b[1;33m\u001b[0m\u001b[1;33m\u001b[0m\u001b[0m\n\u001b[0;32m      3\u001b[0m \u001b[0mprint\u001b[0m\u001b[1;33m(\u001b[0m\u001b[0mdf\u001b[0m\u001b[1;33m)\u001b[0m\u001b[1;33m\u001b[0m\u001b[1;33m\u001b[0m\u001b[0m\n\u001b[0;32m      4\u001b[0m \u001b[1;33m\u001b[0m\u001b[0m\n\u001b[0;32m      5\u001b[0m \u001b[0mX\u001b[0m \u001b[1;33m=\u001b[0m \u001b[0mdf\u001b[0m\u001b[1;33m.\u001b[0m\u001b[0miloc\u001b[0m\u001b[1;33m[\u001b[0m\u001b[1;33m:\u001b[0m\u001b[1;33m,\u001b[0m \u001b[1;33m:\u001b[0m\u001b[1;33m-\u001b[0m\u001b[1;36m1\u001b[0m\u001b[1;33m]\u001b[0m\u001b[1;33m.\u001b[0m\u001b[0mvalues\u001b[0m\u001b[1;33m\u001b[0m\u001b[1;33m\u001b[0m\u001b[0m\n",
            "\u001b[1;31mNameError\u001b[0m: name 'mat_X' is not defined"
          ]
        }
      ],
      "source": [
        "df = pd.DataFrame(data=mat_X).transpose()\n",
        "df['label'] = mat_Y                         # row -> data, col -> feature\n",
        "print(df)\n",
        "\n",
        "X = df.iloc[:, :-1].values\n",
        "Y = df.iloc[:, -1].values # column 'Target'\n",
        "\n",
        "X_train, X_test, Y_train, Y_test = train_test_split( X, Y, test_size=0.2, random_state=35) #sklearn lib\n",
        "# test/train ratio = 0.2\n",
        "# random_state -> before dividing, seed for shuffling\n",
        "print(X_train.shape, X_test.shape, Y_train.shape, Y_test.shape)\n",
        "\n",
        "plt.imshow(np.reshape(X_train[0,:],(46,56)).T, cmap = 'gist_gray') # 그냥...어떻게 생겼나 궁금해서..."
      ]
    },
    {
      "cell_type": "code",
      "execution_count": 22,
      "metadata": {},
      "outputs": [],
      "source": [
        "plt.imsave('practice.png', np.reshape(X_train[0,:],(46,56)).T, cmap='gist_gray')"
      ]
    },
    {
      "cell_type": "markdown",
      "metadata": {
        "id": "ViTBzz6jUGM0"
      },
      "source": [
        "## **1. Computationally Efficient Eignefaces**\n",
        "\n"
      ]
    },
    {
      "cell_type": "code",
      "execution_count": 32,
      "metadata": {
        "id": "08Dial6zDJui"
      },
      "outputs": [],
      "source": [
        "# 평균 얼굴 계산 함수 \n",
        "def AvgCompute(X): \n",
        "  Xbar = np.mean(X, axis=0)  \n",
        "  matrix_A = X - Xbar \n",
        "  return matrix_A, Xbar\n",
        "\n",
        "# 고유값, 고유벡터 계산 함수\n",
        "def eig(S): \n",
        "  eig_vals, eig_vecs = np.linalg.eig(S) \n",
        "  sort_indices = np.argsort(eig_vals)[::-1] # 내림차순 정렬 \n",
        "  return eig_vals[sort_indices], eig_vecs[:, sort_indices]\n",
        "\n",
        "# Reconstruction에 쓰일 함수\n",
        "def reconstruct(X, PC): \n",
        "  return (X @ PC) @ PC.T\n",
        "\n",
        "# PCA 과정\n",
        "def PCA(X, num_components, low_dim = False): # X == train set, num_components == 선택할 eigen vector 개수\n",
        "  start = time.time()\n",
        "  N, D = X.shape \n",
        "  matrix_A, X_bar = AvgCompute(X)\n",
        "  if not low_dim:\n",
        "    S = (matrix_A.T @ matrix_A) / N\n",
        "  else:\n",
        "    S = (matrix_A @ matrix_A.T) / N\n",
        "\n",
        "  eig_vals, eig_vecs = eig(S)\n",
        "  principal_vals, principal_components = np.real(eig_vals[:num_components]), np.real(eig_vecs[:,:num_components]) \n",
        "  \n",
        "  if low_dim:\n",
        "    principal_components = matrix_A.T @ principal_components\n",
        "\n",
        "  reconst_X = reconstruct(matrix_A, principal_components) + X_bar \n",
        "  comp_time = time.time() - start\n",
        "  \n",
        "  return reconst_X, X_bar, principal_vals, principal_components, comp_time"
      ]
    },
    {
      "cell_type": "code",
      "execution_count": 17,
      "metadata": {
        "colab": {
          "base_uri": "https://localhost:8080/",
          "height": 319
        },
        "id": "hMC9_YPEYCR7",
        "outputId": "3f5eadef-6f50-4152-d6b1-b747dcff9d63"
      },
      "outputs": [
        {
          "name": "stdout",
          "output_type": "stream",
          "text": [
            "(2576,)\n",
            "(416, 2576)\n"
          ]
        },
        {
          "data": {
            "text/plain": [
              "<matplotlib.image.AxesImage at 0x1e580338af0>"
            ]
          },
          "execution_count": 17,
          "metadata": {},
          "output_type": "execute_result"
        },
        {
          "data": {
            "image/png": "[encoded data removed]",
            "text/plain": [
              "<Figure size 432x288 with 1 Axes>"
            ]
          },
          "metadata": {
            "needs_background": "light"
          },
          "output_type": "display_data"
        }
      ],
      "source": [
        "# mean image\n",
        "A, X_bar = AvgCompute(X_train)\n",
        "print(X_bar.shape)\n",
        "print(A.shape)\n",
        "\n",
        "plt.imshow(np.reshape(X_bar,(46,56)).T, cmap = 'gist_gray') # 평균 얼굴 출력"
      ]
    },
    {
      "cell_type": "code",
      "execution_count": 7,
      "metadata": {
        "colab": {
          "base_uri": "https://localhost:8080/"
        },
        "id": "3iC58f_Qh4d9",
        "outputId": "c551c4b8-ac4a-4b8f-eab2-317ed0f75a8e"
      },
      "outputs": [
        {
          "name": "stdout",
          "output_type": "stream",
          "text": [
            "(2576,)\n",
            "(2576, 2576)\n"
          ]
        }
      ],
      "source": [
        "# 1. S=(1/N)AAT 방식\n",
        "row, col = X_train.shape\n",
        "S = (A.T @ A) / row\n",
        "eig_vals_high, eig_vecs_high = eig(S) # High dimnesional\n",
        "eig_vals_high = np.real(eig_vals_high)\n",
        "eig_vecs_high = np.real(eig_vecs_high)\n",
        "\n",
        "print(eig_vals_high.shape)\n",
        "print(eig_vecs_high.shape)"
      ]
    },
    {
      "cell_type": "markdown",
      "metadata": {
        "id": "QiO15oF-mYHS"
      },
      "source": [
        "* Pros : 보다 정확\n",
        "* Cons : Ineffieciency of Computation"
      ]
    },
    {
      "cell_type": "code",
      "execution_count": 14,
      "metadata": {
        "colab": {
          "base_uri": "https://localhost:8080/"
        },
        "id": "fsdeit4WcTRC",
        "outputId": "8e484955-6609-4844-ca9d-e528ed36d73c"
      },
      "outputs": [
        {
          "name": "stdout",
          "output_type": "stream",
          "text": [
            "(416,)\n",
            "(2576, 416)\n"
          ]
        }
      ],
      "source": [
        "# 2.  (1/N)ATA 방식\n",
        "S = (A @ A.T) / row\n",
        "eig_vals_low, eig_vecs_low = eig(S) # Low dimnesional\n",
        "eig_vals_low = np.real(eig_vals_low)\n",
        "eig_vecs_low = np.real(eig_vecs_low)\n",
        "eig_vecs_low = A.T @ eig_vecs_low\n",
        "\n",
        "print(eig_vals_low.shape)\n",
        "print(eig_vecs_low.shape)"
      ]
    },
    {
      "cell_type": "markdown",
      "metadata": {
        "id": "xsB8Zzuul1vZ"
      },
      "source": [
        "* Pros : Effieciency of Computation\n",
        "* Cons : 선택할 수 있는 EigenVector 수가 적다(?) -> Less accurate\n",
        "\n"
      ]
    },
    {
      "cell_type": "code",
      "execution_count": 15,
      "metadata": {
        "colab": {
          "base_uri": "https://localhost:8080/",
          "height": 299
        },
        "id": "L3STPrLAlsDe",
        "outputId": "44347823-d530-4f2b-bd2b-16924993715d"
      },
      "outputs": [
        {
          "name": "stdout",
          "output_type": "stream",
          "text": [
            "\n"
          ]
        },
        {
          "data": {
            "image/png": "[encoded data removed]",
            "text/plain": [
              "<Figure size 432x288 with 2 Axes>"
            ]
          },
          "metadata": {
            "needs_background": "light"
          },
          "output_type": "display_data"
        }
      ],
      "source": [
        "fig = plt.figure()\n",
        "ax1 = fig.add_subplot(211)\n",
        "plt.title('Low_Dim')\n",
        "ax1.plot(range(0,416), eig_vals_low, color='orange')\t\n",
        "ax2 = fig.add_subplot(212)\n",
        "plt.title('High_Dim')\n",
        "ax2.plot(range(0,416), eig_vals_high[:416])\t # 두 eigenvalue 그래프가 동일함\n",
        "\n",
        "fig.tight_layout(pad=2.0)\n",
        "\n",
        "print()"
      ]
    },
    {
      "cell_type": "code",
      "execution_count": null,
      "metadata": {},
      "outputs": [],
      "source": [
        "# number of PCA bases 바꾸면서 reconstruction error 측정\n",
        "max_num = 200\n",
        "start_num = 10\n",
        "error_list = []\n",
        "computation_time = []\n",
        "\n",
        "os.makedirs(\"./PCA_org\", exist_ok=True)\n",
        "os.makedirs(\"./PCA_low_dim\", exist_ok=True)\n",
        "\n",
        "# Original PCA / Low-dim PCA\n",
        "low_dim=False\n",
        "# low_dim=True\n",
        "if low_dim:\n",
        "    root_path = \"./PCA_low_dim\"\n",
        "else:\n",
        "    root_path = \"./PCA_org\"\n",
        "\n",
        "for i in range(start_num, max_num+1):\n",
        "    reconst_X, X_bar, principal_vals, principal_components, comp_time = PCA(X_train, i, low_dim)\n",
        "    recon_loss = np.linalg.norm((X_train - reconst_X), None)\n",
        "    error_list.append(recon_loss)\n",
        "    computation_time.append(comp_time)\n",
        "    # To see the reconstructed images\n",
        "    plt.imsave(f\"{root_path}/{i}_recon.png\", np.reshape(reconst_X[0,:],(46,56)).T, cmap = 'gist_gray')\n",
        "    print(f\"{i-start_num+1}/{max_num-start_num+1}\")\n",
        "\n",
        "if not low_dim:\n",
        "    PCA_name = \"Original PCA\"\n",
        "else:\n",
        "    PCA_name = \"Low-dim PCA\"\n",
        "\n",
        "x_axis = list(range(start_num, max_num+1))\n",
        "fig_recon, ax_recon = plt.subplots(2,1)\n",
        "ax_recon[0].plot(x_axis, error_list)\n",
        "ax_recon[0].set_xlabel(\"number of PCA bases\")\n",
        "ax_recon[0].set_ylabel(\"reconstruction error\")\n",
        "ax_recon[0].set_title(f\"Reconstruction error of {PCA_name}\")\n",
        "\n",
        "ax_recon[1].plot(x_axis, computation_time)\n",
        "ax_recon[1].set_xlabel(\"number of PCA bases\")\n",
        "ax_recon[1].set_ylabel(\"computation time\")\n",
        "ax_recon[1].set_title(f\"Computation time of {PCA_name}\")\n",
        "\n",
        "fig_recon.tight_layout(pad=2.0)\n",
        "\n",
        "plt.show()\n",
        "\n",
        "print(f\"average computation time = {np.mean(computation_time)}\")"
      ]
    }
  ],
  "metadata": {
    "accelerator": "GPU",
    "colab": {
      "collapsed_sections": [],
      "include_colab_link": true,
      "name": "CW1.ipynb",
      "provenance": []
    },
    "interpreter": {
      "hash": "d5d6455245eaf2d3a0cefd1d4e544c90a6d9a7d66e780d97de78b5ceeb836907"
    },
    "kernelspec": {
      "display_name": "Python 3.8.10 64-bit ('study': conda)",
      "name": "python3"
    },
    "language_info": {
      "codemirror_mode": {
        "name": "ipython",
        "version": 3
      },
      "file_extension": ".py",
      "mimetype": "text/x-python",
      "name": "python",
      "nbconvert_exporter": "python",
      "pygments_lexer": "ipython3",
      "version": "3.8.10"
    },
    "orig_nbformat": 2
  },
  "nbformat": 4,
  "nbformat_minor": 0
}
